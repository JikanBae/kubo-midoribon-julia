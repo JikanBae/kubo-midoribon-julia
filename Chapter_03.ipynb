{
 "cells": [
  {
   "cell_type": "markdown",
   "metadata": {},
   "source": [
    "久保拓弥『データ解析のための統計モデリング入門』をJuliaでやってみます。\n",
    "\n",
    "* 久保さんの書籍ページ：http://hosho.ees.hokudai.ac.jp/~kubo/ce/IwanamiBook.html\n",
    "* Amazon.co.jp：https://amzn.to/2Cg5vDJ\n",
    "\n",
    "# 第3章 一般化線型モデル（GLM）---ポアソン回帰---"
   ]
  },
  {
   "cell_type": "code",
   "execution_count": 1,
   "metadata": {},
   "outputs": [
    {
     "name": "stdout",
     "output_type": "stream",
     "text": [
      "Julia Version 1.1.0\n",
      "Commit 80516ca202 (2019-01-21 21:24 UTC)\n",
      "Platform Info:\n",
      "  OS: macOS (x86_64-apple-darwin14.5.0)\n",
      "  CPU: Intel(R) Core(TM) i7-7920HQ CPU @ 3.10GHz\n",
      "  WORD_SIZE: 64\n",
      "  LIBM: libopenlibm\n",
      "  LLVM: libLLVM-6.0.1 (ORCJIT, skylake)\n"
     ]
    }
   ],
   "source": [
    "using CSV\n",
    "using DataFrames\n",
    "using GLM\n",
    "using Plots\n",
    "pyplot();\n",
    "using Distributions\n",
    "using StatsPlots\n",
    "versioninfo()"
   ]
  },
  {
   "cell_type": "markdown",
   "metadata": {},
   "source": [
    "## 3.2 観測されたデータの概要を調べる（p.41）\n",
    "\n",
    "説明変数として体サイズ（$x_i$）と施肥効果（$f_i$）、応答変数として種子数（$y_i$）があるとする。"
   ]
  },
  {
   "cell_type": "code",
   "execution_count": 2,
   "metadata": {
    "scrolled": true
   },
   "outputs": [
    {
     "data": {
      "text/html": [
       "<table class=\"data-frame\"><thead><tr><th></th><th>y</th><th>x</th><th>f</th></tr><tr><th></th><th>Int64⍰</th><th>Float64⍰</th><th>String⍰</th></tr></thead><tbody><p>100 rows × 3 columns</p><tr><th>1</th><td>6</td><td>8.31</td><td>C</td></tr><tr><th>2</th><td>6</td><td>9.44</td><td>C</td></tr><tr><th>3</th><td>6</td><td>9.5</td><td>C</td></tr><tr><th>4</th><td>12</td><td>9.07</td><td>C</td></tr><tr><th>5</th><td>10</td><td>10.16</td><td>C</td></tr><tr><th>6</th><td>4</td><td>8.32</td><td>C</td></tr><tr><th>7</th><td>9</td><td>10.61</td><td>C</td></tr><tr><th>8</th><td>9</td><td>10.06</td><td>C</td></tr><tr><th>9</th><td>9</td><td>9.93</td><td>C</td></tr><tr><th>10</th><td>11</td><td>10.43</td><td>C</td></tr><tr><th>11</th><td>6</td><td>10.36</td><td>C</td></tr><tr><th>12</th><td>10</td><td>10.15</td><td>C</td></tr><tr><th>13</th><td>6</td><td>10.92</td><td>C</td></tr><tr><th>14</th><td>10</td><td>8.85</td><td>C</td></tr><tr><th>15</th><td>11</td><td>9.42</td><td>C</td></tr><tr><th>16</th><td>8</td><td>11.11</td><td>C</td></tr><tr><th>17</th><td>3</td><td>8.02</td><td>C</td></tr><tr><th>18</th><td>8</td><td>11.93</td><td>C</td></tr><tr><th>19</th><td>5</td><td>8.55</td><td>C</td></tr><tr><th>20</th><td>5</td><td>7.19</td><td>C</td></tr><tr><th>21</th><td>4</td><td>9.83</td><td>C</td></tr><tr><th>22</th><td>11</td><td>10.79</td><td>C</td></tr><tr><th>23</th><td>5</td><td>8.89</td><td>C</td></tr><tr><th>24</th><td>10</td><td>10.09</td><td>C</td></tr><tr><th>25</th><td>6</td><td>11.63</td><td>C</td></tr><tr><th>26</th><td>6</td><td>10.21</td><td>C</td></tr><tr><th>27</th><td>7</td><td>9.45</td><td>C</td></tr><tr><th>28</th><td>9</td><td>10.44</td><td>C</td></tr><tr><th>29</th><td>3</td><td>9.44</td><td>C</td></tr><tr><th>30</th><td>10</td><td>10.48</td><td>C</td></tr><tr><th>31</th><td>2</td><td>9.43</td><td>C</td></tr><tr><th>32</th><td>9</td><td>10.32</td><td>C</td></tr><tr><th>33</th><td>10</td><td>10.33</td><td>C</td></tr><tr><th>34</th><td>5</td><td>8.5</td><td>C</td></tr><tr><th>35</th><td>11</td><td>9.41</td><td>C</td></tr><tr><th>36</th><td>10</td><td>8.96</td><td>C</td></tr><tr><th>37</th><td>4</td><td>9.67</td><td>C</td></tr><tr><th>38</th><td>8</td><td>10.26</td><td>C</td></tr><tr><th>39</th><td>9</td><td>10.36</td><td>C</td></tr><tr><th>40</th><td>12</td><td>11.8</td><td>C</td></tr><tr><th>41</th><td>8</td><td>10.94</td><td>C</td></tr><tr><th>42</th><td>9</td><td>10.25</td><td>C</td></tr><tr><th>43</th><td>8</td><td>8.74</td><td>C</td></tr><tr><th>44</th><td>6</td><td>10.46</td><td>C</td></tr><tr><th>45</th><td>6</td><td>9.37</td><td>C</td></tr><tr><th>46</th><td>10</td><td>9.74</td><td>C</td></tr><tr><th>47</th><td>10</td><td>8.95</td><td>C</td></tr><tr><th>48</th><td>9</td><td>8.74</td><td>C</td></tr><tr><th>49</th><td>12</td><td>11.32</td><td>C</td></tr><tr><th>50</th><td>6</td><td>9.25</td><td>C</td></tr><tr><th>51</th><td>14</td><td>10.14</td><td>T</td></tr><tr><th>52</th><td>6</td><td>9.05</td><td>T</td></tr><tr><th>53</th><td>7</td><td>9.89</td><td>T</td></tr><tr><th>54</th><td>9</td><td>8.76</td><td>T</td></tr><tr><th>55</th><td>6</td><td>12.04</td><td>T</td></tr><tr><th>56</th><td>7</td><td>9.91</td><td>T</td></tr><tr><th>57</th><td>9</td><td>9.84</td><td>T</td></tr><tr><th>58</th><td>13</td><td>11.87</td><td>T</td></tr><tr><th>59</th><td>9</td><td>10.16</td><td>T</td></tr><tr><th>60</th><td>13</td><td>9.34</td><td>T</td></tr><tr><th>61</th><td>7</td><td>10.17</td><td>T</td></tr><tr><th>62</th><td>8</td><td>10.99</td><td>T</td></tr><tr><th>&vellip;</th><td>&vellip;</td><td>&vellip;</td><td>&vellip;</td></tr></tbody></table>"
      ],
      "text/latex": [
       "\\begin{tabular}{r|ccc}\n",
       "\t& y & x & f\\\\\n",
       "\t\\hline\n",
       "\t& Int64⍰ & Float64⍰ & String⍰\\\\\n",
       "\t\\hline\n",
       "\t1 & 6 & 8.31 & C \\\\\n",
       "\t2 & 6 & 9.44 & C \\\\\n",
       "\t3 & 6 & 9.5 & C \\\\\n",
       "\t4 & 12 & 9.07 & C \\\\\n",
       "\t5 & 10 & 10.16 & C \\\\\n",
       "\t6 & 4 & 8.32 & C \\\\\n",
       "\t7 & 9 & 10.61 & C \\\\\n",
       "\t8 & 9 & 10.06 & C \\\\\n",
       "\t9 & 9 & 9.93 & C \\\\\n",
       "\t10 & 11 & 10.43 & C \\\\\n",
       "\t11 & 6 & 10.36 & C \\\\\n",
       "\t12 & 10 & 10.15 & C \\\\\n",
       "\t13 & 6 & 10.92 & C \\\\\n",
       "\t14 & 10 & 8.85 & C \\\\\n",
       "\t15 & 11 & 9.42 & C \\\\\n",
       "\t16 & 8 & 11.11 & C \\\\\n",
       "\t17 & 3 & 8.02 & C \\\\\n",
       "\t18 & 8 & 11.93 & C \\\\\n",
       "\t19 & 5 & 8.55 & C \\\\\n",
       "\t20 & 5 & 7.19 & C \\\\\n",
       "\t21 & 4 & 9.83 & C \\\\\n",
       "\t22 & 11 & 10.79 & C \\\\\n",
       "\t23 & 5 & 8.89 & C \\\\\n",
       "\t24 & 10 & 10.09 & C \\\\\n",
       "\t25 & 6 & 11.63 & C \\\\\n",
       "\t26 & 6 & 10.21 & C \\\\\n",
       "\t27 & 7 & 9.45 & C \\\\\n",
       "\t28 & 9 & 10.44 & C \\\\\n",
       "\t29 & 3 & 9.44 & C \\\\\n",
       "\t30 & 10 & 10.48 & C \\\\\n",
       "\t31 & 2 & 9.43 & C \\\\\n",
       "\t32 & 9 & 10.32 & C \\\\\n",
       "\t33 & 10 & 10.33 & C \\\\\n",
       "\t34 & 5 & 8.5 & C \\\\\n",
       "\t35 & 11 & 9.41 & C \\\\\n",
       "\t36 & 10 & 8.96 & C \\\\\n",
       "\t37 & 4 & 9.67 & C \\\\\n",
       "\t38 & 8 & 10.26 & C \\\\\n",
       "\t39 & 9 & 10.36 & C \\\\\n",
       "\t40 & 12 & 11.8 & C \\\\\n",
       "\t41 & 8 & 10.94 & C \\\\\n",
       "\t42 & 9 & 10.25 & C \\\\\n",
       "\t43 & 8 & 8.74 & C \\\\\n",
       "\t44 & 6 & 10.46 & C \\\\\n",
       "\t45 & 6 & 9.37 & C \\\\\n",
       "\t46 & 10 & 9.74 & C \\\\\n",
       "\t47 & 10 & 8.95 & C \\\\\n",
       "\t48 & 9 & 8.74 & C \\\\\n",
       "\t49 & 12 & 11.32 & C \\\\\n",
       "\t50 & 6 & 9.25 & C \\\\\n",
       "\t51 & 14 & 10.14 & T \\\\\n",
       "\t52 & 6 & 9.05 & T \\\\\n",
       "\t53 & 7 & 9.89 & T \\\\\n",
       "\t54 & 9 & 8.76 & T \\\\\n",
       "\t55 & 6 & 12.04 & T \\\\\n",
       "\t56 & 7 & 9.91 & T \\\\\n",
       "\t57 & 9 & 9.84 & T \\\\\n",
       "\t58 & 13 & 11.87 & T \\\\\n",
       "\t59 & 9 & 10.16 & T \\\\\n",
       "\t60 & 13 & 9.34 & T \\\\\n",
       "\t61 & 7 & 10.17 & T \\\\\n",
       "\t62 & 8 & 10.99 & T \\\\\n",
       "\t$\\dots$ & $\\dots$ & $\\dots$ & $\\dots$ \\\\\n",
       "\\end{tabular}\n"
      ],
      "text/plain": [
       "100×3 DataFrame\n",
       "│ Row │ y      │ x        │ f       │\n",
       "│     │ \u001b[90mInt64⍰\u001b[39m │ \u001b[90mFloat64⍰\u001b[39m │ \u001b[90mString⍰\u001b[39m │\n",
       "├─────┼────────┼──────────┼─────────┤\n",
       "│ 1   │ 6      │ 8.31     │ C       │\n",
       "│ 2   │ 6      │ 9.44     │ C       │\n",
       "│ 3   │ 6      │ 9.5      │ C       │\n",
       "│ 4   │ 12     │ 9.07     │ C       │\n",
       "│ 5   │ 10     │ 10.16    │ C       │\n",
       "│ 6   │ 4      │ 8.32     │ C       │\n",
       "│ 7   │ 9      │ 10.61    │ C       │\n",
       "│ 8   │ 9      │ 10.06    │ C       │\n",
       "│ 9   │ 9      │ 9.93     │ C       │\n",
       "│ 10  │ 11     │ 10.43    │ C       │\n",
       "│ 11  │ 6      │ 10.36    │ C       │\n",
       "│ 12  │ 10     │ 10.15    │ C       │\n",
       "│ 13  │ 6      │ 10.92    │ C       │\n",
       "│ 14  │ 10     │ 8.85     │ C       │\n",
       "│ 15  │ 11     │ 9.42     │ C       │\n",
       "│ 16  │ 8      │ 11.11    │ C       │\n",
       "│ 17  │ 3      │ 8.02     │ C       │\n",
       "│ 18  │ 8      │ 11.93    │ C       │\n",
       "│ 19  │ 5      │ 8.55     │ C       │\n",
       "│ 20  │ 5      │ 7.19     │ C       │\n",
       "│ 21  │ 4      │ 9.83     │ C       │\n",
       "│ 22  │ 11     │ 10.79    │ C       │\n",
       "│ 23  │ 5      │ 8.89     │ C       │\n",
       "│ 24  │ 10     │ 10.09    │ C       │\n",
       "│ 25  │ 6      │ 11.63    │ C       │\n",
       "│ 26  │ 6      │ 10.21    │ C       │\n",
       "⋮\n",
       "│ 74  │ 7      │ 10.18    │ T       │\n",
       "│ 75  │ 5      │ 9.53     │ T       │\n",
       "│ 76  │ 6      │ 10.24    │ T       │\n",
       "│ 77  │ 8      │ 11.76    │ T       │\n",
       "│ 78  │ 9      │ 9.52     │ T       │\n",
       "│ 79  │ 9      │ 10.4     │ T       │\n",
       "│ 80  │ 6      │ 9.96     │ T       │\n",
       "│ 81  │ 7      │ 10.3     │ T       │\n",
       "│ 82  │ 10     │ 11.54    │ T       │\n",
       "│ 83  │ 6      │ 9.42     │ T       │\n",
       "│ 84  │ 11     │ 11.28    │ T       │\n",
       "│ 85  │ 11     │ 9.73     │ T       │\n",
       "│ 86  │ 11     │ 10.78    │ T       │\n",
       "│ 87  │ 5      │ 10.21    │ T       │\n",
       "│ 88  │ 6      │ 10.51    │ T       │\n",
       "│ 89  │ 4      │ 10.73    │ T       │\n",
       "│ 90  │ 5      │ 8.85     │ T       │\n",
       "│ 91  │ 6      │ 11.2     │ T       │\n",
       "│ 92  │ 5      │ 9.86     │ T       │\n",
       "│ 93  │ 8      │ 11.54    │ T       │\n",
       "│ 94  │ 5      │ 10.03    │ T       │\n",
       "│ 95  │ 9      │ 11.88    │ T       │\n",
       "│ 96  │ 8      │ 9.15     │ T       │\n",
       "│ 97  │ 6      │ 8.52     │ T       │\n",
       "│ 98  │ 8      │ 10.24    │ T       │\n",
       "│ 99  │ 7      │ 10.86    │ T       │\n",
       "│ 100 │ 9      │ 9.97     │ T       │"
      ]
     },
     "execution_count": 2,
     "metadata": {},
     "output_type": "execute_result"
    }
   ],
   "source": [
    "d = CSV.read(\"data3a.csv\")"
   ]
  },
  {
   "cell_type": "code",
   "execution_count": 3,
   "metadata": {},
   "outputs": [
    {
     "data": {
      "text/html": [
       "<table class=\"data-frame\"><thead><tr><th></th><th>variable</th><th>mean</th><th>min</th><th>median</th><th>max</th><th>nunique</th><th>nmissing</th><th>eltype</th></tr><tr><th></th><th>Symbol</th><th>Union…</th><th>Any</th><th>Union…</th><th>Any</th><th>Union…</th><th>Int64</th><th>DataType</th></tr></thead><tbody><p>3 rows × 8 columns</p><tr><th>1</th><td>y</td><td>7.83</td><td>2</td><td>8.0</td><td>15</td><td></td><td>0</td><td>Int64</td></tr><tr><th>2</th><td>x</td><td>10.0891</td><td>7.19</td><td>10.155</td><td>12.4</td><td></td><td>0</td><td>Float64</td></tr><tr><th>3</th><td>f</td><td></td><td>C</td><td></td><td>T</td><td>2</td><td>0</td><td>String</td></tr></tbody></table>"
      ],
      "text/latex": [
       "\\begin{tabular}{r|cccccccc}\n",
       "\t& variable & mean & min & median & max & nunique & nmissing & eltype\\\\\n",
       "\t\\hline\n",
       "\t& Symbol & Union… & Any & Union… & Any & Union… & Int64 & DataType\\\\\n",
       "\t\\hline\n",
       "\t1 & y & 7.83 & 2 & 8.0 & 15 &  & 0 & Int64 \\\\\n",
       "\t2 & x & 10.0891 & 7.19 & 10.155 & 12.4 &  & 0 & Float64 \\\\\n",
       "\t3 & f &  & C &  & T & 2 & 0 & String \\\\\n",
       "\\end{tabular}\n"
      ],
      "text/plain": [
       "3×8 DataFrame\n",
       "│ Row │ variable │ mean    │ min  │ median │ max  │ nunique │ nmissing │ eltype   │\n",
       "│     │ \u001b[90mSymbol\u001b[39m   │ \u001b[90mUnion…\u001b[39m  │ \u001b[90mAny\u001b[39m  │ \u001b[90mUnion…\u001b[39m │ \u001b[90mAny\u001b[39m  │ \u001b[90mUnion…\u001b[39m  │ \u001b[90mInt64\u001b[39m    │ \u001b[90mDataType\u001b[39m │\n",
       "├─────┼──────────┼─────────┼──────┼────────┼──────┼─────────┼──────────┼──────────┤\n",
       "│ 1   │ y        │ 7.83    │ 2    │ 8.0    │ 15   │         │ 0        │ Int64    │\n",
       "│ 2   │ x        │ 10.0891 │ 7.19 │ 10.155 │ 12.4 │         │ 0        │ Float64  │\n",
       "│ 3   │ f        │         │ C    │        │ T    │ 2       │ 0        │ String   │"
      ]
     },
     "execution_count": 3,
     "metadata": {},
     "output_type": "execute_result"
    }
   ],
   "source": [
    "DataFrames.describe(d)   # Rのsummaryっぽいやつ"
   ]
  },
  {
   "cell_type": "code",
   "execution_count": 4,
   "metadata": {
    "scrolled": true
   },
   "outputs": [
    {
     "data": {
      "text/plain": [
       "100-element Array{Union{Missing, Float64},1}:\n",
       "  8.31\n",
       "  9.44\n",
       "  9.5 \n",
       "  9.07\n",
       " 10.16\n",
       "  8.32\n",
       " 10.61\n",
       " 10.06\n",
       "  9.93\n",
       " 10.43\n",
       " 10.36\n",
       " 10.15\n",
       " 10.92\n",
       "  8.85\n",
       "  9.42\n",
       " 11.11\n",
       "  8.02\n",
       " 11.93\n",
       "  8.55\n",
       "  7.19\n",
       "  9.83\n",
       " 10.79\n",
       "  8.89\n",
       " 10.09\n",
       " 11.63\n",
       " 10.21\n",
       "  9.45\n",
       " 10.44\n",
       "  9.44\n",
       "  ⋮   \n",
       " 12.4 \n",
       " 10.18\n",
       "  9.53\n",
       " 10.24\n",
       " 11.76\n",
       "  9.52\n",
       " 10.4 \n",
       "  9.96\n",
       " 10.3 \n",
       " 11.54\n",
       "  9.42\n",
       " 11.28\n",
       "  9.73\n",
       " 10.78\n",
       " 10.21\n",
       " 10.51\n",
       " 10.73\n",
       "  8.85\n",
       " 11.2 \n",
       "  9.86\n",
       " 11.54\n",
       " 10.03\n",
       " 11.88\n",
       "  9.15\n",
       "  8.52\n",
       " 10.24\n",
       " 10.86\n",
       "  9.97"
      ]
     },
     "execution_count": 4,
     "metadata": {},
     "output_type": "execute_result"
    }
   ],
   "source": [
    "d.x"
   ]
  },
  {
   "cell_type": "code",
   "execution_count": 5,
   "metadata": {},
   "outputs": [
    {
     "data": {
      "text/plain": [
       "DataFrame"
      ]
     },
     "execution_count": 5,
     "metadata": {},
     "output_type": "execute_result"
    }
   ],
   "source": [
    "typeof(d)"
   ]
  },
  {
   "cell_type": "code",
   "execution_count": 6,
   "metadata": {},
   "outputs": [
    {
     "data": {
      "text/plain": [
       "Array{Union{Missing, Float64},1}"
      ]
     },
     "execution_count": 6,
     "metadata": {},
     "output_type": "execute_result"
    }
   ],
   "source": [
    "typeof(d[:x])"
   ]
  },
  {
   "cell_type": "code",
   "execution_count": 7,
   "metadata": {},
   "outputs": [
    {
     "data": {
      "text/plain": [
       "Array{Union{Missing, String},1}"
      ]
     },
     "execution_count": 7,
     "metadata": {},
     "output_type": "execute_result"
    }
   ],
   "source": [
    "typeof(d[:f])"
   ]
  },
  {
   "cell_type": "markdown",
   "metadata": {},
   "source": [
    "## 3.3 統計モデリングの前にデータを図示する（p.44）"
   ]
  },
  {
   "cell_type": "code",
   "execution_count": 8,
   "metadata": {},
   "outputs": [
    {
     "data": {
      "image/png": "[encoded data removed]"
     },
     "execution_count": 8,
     "metadata": {},
     "output_type": "execute_result"
    }
   ],
   "source": [
    "# 素のままのPlots.jlを使った場合\n",
    "scatter(reshape(d[:x], (50, 2)), reshape(d[:y], (50, 2)), label=[\"C\", \"T\"], legend=:topleft)"
   ]
  },
  {
   "cell_type": "code",
   "execution_count": 9,
   "metadata": {},
   "outputs": [
    {
     "data": {
      "image/png": "[encoded data removed]"
     },
     "execution_count": 9,
     "metadata": {},
     "output_type": "execute_result"
    }
   ],
   "source": [
    "# StatPlots.jlを使った場合\n",
    "@df d scatter(:x, :y, group=:f)"
   ]
  },
  {
   "cell_type": "code",
   "execution_count": 10,
   "metadata": {},
   "outputs": [
    {
     "data": {
      "image/png": "[encoded data removed]"
     },
     "execution_count": 10,
     "metadata": {},
     "output_type": "execute_result"
    }
   ],
   "source": [
    "@df d boxplot(:f, :y, legend=false)"
   ]
  },
  {
   "cell_type": "markdown",
   "metadata": {},
   "source": [
    "### 3.4.1 線形予測子と対数リンク関数（p.47）\n",
    "\n",
    "たとえばある個体$i$の平均種子数$\\lambda_i$が\n",
    "\n",
    "$$ \\lambda_i = \\exp\\left(\\beta_1 + \\beta_2 x_i\\right) $$\n",
    "\n",
    "とあらわせるとき、これを\n",
    "\n",
    "$$ \\log_e\\lambda_i = \\beta_1 + \\beta_2 x_i $$\n",
    "\n",
    "と変形し、右辺（$\\beta_1 + \\beta_2 x_i$）が**線形予測子**（_linear predictor_）、左辺の関数（$\\log_e$）が**リンク関数**（_link function_）となる。"
   ]
  },
  {
   "cell_type": "code",
   "execution_count": 11,
   "metadata": {},
   "outputs": [
    {
     "data": {
      "image/png": "[encoded data removed]"
     },
     "execution_count": 11,
     "metadata": {},
     "output_type": "execute_result"
    }
   ],
   "source": [
    "x = range(-4, stop=5, length=1001);\n",
    "plot(x, exp.(-2 .+ -0.8x), label=\"{b1, b2} = {-2, -0.8}\",\n",
    "  xlabel=\"body size x_i\", ylabel=\"lambda_i\")\n",
    "plot!(x, exp.(-1 .+ 0.4x), label=\"{b1, b2} = {-1, 0.4}\")\n",
    "vline!([0], color=:grey, linestyle=:dash, label=\"\")"
   ]
  },
  {
   "cell_type": "markdown",
   "metadata": {},
   "source": [
    "### 3.4.2 あてはめとあてはまりの良さ（p.49）\n",
    "\n",
    "モデルを格納する変数名に`fit`を使うと関数名とバッティングするので、ここでは`fit1`を使用している。"
   ]
  },
  {
   "cell_type": "code",
   "execution_count": null,
   "metadata": {},
   "outputs": [],
   "source": [
    "fit1 = glm(\n",
    "    @formula(y ~ x),   # モデル式\n",
    "    d,                 # データフレームの指定\n",
    "    Poisson(),         # 確率分布の指定\n",
    "    LogLink())         # リンク関数の指定"
   ]
  },
  {
   "cell_type": "code",
   "execution_count": null,
   "metadata": {},
   "outputs": [],
   "source": [
    "# 推定値\n",
    "fit1.model.pp.beta0"
   ]
  },
  {
   "cell_type": "code",
   "execution_count": null,
   "metadata": {},
   "outputs": [],
   "source": [
    "# Figure 3.6\n",
    "th = range(-0.2, stop=1.6, length=1001);\n",
    "plot(th, pdf.(Normal(1.29172, 0.363686), th), label=\"beta1\")\n",
    "plot!(th, pdf.(Normal(0.0756619, 0.0356042), th), label=\"beta2\")\n",
    "plot!(th[th .<= 0], pdf.(Normal(0.0756619, 0.0356042), th[th .<= 0]), linealpha=0, fill=(0, 0.5, :orange), label=\"\")\n",
    "vline!([0], color=:grey, linestyle=:dash, label=\"\")"
   ]
  },
  {
   "cell_type": "code",
   "execution_count": null,
   "metadata": {},
   "outputs": [],
   "source": [
    "# 最大対数尤度（maximum log likelihood）...あてはまりの良さ（goodness of fit）とも\n",
    "loglikelihood(fit1)"
   ]
  },
  {
   "cell_type": "markdown",
   "metadata": {},
   "source": [
    "### 3.4.3 ポアソン回帰モデルによる予測（p.53）\n",
    "$ \\lambda = \\exp\\left(\\beta_1 + \\beta_2 x\\right) $をプロットしてみる。"
   ]
  },
  {
   "cell_type": "code",
   "execution_count": null,
   "metadata": {},
   "outputs": [],
   "source": [
    "xx = range(minimum(d[:x]), stop=maximum(d[:x]), length=100)\n",
    "scatter(reshape(d[:x], (50, 2)), reshape(d[:y], (50, 2)), label=[\"C\", \"T\"], xlabel=\"d[:x]\", ylabel=\"d[:y]\", legend=:topleft)\n",
    "plot!(xx, exp.(1.29172 .+ 0.0756619 * xx), linewidth=2, label=\"\")"
   ]
  },
  {
   "cell_type": "code",
   "execution_count": null,
   "metadata": {},
   "outputs": [],
   "source": [
    "# predictを使う方法\n",
    "xx = range(minimum(d[:x]), stop=maximum(d[:x]), length=100)\n",
    "yy = predict(fit1, DataFrame(x=xx))\n",
    "scatter(reshape(d[:x], (50, 2)), reshape(d[:y], (50, 2)), label=[\"C\", \"T\"], xlabel=\"d[:x]\", ylabel=\"d[:y]\", legend=:topleft)\n",
    "plot!(xx, yy, linewidth=2, label=\"\")"
   ]
  },
  {
   "cell_type": "markdown",
   "metadata": {
    "inputHidden": false,
    "outputHidden": false
   },
   "source": [
    "## 3.5 説明変数が因子型の統計モデル（p.54）\n",
    "\n",
    "$$ \\lambda_i = \\exp\\left(\\beta_1 + \\beta_3 d_i\\right) $$"
   ]
  },
  {
   "cell_type": "code",
   "execution_count": null,
   "metadata": {},
   "outputs": [],
   "source": [
    "fit1_f = glm(@formula(y ~ f), d, Poisson(), LogLink())"
   ]
  },
  {
   "cell_type": "code",
   "execution_count": null,
   "metadata": {},
   "outputs": [],
   "source": [
    "loglikelihood(fit1_f)"
   ]
  },
  {
   "cell_type": "markdown",
   "metadata": {},
   "source": [
    "## 3.6 説明変数が数量型＋因子型の統計モデル（p.57）\n",
    "\n",
    "$$ \\lambda_i = \\exp\\left(\\beta_1 + \\beta_2 x + \\beta_3 d_i\\right) $$\n",
    "$$ \\log\\lambda_i = \\beta_1 + \\beta_2 x + \\beta_3 d_i $$"
   ]
  },
  {
   "cell_type": "code",
   "execution_count": null,
   "metadata": {},
   "outputs": [],
   "source": [
    "fit1_all = glm(@formula(y ~ x + f), d, Poisson(), LogLink())"
   ]
  },
  {
   "cell_type": "code",
   "execution_count": null,
   "metadata": {},
   "outputs": [],
   "source": [
    "loglikelihood(fit1_all)"
   ]
  },
  {
   "cell_type": "code",
   "execution_count": null,
   "metadata": {},
   "outputs": [],
   "source": [
    "# ここまでの最大対数尤度まとめ\n",
    "println(\"  fit1_x: $(round(loglikelihood(fit1), digits=2))\")\n",
    "println(\"  fit1_f: $(round(loglikelihood(fit1_f), digits=2))\")\n",
    "println(\"fit1_all: $(round(loglikelihood(fit1_all), digits=2))\")"
   ]
  },
  {
   "cell_type": "markdown",
   "metadata": {},
   "source": [
    "### 3.6.1 対数リンク関数のわかりやすさ：かけ算される効果\n",
    "\n",
    "「対数リンク関数では要因の効果が積であらわされる」ので、\n",
    "$$ \\lambda_i = \\exp\\left(\\beta_1\\right)\\times\\exp\\left(\\beta_2 x\\right)\\times\\exp\\left(\\beta_3 d_i\\right) = \\mathrm{定数}\\times\\mathrm{体サイズの効果}\\times\\mathrm{施肥処理の効果} $$\n",
    "から、次によってそれぞれの効果の大きさがわかる。（たとえば肥料をやると種子の平均数が0.97倍になる）"
   ]
  },
  {
   "cell_type": "code",
   "execution_count": null,
   "metadata": {},
   "outputs": [],
   "source": [
    "println(\"exp(beta1): $(round(exp(1.26311), digits=2))\")\n",
    "println(\"exp(beta2): $(round(exp(0.0800726), digits=2))\")\n",
    "println(\"exp(beta3): $(round(exp(-0.0319994), digits=2))\")"
   ]
  },
  {
   "cell_type": "markdown",
   "metadata": {},
   "source": [
    "**恒等リンク関数**（_identity link function_）を使用した場合は"
   ]
  },
  {
   "cell_type": "code",
   "execution_count": null,
   "metadata": {},
   "outputs": [],
   "source": [
    "fit1_id = glm(@formula(y ~ x + f), d, Poisson(), IdentityLink())"
   ]
  },
  {
   "cell_type": "code",
   "execution_count": null,
   "metadata": {},
   "outputs": [],
   "source": [
    "# log link function\n",
    "xx = range(5, stop=20, length=100)\n",
    "yy1_C = predict(fit1_all, DataFrame(x=xx, f=\"C\"))\n",
    "yy1_T = predict(fit1_all, DataFrame(x=xx, f=\"T\"))\n",
    "plot(xx, yy1_C, label=\"no fertilizer (C)\", legend=:topleft,\n",
    "    xlabel=\"body size x_i\", ylabel=\"mean number of seeds lambda_i\", title=\"log link function\")\n",
    "plot!(xx, yy1_T, label=\"with fertilizer (T)\")"
   ]
  },
  {
   "cell_type": "code",
   "execution_count": null,
   "metadata": {},
   "outputs": [],
   "source": [
    "# identity link function\n",
    "yy1_C = predict(fit1_id, DataFrame(x=xx, f=\"C\"))\n",
    "yy1_T = predict(fit1_id, DataFrame(x=xx, f=\"T\"))\n",
    "plot(xx, yy1_C, label=\"no fertilizer (C)\", legend=:topleft,\n",
    "    xlabel=\"body size x_i\", ylabel=\"mean number of seeds lambda_i\", title=\"identity link function\")\n",
    "plot!(xx, yy1_T, label=\"with fertilizer (T)\")"
   ]
  }
 ],
 "metadata": {
  "kernel_info": {
   "name": "julia-1.0"
  },
  "kernelspec": {
   "display_name": "Julia 1.1.0",
   "language": "julia",
   "name": "julia-1.1"
  },
  "language_info": {
   "file_extension": ".jl",
   "mimetype": "application/julia",
   "name": "julia",
   "version": "1.1.0"
  },
  "nteract": {
   "version": "0.12.3"
  }
 },
 "nbformat": 4,
 "nbformat_minor": 2
}
