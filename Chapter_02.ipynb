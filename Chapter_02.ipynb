{
 "cells": [
  {
   "cell_type": "markdown",
   "metadata": {},
   "source": [
    "久保拓弥『データ解析のための統計モデリング入門』をJuliaでやってみます。\n",
    "\n",
    "* 久保さんの書籍ページ：http://hosho.ees.hokudai.ac.jp/~kubo/ce/IwanamiBook.html\n",
    "* Amazon.co.jp：https://amzn.to/2Cg5vDJ\n",
    "\n",
    "# 第2章 確率分布と統計モデルの最尤推定"
   ]
  },
  {
   "cell_type": "markdown",
   "metadata": {},
   "source": [
    "## 2.1 種子数の統計モデリング（p.14）"
   ]
  },
  {
   "cell_type": "code",
   "execution_count": 1,
   "metadata": {},
   "outputs": [
    {
     "name": "stdout",
     "output_type": "stream",
     "text": [
      "Julia Version 1.1.1\n",
      "Commit 55e36cc (2019-05-16 04:10 UTC)\n",
      "Platform Info:\n",
      "  OS: macOS (x86_64-apple-darwin15.6.0)\n",
      "  CPU: Intel(R) Core(TM) i7-7920HQ CPU @ 3.10GHz\n",
      "  WORD_SIZE: 64\n",
      "  LIBM: libopenlibm\n",
      "  LLVM: libLLVM-6.0.1 (ORCJIT, skylake)\n",
      "Environment:\n",
      "  JULIA_EDITOR = atom  -a\n",
      "  JULIA_NUM_THREADS = 4\n"
     ]
    }
   ],
   "source": [
    "using Statistics\n",
    "using Plots\n",
    "gr();\n",
    "using Printf\n",
    "versioninfo()"
   ]
  },
  {
   "cell_type": "code",
   "execution_count": 2,
   "metadata": {},
   "outputs": [
    {
     "data": {
      "text/plain": [
       "50"
      ]
     },
     "execution_count": 2,
     "metadata": {},
     "output_type": "execute_result"
    }
   ],
   "source": [
    "data = [\n",
    "    2, 2, 4, 6, 4, 5, 2, 3, 1, 2,\n",
    "    0, 4, 3, 3, 3, 3, 4, 2, 7, 2,\n",
    "    4, 3, 3, 3, 4, 3, 7, 5, 3, 1,\n",
    "    7, 6, 4, 6, 5, 2, 4, 7, 2, 2,\n",
    "    6, 2, 4, 5, 4, 5, 1, 3, 2, 3];\n",
    "length(data)"
   ]
  },
  {
   "cell_type": "code",
   "execution_count": null,
   "metadata": {},
   "outputs": [],
   "source": [
    "# ヒストグラム\n",
    "histogram(data, bins=-0.5:9.5, xlabel=\"data\", ylabel=\"Frequency\", title=\"Histogram of data\", xticks=0:2:8, yticks=0:2:12, legend=false)"
   ]
  },
  {
   "cell_type": "code",
   "execution_count": null,
   "metadata": {},
   "outputs": [],
   "source": [
    "# 標本分散（不偏分散, corrected=falseがデフォルトなので省略してもいい）\n",
    "var(data, corrected=false)"
   ]
  },
  {
   "cell_type": "code",
   "execution_count": null,
   "metadata": {},
   "outputs": [],
   "source": [
    "# 標本標準偏差\n",
    "std(data)"
   ]
  },
  {
   "cell_type": "markdown",
   "metadata": {},
   "source": [
    "## 2.2 データと確率分布の対応関係をながめる（p.18）"
   ]
  },
  {
   "cell_type": "code",
   "execution_count": null,
   "metadata": {},
   "outputs": [],
   "source": [
    "using Distributions"
   ]
  },
  {
   "cell_type": "code",
   "execution_count": null,
   "metadata": {},
   "outputs": [],
   "source": [
    "y = 0:9\n",
    "prob = pdf.(Poisson(3.56), y)"
   ]
  },
  {
   "cell_type": "code",
   "execution_count": null,
   "metadata": {},
   "outputs": [],
   "source": [
    "plot(y, prob, markershape=:auto, linestyle=:dash, legend=false)"
   ]
  },
  {
   "cell_type": "code",
   "execution_count": null,
   "metadata": {},
   "outputs": [],
   "source": [
    "histogram(data, bins=-0.5:9.5, xlabel=\"data\", ylabel=\"Frequency\", title=\"Histogram of data\", xticks=0:2:8, yticks=0:2:12, legend=false)\n",
    "plot!(y, prob*50, markershape=:auto, linestyle=:dash)"
   ]
  },
  {
   "cell_type": "markdown",
   "metadata": {},
   "source": [
    "## 2.3 ポアソン分布とは何か？（p.21）\n",
    "\n",
    "$$ p\\left(y|\\lambda\\right) = \\frac{\\lambda^y\\exp\\left(-\\lambda\\right)}{y!} $$"
   ]
  },
  {
   "cell_type": "code",
   "execution_count": null,
   "metadata": {},
   "outputs": [],
   "source": [
    "y = 0:20\n",
    "plot(y, pdf.(Poisson(3.5), y), markershape=:auto, linestyle=:dash, xlabel=\"y\", ylabel=\"prob\", label=\"3.5\")\n",
    "plot!(y, pdf.(Poisson(7.7), y), markershape=:auto, linestyle=:dash, label=\"7.7\")\n",
    "plot!(y, pdf.(Poisson(15.1), y), markershape=:auto, linestyle=:dash, label=\"15.1\")"
   ]
  },
  {
   "cell_type": "markdown",
   "metadata": {},
   "source": [
    "## 2.4 ポアソン分布のパラメーターの最尤推定（p.24）\n",
    "\n",
    "得られているデータ（観測値）からパラメータ（今回は$\\lambda$）を推定する。**尤度**$L$は「得られたデータの事象がすべて同時に真である確率」なので、各データ$y_i$が得られる確率$p(y_i | \\lambda)$の積になる。\n",
    "\n",
    "$$ L\\left(\\lambda\\right) = \\prod_i p\\left(y_i | \\lambda\\right) = \\prod_i \\frac{\\lambda^{y_i}\\exp\\left(-\\lambda\\right)}{y_{i}!} $$\n",
    "\n",
    "このままだと値が小さくなりすぎて精度が悪くなるなどいろいろ問題が。例えば以下では単純に積で計算しているけど、浮動小数点数の識別限界を下回っているので、値をそのまま信じていいのかどうかわからない。"
   ]
  },
  {
   "cell_type": "code",
   "execution_count": null,
   "metadata": {},
   "outputs": [],
   "source": [
    "# 例\n",
    "prod(pdf.(Poisson(3.5), data))"
   ]
  },
  {
   "cell_type": "code",
   "execution_count": null,
   "metadata": {},
   "outputs": [],
   "source": [
    "eps(Float64)   # Float64型で識別できる最小の差"
   ]
  },
  {
   "cell_type": "code",
   "execution_count": null,
   "metadata": {},
   "outputs": [],
   "source": [
    "y = 0:9\n",
    "anim = @animate for lambda = [2:0.05:5  ; 4.9:-0.05:2.1]\n",
    "    histogram(data, bins=-0.5:9.5,\n",
    "        xlabel=\"data\", ylabel=\"Frequency\", title=@sprintf(\"Histogram of data (lambda=%.2f)\", lambda),\n",
    "        xticks=0:2:8, yticks=0:2:14, ylim=(0,14), legend=false)\n",
    "    prob = pdf.(Poisson(lambda), y)\n",
    "    plot!(y, prob*50, markershape=:auto, linestyle=:dash)\n",
    "end\n",
    "\n",
    "using Suppressor   # suppress info message (which includes my local path names)\n",
    "@suppress gif(anim, \"fig-2-7.gif\")"
   ]
  },
  {
   "cell_type": "markdown",
   "metadata": {},
   "source": [
    "対数を使うと積を和にできるので計算が現実的になる。これを **対数尤度**（_log-likelihood_）と呼ぶ。\n",
    "\n",
    "$$ \\log_e L\\left(\\lambda\\right) = \\sum_i\\left( \\log_e p\\left(y_i | \\lambda\\right) \\right) = \\sum_i\\left( y_i\\log_e\\lambda - \\lambda - \\sum_k^{y_i}\\log_e k \\right) $$"
   ]
  },
  {
   "cell_type": "code",
   "execution_count": null,
   "metadata": {},
   "outputs": [],
   "source": [
    "function logL(m, data)\n",
    "    sum(log.(pdf.(Poisson(m), data)))\n",
    "end\n",
    "\n",
    "lambda = 2:0.1:5\n",
    "plot(lambda, map(m -> logL(m, data), lambda), ylabel=\"log-likelihood\", legend=false)"
   ]
  },
  {
   "cell_type": "markdown",
   "metadata": {},
   "source": [
    "対数尤度関数$\\log L\\left(\\lambda\\right)$が最大になるところ（最ももっともらしい$\\lambda$であるところ）を探す。微分して傾きがゼロになるところが極大・極小値なので、対数尤度関数を偏微分する。\n",
    "\n",
    "$$ \\frac{\\partial\\log L\\left(\\lambda\\right)}{\\partial\\lambda} = \\sum_i \\left(\\frac{y_i}{\\lambda} - 1\\right) = \\frac{1}{\\lambda}\\sum_i y_i - 50$$\n",
    "\n",
    "これがゼロになる$\\hat{\\lambda}$を**最尤推定値**（_maximum likelihood estimate_）と呼ぶ。今回のケースではデータの標本平均が最尤推定値である。"
   ]
  },
  {
   "cell_type": "code",
   "execution_count": null,
   "metadata": {},
   "outputs": [],
   "source": [
    "lambda_hat = mean(data)"
   ]
  },
  {
   "cell_type": "code",
   "execution_count": null,
   "metadata": {},
   "outputs": [],
   "source": [
    "plot(lambda, map(m -> logL(m, data), lambda), ylabel=\"log-likelihood\", legend=false, xticks=2.0:0.5:5.0)\n",
    "vline!([lambda_hat], linestyle=:dash)"
   ]
  },
  {
   "cell_type": "markdown",
   "metadata": {},
   "source": [
    "### 2.4.1 擬似乱数と最尤推定値のばらつき"
   ]
  },
  {
   "cell_type": "code",
   "execution_count": null,
   "metadata": {},
   "outputs": [],
   "source": [
    "rand(Poisson(3.5), 50)   # Rのrpoisに相当"
   ]
  },
  {
   "cell_type": "code",
   "execution_count": null,
   "metadata": {},
   "outputs": [],
   "source": [
    "maxruns = 3000\n",
    "lambda_hat = zeros(maxruns)\n",
    "for n = 1:maxruns\n",
    "    lambda_hat[n] = mean(rand(Poisson(3.5), 50))   # 最尤推定値は平均値\n",
    "end\n",
    "histogram(lambda_hat, legend=false)"
   ]
  },
  {
   "cell_type": "markdown",
   "metadata": {},
   "source": [
    "この（何度も同じ試行を繰り返して得られた多くの）推定値のばらつきを**標準誤差**と呼ぶ。\n",
    "\n",
    "僕は、まず標本分布を、「（たとえば標本平均のような）サンプリングごとにぶれてしまう母数の推定値」をたくさん集めたときの分布、と考えておいて、標準誤差は標本分布の標準偏差、と二段で考えている。"
   ]
  }
 ],
 "metadata": {
  "@webio": {
   "lastCommId": null,
   "lastKernelId": null
  },
  "kernel_info": {
   "name": "julia-1.0"
  },
  "kernelspec": {
   "display_name": "Julia 1.1.1",
   "language": "julia",
   "name": "julia-1.1"
  },
  "language_info": {
   "file_extension": ".jl",
   "mimetype": "application/julia",
   "name": "julia",
   "version": "1.1.1"
  },
  "nteract": {
   "version": "0.12.3"
  }
 },
 "nbformat": 4,
 "nbformat_minor": 2
}
