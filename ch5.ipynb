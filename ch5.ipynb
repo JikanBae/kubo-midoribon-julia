{
 "cells": [
  {
   "cell_type": "markdown",
   "metadata": {},
   "source": [
    "久保拓弥『データ解析のための統計モデリング入門』をJuliaでやってみます。\n",
    "\n",
    "* 久保さんの書籍ページ：http://hosho.ees.hokudai.ac.jp/~kubo/ce/IwanamiBook.html\n",
    "* Amazon.co.jp：https://amzn.to/2Cg5vDJ\n",
    "\n",
    "# 第5章 GLMの尤度比検定と検定の非対称性"
   ]
  },
  {
   "cell_type": "code",
   "execution_count": 1,
   "metadata": {},
   "outputs": [],
   "source": [
    "using CSV\n",
    "using DataFrames\n",
    "using GLM\n",
    "using Plots\n",
    "using Distributions"
   ]
  },
  {
   "cell_type": "markdown",
   "metadata": {},
   "source": [
    "## 5.2 尤度比検定の例題：逸脱度の差を調べる"
   ]
  },
  {
   "cell_type": "code",
   "execution_count": 2,
   "metadata": {},
   "outputs": [],
   "source": [
    "d = CSV.read(\"data3a.csv\");\n",
    "fit1 = glm(@formula(y ~ 1), d, Poisson(), LogLink());\n",
    "fit2 = glm(@formula(y ~ x), d, Poisson(), LogLink());"
   ]
  },
  {
   "cell_type": "markdown",
   "metadata": {},
   "source": [
    "**尤度比**（_likelihood ratio_）を対数化して-2をかけたものが逸脱度の差$\\Delta D$になる。\n",
    "$$ \\frac{L_1^\\ast}{L_2^\\ast} $$\n",
    "$$ \\Delta D_{1,2} = -2\\times\\left(\\log L_1^\\ast - \\log L_2^\\ast\\right) $$"
   ]
  },
  {
   "cell_type": "code",
   "execution_count": 3,
   "metadata": {},
   "outputs": [
    {
     "data": {
      "text/plain": [
       "4.5139410788519285"
      ]
     },
     "execution_count": 3,
     "metadata": {},
     "output_type": "execute_result"
    }
   ],
   "source": [
    "D1 = -2 * loglikelihood(fit1)\n",
    "D2 = -2 * loglikelihood(fit2)\n",
    "deltaD = D1 - D2   # deviance(fit1) - deviance(fit2) でも同じ"
   ]
  },
  {
   "cell_type": "markdown",
   "metadata": {},
   "source": [
    "この4.5という値の大きさが十分なのかどうかをどうやって確認するの？というのが、この後の中心的な話題。\n",
    "\n",
    "## 5.4 帰無仮説を棄却するための有意水準\n",
    "\n",
    "### 5.4.1 方法(1) 汎用性のあるパラメトリックブートストラップ法（p.102）\n",
    "\n"
   ]
  },
  {
   "cell_type": "code",
   "execution_count": 4,
   "metadata": {},
   "outputs": [
    {
     "data": {
      "text/plain": [
       "4.513941078851829"
      ]
     },
     "execution_count": 4,
     "metadata": {},
     "output_type": "execute_result"
    }
   ],
   "source": [
    "deviance(fit1) - deviance(fit2)"
   ]
  },
  {
   "cell_type": "code",
   "execution_count": 5,
   "metadata": {
    "scrolled": true
   },
   "outputs": [
    {
     "data": {
      "text/plain": [
       "100-element Array{Int64,1}:\n",
       "  8\n",
       "  8\n",
       "  7\n",
       " 17\n",
       " 14\n",
       " 13\n",
       " 14\n",
       "  4\n",
       "  9\n",
       "  3\n",
       "  6\n",
       " 10\n",
       "  5\n",
       " 11\n",
       " 12\n",
       " 11\n",
       "  7\n",
       " 11\n",
       "  8\n",
       " 11\n",
       "  7\n",
       "  6\n",
       "  6\n",
       "  2\n",
       " 12\n",
       "  7\n",
       "  8\n",
       " 12\n",
       "  6\n",
       "  ⋮\n",
       "  8\n",
       "  6\n",
       " 10\n",
       "  4\n",
       "  7\n",
       "  8\n",
       "  8\n",
       " 13\n",
       "  8\n",
       "  6\n",
       "  5\n",
       "  9\n",
       "  5\n",
       "  7\n",
       "  9\n",
       "  8\n",
       "  8\n",
       " 11\n",
       " 10\n",
       "  7\n",
       "  2\n",
       "  9\n",
       "  8\n",
       "  7\n",
       "  5\n",
       " 11\n",
       "  8\n",
       "  5"
      ]
     },
     "execution_count": 5,
     "metadata": {},
     "output_type": "execute_result"
    }
   ],
   "source": [
    "d[:y_rnd] = rand(Poisson(mean(d[:y])), 100)"
   ]
  },
  {
   "cell_type": "code",
   "execution_count": 6,
   "metadata": {},
   "outputs": [
    {
     "data": {
      "text/html": [
       "<table class=\"data-frame\"><thead><tr><th></th><th>y</th><th>x</th><th>f</th><th>y_rnd</th></tr><tr><th></th><th>Int64⍰</th><th>Float64⍰</th><th>String⍰</th><th>Int64</th></tr></thead><tbody><p>100 rows × 4 columns</p><tr><th>1</th><td>6</td><td>8.31</td><td>C</td><td>8</td></tr><tr><th>2</th><td>6</td><td>9.44</td><td>C</td><td>8</td></tr><tr><th>3</th><td>6</td><td>9.5</td><td>C</td><td>7</td></tr><tr><th>4</th><td>12</td><td>9.07</td><td>C</td><td>17</td></tr><tr><th>5</th><td>10</td><td>10.16</td><td>C</td><td>14</td></tr><tr><th>6</th><td>4</td><td>8.32</td><td>C</td><td>13</td></tr><tr><th>7</th><td>9</td><td>10.61</td><td>C</td><td>14</td></tr><tr><th>8</th><td>9</td><td>10.06</td><td>C</td><td>4</td></tr><tr><th>9</th><td>9</td><td>9.93</td><td>C</td><td>9</td></tr><tr><th>10</th><td>11</td><td>10.43</td><td>C</td><td>3</td></tr><tr><th>11</th><td>6</td><td>10.36</td><td>C</td><td>6</td></tr><tr><th>12</th><td>10</td><td>10.15</td><td>C</td><td>10</td></tr><tr><th>13</th><td>6</td><td>10.92</td><td>C</td><td>5</td></tr><tr><th>14</th><td>10</td><td>8.85</td><td>C</td><td>11</td></tr><tr><th>15</th><td>11</td><td>9.42</td><td>C</td><td>12</td></tr><tr><th>16</th><td>8</td><td>11.11</td><td>C</td><td>11</td></tr><tr><th>17</th><td>3</td><td>8.02</td><td>C</td><td>7</td></tr><tr><th>18</th><td>8</td><td>11.93</td><td>C</td><td>11</td></tr><tr><th>19</th><td>5</td><td>8.55</td><td>C</td><td>8</td></tr><tr><th>20</th><td>5</td><td>7.19</td><td>C</td><td>11</td></tr><tr><th>21</th><td>4</td><td>9.83</td><td>C</td><td>7</td></tr><tr><th>22</th><td>11</td><td>10.79</td><td>C</td><td>6</td></tr><tr><th>23</th><td>5</td><td>8.89</td><td>C</td><td>6</td></tr><tr><th>24</th><td>10</td><td>10.09</td><td>C</td><td>2</td></tr><tr><th>25</th><td>6</td><td>11.63</td><td>C</td><td>12</td></tr><tr><th>26</th><td>6</td><td>10.21</td><td>C</td><td>7</td></tr><tr><th>27</th><td>7</td><td>9.45</td><td>C</td><td>8</td></tr><tr><th>28</th><td>9</td><td>10.44</td><td>C</td><td>12</td></tr><tr><th>29</th><td>3</td><td>9.44</td><td>C</td><td>6</td></tr><tr><th>30</th><td>10</td><td>10.48</td><td>C</td><td>6</td></tr><tr><th>31</th><td>2</td><td>9.43</td><td>C</td><td>8</td></tr><tr><th>32</th><td>9</td><td>10.32</td><td>C</td><td>9</td></tr><tr><th>33</th><td>10</td><td>10.33</td><td>C</td><td>9</td></tr><tr><th>34</th><td>5</td><td>8.5</td><td>C</td><td>12</td></tr><tr><th>35</th><td>11</td><td>9.41</td><td>C</td><td>9</td></tr><tr><th>36</th><td>10</td><td>8.96</td><td>C</td><td>3</td></tr><tr><th>37</th><td>4</td><td>9.67</td><td>C</td><td>8</td></tr><tr><th>38</th><td>8</td><td>10.26</td><td>C</td><td>12</td></tr><tr><th>39</th><td>9</td><td>10.36</td><td>C</td><td>10</td></tr><tr><th>40</th><td>12</td><td>11.8</td><td>C</td><td>9</td></tr><tr><th>41</th><td>8</td><td>10.94</td><td>C</td><td>3</td></tr><tr><th>42</th><td>9</td><td>10.25</td><td>C</td><td>11</td></tr><tr><th>43</th><td>8</td><td>8.74</td><td>C</td><td>8</td></tr><tr><th>44</th><td>6</td><td>10.46</td><td>C</td><td>7</td></tr><tr><th>45</th><td>6</td><td>9.37</td><td>C</td><td>7</td></tr><tr><th>46</th><td>10</td><td>9.74</td><td>C</td><td>6</td></tr><tr><th>47</th><td>10</td><td>8.95</td><td>C</td><td>7</td></tr><tr><th>48</th><td>9</td><td>8.74</td><td>C</td><td>12</td></tr><tr><th>49</th><td>12</td><td>11.32</td><td>C</td><td>5</td></tr><tr><th>50</th><td>6</td><td>9.25</td><td>C</td><td>14</td></tr><tr><th>51</th><td>14</td><td>10.14</td><td>T</td><td>9</td></tr><tr><th>52</th><td>6</td><td>9.05</td><td>T</td><td>11</td></tr><tr><th>53</th><td>7</td><td>9.89</td><td>T</td><td>9</td></tr><tr><th>54</th><td>9</td><td>8.76</td><td>T</td><td>9</td></tr><tr><th>55</th><td>6</td><td>12.04</td><td>T</td><td>13</td></tr><tr><th>56</th><td>7</td><td>9.91</td><td>T</td><td>11</td></tr><tr><th>57</th><td>9</td><td>9.84</td><td>T</td><td>15</td></tr><tr><th>58</th><td>13</td><td>11.87</td><td>T</td><td>7</td></tr><tr><th>59</th><td>9</td><td>10.16</td><td>T</td><td>11</td></tr><tr><th>60</th><td>13</td><td>9.34</td><td>T</td><td>6</td></tr><tr><th>61</th><td>7</td><td>10.17</td><td>T</td><td>7</td></tr><tr><th>62</th><td>8</td><td>10.99</td><td>T</td><td>8</td></tr><tr><th>&vellip;</th><td>&vellip;</td><td>&vellip;</td><td>&vellip;</td><td>&vellip;</td></tr></tbody></table>"
      ],
      "text/latex": [
       "\\begin{tabular}{r|cccc}\n",
       "\t& y & x & f & y\\_rnd\\\\\n",
       "\t\\hline\n",
       "\t& Int64⍰ & Float64⍰ & String⍰ & Int64\\\\\n",
       "\t\\hline\n",
       "\t1 & 6 & 8.31 & C & 8 \\\\\n",
       "\t2 & 6 & 9.44 & C & 8 \\\\\n",
       "\t3 & 6 & 9.5 & C & 7 \\\\\n",
       "\t4 & 12 & 9.07 & C & 17 \\\\\n",
       "\t5 & 10 & 10.16 & C & 14 \\\\\n",
       "\t6 & 4 & 8.32 & C & 13 \\\\\n",
       "\t7 & 9 & 10.61 & C & 14 \\\\\n",
       "\t8 & 9 & 10.06 & C & 4 \\\\\n",
       "\t9 & 9 & 9.93 & C & 9 \\\\\n",
       "\t10 & 11 & 10.43 & C & 3 \\\\\n",
       "\t11 & 6 & 10.36 & C & 6 \\\\\n",
       "\t12 & 10 & 10.15 & C & 10 \\\\\n",
       "\t13 & 6 & 10.92 & C & 5 \\\\\n",
       "\t14 & 10 & 8.85 & C & 11 \\\\\n",
       "\t15 & 11 & 9.42 & C & 12 \\\\\n",
       "\t16 & 8 & 11.11 & C & 11 \\\\\n",
       "\t17 & 3 & 8.02 & C & 7 \\\\\n",
       "\t18 & 8 & 11.93 & C & 11 \\\\\n",
       "\t19 & 5 & 8.55 & C & 8 \\\\\n",
       "\t20 & 5 & 7.19 & C & 11 \\\\\n",
       "\t21 & 4 & 9.83 & C & 7 \\\\\n",
       "\t22 & 11 & 10.79 & C & 6 \\\\\n",
       "\t23 & 5 & 8.89 & C & 6 \\\\\n",
       "\t24 & 10 & 10.09 & C & 2 \\\\\n",
       "\t25 & 6 & 11.63 & C & 12 \\\\\n",
       "\t26 & 6 & 10.21 & C & 7 \\\\\n",
       "\t27 & 7 & 9.45 & C & 8 \\\\\n",
       "\t28 & 9 & 10.44 & C & 12 \\\\\n",
       "\t29 & 3 & 9.44 & C & 6 \\\\\n",
       "\t30 & 10 & 10.48 & C & 6 \\\\\n",
       "\t31 & 2 & 9.43 & C & 8 \\\\\n",
       "\t32 & 9 & 10.32 & C & 9 \\\\\n",
       "\t33 & 10 & 10.33 & C & 9 \\\\\n",
       "\t34 & 5 & 8.5 & C & 12 \\\\\n",
       "\t35 & 11 & 9.41 & C & 9 \\\\\n",
       "\t36 & 10 & 8.96 & C & 3 \\\\\n",
       "\t37 & 4 & 9.67 & C & 8 \\\\\n",
       "\t38 & 8 & 10.26 & C & 12 \\\\\n",
       "\t39 & 9 & 10.36 & C & 10 \\\\\n",
       "\t40 & 12 & 11.8 & C & 9 \\\\\n",
       "\t41 & 8 & 10.94 & C & 3 \\\\\n",
       "\t42 & 9 & 10.25 & C & 11 \\\\\n",
       "\t43 & 8 & 8.74 & C & 8 \\\\\n",
       "\t44 & 6 & 10.46 & C & 7 \\\\\n",
       "\t45 & 6 & 9.37 & C & 7 \\\\\n",
       "\t46 & 10 & 9.74 & C & 6 \\\\\n",
       "\t47 & 10 & 8.95 & C & 7 \\\\\n",
       "\t48 & 9 & 8.74 & C & 12 \\\\\n",
       "\t49 & 12 & 11.32 & C & 5 \\\\\n",
       "\t50 & 6 & 9.25 & C & 14 \\\\\n",
       "\t51 & 14 & 10.14 & T & 9 \\\\\n",
       "\t52 & 6 & 9.05 & T & 11 \\\\\n",
       "\t53 & 7 & 9.89 & T & 9 \\\\\n",
       "\t54 & 9 & 8.76 & T & 9 \\\\\n",
       "\t55 & 6 & 12.04 & T & 13 \\\\\n",
       "\t56 & 7 & 9.91 & T & 11 \\\\\n",
       "\t57 & 9 & 9.84 & T & 15 \\\\\n",
       "\t58 & 13 & 11.87 & T & 7 \\\\\n",
       "\t59 & 9 & 10.16 & T & 11 \\\\\n",
       "\t60 & 13 & 9.34 & T & 6 \\\\\n",
       "\t61 & 7 & 10.17 & T & 7 \\\\\n",
       "\t62 & 8 & 10.99 & T & 8 \\\\\n",
       "\t$\\dots$ & $\\dots$ & $\\dots$ & $\\dots$ & $\\dots$ \\\\\n",
       "\\end{tabular}\n"
      ],
      "text/plain": [
       "100×4 DataFrame\n",
       "│ Row │ y      │ x        │ f       │ y_rnd │\n",
       "│     │ \u001b[90mInt64⍰\u001b[39m │ \u001b[90mFloat64⍰\u001b[39m │ \u001b[90mString⍰\u001b[39m │ \u001b[90mInt64\u001b[39m │\n",
       "├─────┼────────┼──────────┼─────────┼───────┤\n",
       "│ 1   │ 6      │ 8.31     │ C       │ 8     │\n",
       "│ 2   │ 6      │ 9.44     │ C       │ 8     │\n",
       "│ 3   │ 6      │ 9.5      │ C       │ 7     │\n",
       "│ 4   │ 12     │ 9.07     │ C       │ 17    │\n",
       "│ 5   │ 10     │ 10.16    │ C       │ 14    │\n",
       "│ 6   │ 4      │ 8.32     │ C       │ 13    │\n",
       "│ 7   │ 9      │ 10.61    │ C       │ 14    │\n",
       "│ 8   │ 9      │ 10.06    │ C       │ 4     │\n",
       "│ 9   │ 9      │ 9.93     │ C       │ 9     │\n",
       "│ 10  │ 11     │ 10.43    │ C       │ 3     │\n",
       "│ 11  │ 6      │ 10.36    │ C       │ 6     │\n",
       "│ 12  │ 10     │ 10.15    │ C       │ 10    │\n",
       "│ 13  │ 6      │ 10.92    │ C       │ 5     │\n",
       "│ 14  │ 10     │ 8.85     │ C       │ 11    │\n",
       "│ 15  │ 11     │ 9.42     │ C       │ 12    │\n",
       "│ 16  │ 8      │ 11.11    │ C       │ 11    │\n",
       "│ 17  │ 3      │ 8.02     │ C       │ 7     │\n",
       "│ 18  │ 8      │ 11.93    │ C       │ 11    │\n",
       "│ 19  │ 5      │ 8.55     │ C       │ 8     │\n",
       "│ 20  │ 5      │ 7.19     │ C       │ 11    │\n",
       "│ 21  │ 4      │ 9.83     │ C       │ 7     │\n",
       "│ 22  │ 11     │ 10.79    │ C       │ 6     │\n",
       "│ 23  │ 5      │ 8.89     │ C       │ 6     │\n",
       "│ 24  │ 10     │ 10.09    │ C       │ 2     │\n",
       "│ 25  │ 6      │ 11.63    │ C       │ 12    │\n",
       "│ 26  │ 6      │ 10.21    │ C       │ 7     │\n",
       "⋮\n",
       "│ 74  │ 7      │ 10.18    │ T       │ 6     │\n",
       "│ 75  │ 5      │ 9.53     │ T       │ 10    │\n",
       "│ 76  │ 6      │ 10.24    │ T       │ 4     │\n",
       "│ 77  │ 8      │ 11.76    │ T       │ 7     │\n",
       "│ 78  │ 9      │ 9.52     │ T       │ 8     │\n",
       "│ 79  │ 9      │ 10.4     │ T       │ 8     │\n",
       "│ 80  │ 6      │ 9.96     │ T       │ 13    │\n",
       "│ 81  │ 7      │ 10.3     │ T       │ 8     │\n",
       "│ 82  │ 10     │ 11.54    │ T       │ 6     │\n",
       "│ 83  │ 6      │ 9.42     │ T       │ 5     │\n",
       "│ 84  │ 11     │ 11.28    │ T       │ 9     │\n",
       "│ 85  │ 11     │ 9.73     │ T       │ 5     │\n",
       "│ 86  │ 11     │ 10.78    │ T       │ 7     │\n",
       "│ 87  │ 5      │ 10.21    │ T       │ 9     │\n",
       "│ 88  │ 6      │ 10.51    │ T       │ 8     │\n",
       "│ 89  │ 4      │ 10.73    │ T       │ 8     │\n",
       "│ 90  │ 5      │ 8.85     │ T       │ 11    │\n",
       "│ 91  │ 6      │ 11.2     │ T       │ 10    │\n",
       "│ 92  │ 5      │ 9.86     │ T       │ 7     │\n",
       "│ 93  │ 8      │ 11.54    │ T       │ 2     │\n",
       "│ 94  │ 5      │ 10.03    │ T       │ 9     │\n",
       "│ 95  │ 9      │ 11.88    │ T       │ 8     │\n",
       "│ 96  │ 8      │ 9.15     │ T       │ 7     │\n",
       "│ 97  │ 6      │ 8.52     │ T       │ 5     │\n",
       "│ 98  │ 8      │ 10.24    │ T       │ 11    │\n",
       "│ 99  │ 7      │ 10.86    │ T       │ 8     │\n",
       "│ 100 │ 9      │ 9.97     │ T       │ 5     │"
      ]
     },
     "execution_count": 6,
     "metadata": {},
     "output_type": "execute_result"
    }
   ],
   "source": [
    "d"
   ]
  },
  {
   "cell_type": "code",
   "execution_count": 7,
   "metadata": {},
   "outputs": [
    {
     "data": {
      "text/plain": [
       "1.320229432785382"
      ]
     },
     "execution_count": 7,
     "metadata": {},
     "output_type": "execute_result"
    }
   ],
   "source": [
    "fit1 = glm(@formula(y_rnd ~ 1), d, Poisson(), LogLink())\n",
    "fit2 = glm(@formula(y_rnd ~ x), d, Poisson(), LogLink())\n",
    "deviance(fit1) - deviance(fit2)"
   ]
  },
  {
   "cell_type": "markdown",
   "metadata": {},
   "source": [
    "これを1000回くらい繰り返して、ランダム生成したデータの逸脱度の差の平均や標準偏差をみる。単純な方法は以下の`for`を使うやり方。"
   ]
  },
  {
   "cell_type": "code",
   "execution_count": 8,
   "metadata": {},
   "outputs": [],
   "source": [
    "N = 1000\n",
    "dd12 = zeros(N)\n",
    "for n=1:N\n",
    "    d[:y_rnd] = rand(Poisson(mean(d[:y])), 100)\n",
    "    fit1 = glm(@formula(y_rnd ~ 1), d, Poisson(), LogLink())\n",
    "    fit2 = glm(@formula(y_rnd ~ x), d, Poisson(), LogLink())\n",
    "    dd12[n] = deviance(fit1) - deviance(fit2)\n",
    "end"
   ]
  },
  {
   "cell_type": "markdown",
   "metadata": {},
   "source": [
    "p.104のコードをJuliaで書くと以下のようになるだろうか。`replicate()`の代わりにarray comprehensionを使った。"
   ]
  },
  {
   "cell_type": "code",
   "execution_count": 9,
   "metadata": {
    "scrolled": true
   },
   "outputs": [
    {
     "data": {
      "text/plain": [
       "1000-element Array{Float64,1}:\n",
       " 0.082205904559288    \n",
       " 0.0016955521742545443\n",
       " 3.166936245982086    \n",
       " 1.473831637672916    \n",
       " 3.3847722685358264   \n",
       " 0.812246959596763    \n",
       " 0.21055748075244196  \n",
       " 6.210571084810383    \n",
       " 0.17367905966689534  \n",
       " 0.3840151562789629   \n",
       " 0.25622842177172345  \n",
       " 0.04989011179662839  \n",
       " 2.318192992960846    \n",
       " 0.8923167056227754   \n",
       " 1.5038920422770872   \n",
       " 2.8343064613891187   \n",
       " 0.03644788115700237  \n",
       " 0.0009376267368850222\n",
       " 0.0063996544026707625\n",
       " 0.22622826100683824  \n",
       " 1.1871672930161736   \n",
       " 0.5776491654488325   \n",
       " 0.0270973845086786   \n",
       " 0.3812194554841426   \n",
       " 2.345271383319414e-5 \n",
       " 2.4866099514199362   \n",
       " 0.3898116696714311   \n",
       " 2.014203442544428    \n",
       " 0.11213331616855271  \n",
       " ⋮                    \n",
       " 0.04483820073390632  \n",
       " 0.6458038700100275   \n",
       " 1.9100160752311126   \n",
       " 0.2457052638956725   \n",
       " 0.11807462278896708  \n",
       " 0.19804186269442425  \n",
       " 0.1386651131672494   \n",
       " 1.1943155131202587   \n",
       " 1.1761659734979304   \n",
       " 0.03610146011691029  \n",
       " 0.4999089979350657   \n",
       " 1.5347275151673898   \n",
       " 3.656972498276602    \n",
       " 0.3666205310671984   \n",
       " 0.4117998049251099   \n",
       " 0.27413375999010725  \n",
       " 0.2529938676220098   \n",
       " 3.5636956862767164   \n",
       " 0.33874580500126683  \n",
       " 0.7556934093242802   \n",
       " 0.0019414978041112363\n",
       " 0.647484227396177    \n",
       " 0.5808228068232211   \n",
       " 1.902088638933293    \n",
       " 3.7562814837298504   \n",
       " 1.5041080395498483   \n",
       " 1.2244350926761314   \n",
       " 5.232050766688289    "
      ]
     },
     "execution_count": 9,
     "metadata": {},
     "output_type": "execute_result"
    }
   ],
   "source": [
    "function get_dd(d)\n",
    "    n_sample = nrow(d)\n",
    "    y_mean = mean(d[:y])\n",
    "    d[:y_rnd] = rand(Poisson(mean(d[:y])), 100)\n",
    "    fit1 = glm(@formula(y_rnd ~ 1), d, Poisson(), LogLink())\n",
    "    fit2 = glm(@formula(y_rnd ~ x), d, Poisson(), LogLink())\n",
    "    return(deviance(fit1) - deviance(fit2))\n",
    "end\n",
    "\n",
    "function pb(d, n_bootstrap)\n",
    "    [get_dd(d) for n=1:n_bootstrap]\n",
    "end\n",
    "\n",
    "N = 1000\n",
    "dd12 = pb(d, N)"
   ]
  },
  {
   "cell_type": "code",
   "execution_count": 10,
   "metadata": {},
   "outputs": [
    {
     "name": "stdout",
     "output_type": "stream",
     "text": [
      "Summary Stats:\n",
      "Mean:           1.026362\n",
      "Minimum:        0.000006\n",
      "1st Quartile:   0.094908\n",
      "Median:         0.455339\n",
      "3rd Quartile:   1.327883\n",
      "Maximum:        14.256941\n",
      "Length:         1000\n",
      "Type:           Float64\n"
     ]
    }
   ],
   "source": [
    "describe(dd12)"
   ]
  },
  {
   "cell_type": "code",
   "execution_count": 11,
   "metadata": {},
   "outputs": [
    {
     "data": {
      "image/svg+xml": [
       "<?xml version=\"1.0\" encoding=\"utf-8\"?>\n",
       "<svg xmlns=\"http://www.w3.org/2000/svg\" xmlns:xlink=\"http://www.w3.org/1999/xlink\" width=\"600\" height=\"400\" viewBox=\"0 0 2400 1600\">\n",
       "<defs>\n",
       "  <clipPath id=\"clip3900\">\n",
       "    <rect x=\"0\" y=\"0\" width=\"2000\" height=\"2000\"/>\n",
       "  </clipPath>\n",
       "</defs>\n",
       "<defs>\n",
       "  <clipPath id=\"clip3901\">\n",
       "    <rect x=\"0\" y=\"0\" width=\"2400\" height=\"1600\"/>\n",
       "  </clipPath>\n",
       "</defs>\n",
       "<polygon clip-path=\"url(#clip3901)\" points=\"\n",
       "0,1600 2400,1600 2400,0 0,0 \n",
       "  \" fill=\"#ffffff\" fill-rule=\"evenodd\" fill-opacity=\"1\"/>\n",
       "<defs>\n",
       "  <clipPath id=\"clip3902\">\n",
       "    <rect x=\"480\" y=\"0\" width=\"1681\" height=\"1600\"/>\n",
       "  </clipPath>\n",
       "</defs>\n",
       "<polygon clip-path=\"url(#clip3901)\" points=\"\n",
       "174.775,1503.47 2321.26,1503.47 2321.26,47.2441 174.775,47.2441 \n",
       "  \" fill=\"#ffffff\" fill-rule=\"evenodd\" fill-opacity=\"1\"/>\n",
       "<defs>\n",
       "  <clipPath id=\"clip3903\">\n",
       "    <rect x=\"174\" y=\"47\" width=\"2147\" height=\"1457\"/>\n",
       "  </clipPath>\n",
       "</defs>\n",
       "<polyline clip-path=\"url(#clip3903)\" style=\"stroke:#000000; stroke-width:2; stroke-opacity:0.1; fill:none\" points=\"\n",
       "  235.525,1503.47 235.525,47.2441 \n",
       "  \"/>\n",
       "<polyline clip-path=\"url(#clip3903)\" style=\"stroke:#000000; stroke-width:2; stroke-opacity:0.1; fill:none\" points=\"\n",
       "  741.771,1503.47 741.771,47.2441 \n",
       "  \"/>\n",
       "<polyline clip-path=\"url(#clip3903)\" style=\"stroke:#000000; stroke-width:2; stroke-opacity:0.1; fill:none\" points=\"\n",
       "  1248.02,1503.47 1248.02,47.2441 \n",
       "  \"/>\n",
       "<polyline clip-path=\"url(#clip3903)\" style=\"stroke:#000000; stroke-width:2; stroke-opacity:0.1; fill:none\" points=\"\n",
       "  1754.26,1503.47 1754.26,47.2441 \n",
       "  \"/>\n",
       "<polyline clip-path=\"url(#clip3903)\" style=\"stroke:#000000; stroke-width:2; stroke-opacity:0.1; fill:none\" points=\"\n",
       "  2260.51,1503.47 2260.51,47.2441 \n",
       "  \"/>\n",
       "<polyline clip-path=\"url(#clip3903)\" style=\"stroke:#000000; stroke-width:2; stroke-opacity:0.1; fill:none\" points=\"\n",
       "  174.775,1462.26 2321.26,1462.26 \n",
       "  \"/>\n",
       "<polyline clip-path=\"url(#clip3903)\" style=\"stroke:#000000; stroke-width:2; stroke-opacity:0.1; fill:none\" points=\"\n",
       "  174.775,1196.02 2321.26,1196.02 \n",
       "  \"/>\n",
       "<polyline clip-path=\"url(#clip3903)\" style=\"stroke:#000000; stroke-width:2; stroke-opacity:0.1; fill:none\" points=\"\n",
       "  174.775,929.779 2321.26,929.779 \n",
       "  \"/>\n",
       "<polyline clip-path=\"url(#clip3903)\" style=\"stroke:#000000; stroke-width:2; stroke-opacity:0.1; fill:none\" points=\"\n",
       "  174.775,663.538 2321.26,663.538 \n",
       "  \"/>\n",
       "<polyline clip-path=\"url(#clip3903)\" style=\"stroke:#000000; stroke-width:2; stroke-opacity:0.1; fill:none\" points=\"\n",
       "  174.775,397.297 2321.26,397.297 \n",
       "  \"/>\n",
       "<polyline clip-path=\"url(#clip3903)\" style=\"stroke:#000000; stroke-width:2; stroke-opacity:0.1; fill:none\" points=\"\n",
       "  174.775,131.057 2321.26,131.057 \n",
       "  \"/>\n",
       "<polyline clip-path=\"url(#clip3901)\" style=\"stroke:#000000; stroke-width:4; stroke-opacity:1; fill:none\" points=\"\n",
       "  174.775,1503.47 2321.26,1503.47 \n",
       "  \"/>\n",
       "<polyline clip-path=\"url(#clip3901)\" style=\"stroke:#000000; stroke-width:4; stroke-opacity:1; fill:none\" points=\"\n",
       "  174.775,1503.47 174.775,47.2441 \n",
       "  \"/>\n",
       "<polyline clip-path=\"url(#clip3901)\" style=\"stroke:#000000; stroke-width:4; stroke-opacity:1; fill:none\" points=\"\n",
       "  235.525,1503.47 235.525,1481.63 \n",
       "  \"/>\n",
       "<polyline clip-path=\"url(#clip3901)\" style=\"stroke:#000000; stroke-width:4; stroke-opacity:1; fill:none\" points=\"\n",
       "  741.771,1503.47 741.771,1481.63 \n",
       "  \"/>\n",
       "<polyline clip-path=\"url(#clip3901)\" style=\"stroke:#000000; stroke-width:4; stroke-opacity:1; fill:none\" points=\"\n",
       "  1248.02,1503.47 1248.02,1481.63 \n",
       "  \"/>\n",
       "<polyline clip-path=\"url(#clip3901)\" style=\"stroke:#000000; stroke-width:4; stroke-opacity:1; fill:none\" points=\"\n",
       "  1754.26,1503.47 1754.26,1481.63 \n",
       "  \"/>\n",
       "<polyline clip-path=\"url(#clip3901)\" style=\"stroke:#000000; stroke-width:4; stroke-opacity:1; fill:none\" points=\"\n",
       "  2260.51,1503.47 2260.51,1481.63 \n",
       "  \"/>\n",
       "<polyline clip-path=\"url(#clip3901)\" style=\"stroke:#000000; stroke-width:4; stroke-opacity:1; fill:none\" points=\"\n",
       "  174.775,1462.26 206.972,1462.26 \n",
       "  \"/>\n",
       "<polyline clip-path=\"url(#clip3901)\" style=\"stroke:#000000; stroke-width:4; stroke-opacity:1; fill:none\" points=\"\n",
       "  174.775,1196.02 206.972,1196.02 \n",
       "  \"/>\n",
       "<polyline clip-path=\"url(#clip3901)\" style=\"stroke:#000000; stroke-width:4; stroke-opacity:1; fill:none\" points=\"\n",
       "  174.775,929.779 206.972,929.779 \n",
       "  \"/>\n",
       "<polyline clip-path=\"url(#clip3901)\" style=\"stroke:#000000; stroke-width:4; stroke-opacity:1; fill:none\" points=\"\n",
       "  174.775,663.538 206.972,663.538 \n",
       "  \"/>\n",
       "<polyline clip-path=\"url(#clip3901)\" style=\"stroke:#000000; stroke-width:4; stroke-opacity:1; fill:none\" points=\"\n",
       "  174.775,397.297 206.972,397.297 \n",
       "  \"/>\n",
       "<polyline clip-path=\"url(#clip3901)\" style=\"stroke:#000000; stroke-width:4; stroke-opacity:1; fill:none\" points=\"\n",
       "  174.775,131.057 206.972,131.057 \n",
       "  \"/>\n",
       "<g clip-path=\"url(#clip3901)\">\n",
       "<text style=\"fill:#000000; fill-opacity:1; font-family:Arial,Helvetica Neue,Helvetica,sans-serif; font-size:48px; text-anchor:middle;\" transform=\"rotate(0, 235.525, 1557.47)\" x=\"235.525\" y=\"1557.47\">0</text>\n",
       "</g>\n",
       "<g clip-path=\"url(#clip3901)\">\n",
       "<text style=\"fill:#000000; fill-opacity:1; font-family:Arial,Helvetica Neue,Helvetica,sans-serif; font-size:48px; text-anchor:middle;\" transform=\"rotate(0, 741.771, 1557.47)\" x=\"741.771\" y=\"1557.47\">5</text>\n",
       "</g>\n",
       "<g clip-path=\"url(#clip3901)\">\n",
       "<text style=\"fill:#000000; fill-opacity:1; font-family:Arial,Helvetica Neue,Helvetica,sans-serif; font-size:48px; text-anchor:middle;\" transform=\"rotate(0, 1248.02, 1557.47)\" x=\"1248.02\" y=\"1557.47\">10</text>\n",
       "</g>\n",
       "<g clip-path=\"url(#clip3901)\">\n",
       "<text style=\"fill:#000000; fill-opacity:1; font-family:Arial,Helvetica Neue,Helvetica,sans-serif; font-size:48px; text-anchor:middle;\" transform=\"rotate(0, 1754.26, 1557.47)\" x=\"1754.26\" y=\"1557.47\">15</text>\n",
       "</g>\n",
       "<g clip-path=\"url(#clip3901)\">\n",
       "<text style=\"fill:#000000; fill-opacity:1; font-family:Arial,Helvetica Neue,Helvetica,sans-serif; font-size:48px; text-anchor:middle;\" transform=\"rotate(0, 2260.51, 1557.47)\" x=\"2260.51\" y=\"1557.47\">20</text>\n",
       "</g>\n",
       "<g clip-path=\"url(#clip3901)\">\n",
       "<text style=\"fill:#000000; fill-opacity:1; font-family:Arial,Helvetica Neue,Helvetica,sans-serif; font-size:48px; text-anchor:end;\" transform=\"rotate(0, 150.775, 1479.76)\" x=\"150.775\" y=\"1479.76\">0</text>\n",
       "</g>\n",
       "<g clip-path=\"url(#clip3901)\">\n",
       "<text style=\"fill:#000000; fill-opacity:1; font-family:Arial,Helvetica Neue,Helvetica,sans-serif; font-size:48px; text-anchor:end;\" transform=\"rotate(0, 150.775, 1213.52)\" x=\"150.775\" y=\"1213.52\">100</text>\n",
       "</g>\n",
       "<g clip-path=\"url(#clip3901)\">\n",
       "<text style=\"fill:#000000; fill-opacity:1; font-family:Arial,Helvetica Neue,Helvetica,sans-serif; font-size:48px; text-anchor:end;\" transform=\"rotate(0, 150.775, 947.279)\" x=\"150.775\" y=\"947.279\">200</text>\n",
       "</g>\n",
       "<g clip-path=\"url(#clip3901)\">\n",
       "<text style=\"fill:#000000; fill-opacity:1; font-family:Arial,Helvetica Neue,Helvetica,sans-serif; font-size:48px; text-anchor:end;\" transform=\"rotate(0, 150.775, 681.038)\" x=\"150.775\" y=\"681.038\">300</text>\n",
       "</g>\n",
       "<g clip-path=\"url(#clip3901)\">\n",
       "<text style=\"fill:#000000; fill-opacity:1; font-family:Arial,Helvetica Neue,Helvetica,sans-serif; font-size:48px; text-anchor:end;\" transform=\"rotate(0, 150.775, 414.797)\" x=\"150.775\" y=\"414.797\">400</text>\n",
       "</g>\n",
       "<g clip-path=\"url(#clip3901)\">\n",
       "<text style=\"fill:#000000; fill-opacity:1; font-family:Arial,Helvetica Neue,Helvetica,sans-serif; font-size:48px; text-anchor:end;\" transform=\"rotate(0, 150.775, 148.557)\" x=\"150.775\" y=\"148.557\">500</text>\n",
       "</g>\n",
       "<polygon clip-path=\"url(#clip3903)\" points=\"\n",
       "235.525,88.4582 235.525,1462.26 286.149,1462.26 286.149,88.4582 235.525,88.4582 235.525,88.4582 \n",
       "  \" fill=\"#009af9\" fill-rule=\"evenodd\" fill-opacity=\"1\"/>\n",
       "<polyline clip-path=\"url(#clip3903)\" style=\"stroke:#000000; stroke-width:4; stroke-opacity:1; fill:none\" points=\"\n",
       "  235.525,88.4582 235.525,1462.26 286.149,1462.26 286.149,88.4582 235.525,88.4582 \n",
       "  \"/>\n",
       "<polygon clip-path=\"url(#clip3903)\" points=\"\n",
       "286.149,1012.31 286.149,1462.26 336.774,1462.26 336.774,1012.31 286.149,1012.31 286.149,1012.31 \n",
       "  \" fill=\"#009af9\" fill-rule=\"evenodd\" fill-opacity=\"1\"/>\n",
       "<polyline clip-path=\"url(#clip3903)\" style=\"stroke:#000000; stroke-width:4; stroke-opacity:1; fill:none\" points=\"\n",
       "  286.149,1012.31 286.149,1462.26 336.774,1462.26 336.774,1012.31 286.149,1012.31 \n",
       "  \"/>\n",
       "<polygon clip-path=\"url(#clip3903)\" points=\"\n",
       "336.774,1209.33 336.774,1462.26 387.399,1462.26 387.399,1209.33 336.774,1209.33 336.774,1209.33 \n",
       "  \" fill=\"#009af9\" fill-rule=\"evenodd\" fill-opacity=\"1\"/>\n",
       "<polyline clip-path=\"url(#clip3903)\" style=\"stroke:#000000; stroke-width:4; stroke-opacity:1; fill:none\" points=\"\n",
       "  336.774,1209.33 336.774,1462.26 387.399,1462.26 387.399,1209.33 336.774,1209.33 \n",
       "  \"/>\n",
       "<polygon clip-path=\"url(#clip3903)\" points=\"\n",
       "387.399,1315.83 387.399,1462.26 438.023,1462.26 438.023,1315.83 387.399,1315.83 387.399,1315.83 \n",
       "  \" fill=\"#009af9\" fill-rule=\"evenodd\" fill-opacity=\"1\"/>\n",
       "<polyline clip-path=\"url(#clip3903)\" style=\"stroke:#000000; stroke-width:4; stroke-opacity:1; fill:none\" points=\"\n",
       "  387.399,1315.83 387.399,1462.26 438.023,1462.26 438.023,1315.83 387.399,1315.83 \n",
       "  \"/>\n",
       "<polygon clip-path=\"url(#clip3903)\" points=\"\n",
       "438.023,1353.1 438.023,1462.26 488.648,1462.26 488.648,1353.1 438.023,1353.1 438.023,1353.1 \n",
       "  \" fill=\"#009af9\" fill-rule=\"evenodd\" fill-opacity=\"1\"/>\n",
       "<polyline clip-path=\"url(#clip3903)\" style=\"stroke:#000000; stroke-width:4; stroke-opacity:1; fill:none\" points=\"\n",
       "  438.023,1353.1 438.023,1462.26 488.648,1462.26 488.648,1353.1 438.023,1353.1 \n",
       "  \"/>\n",
       "<polygon clip-path=\"url(#clip3903)\" points=\"\n",
       "488.648,1398.36 488.648,1462.26 539.273,1462.26 539.273,1398.36 488.648,1398.36 488.648,1398.36 \n",
       "  \" fill=\"#009af9\" fill-rule=\"evenodd\" fill-opacity=\"1\"/>\n",
       "<polyline clip-path=\"url(#clip3903)\" style=\"stroke:#000000; stroke-width:4; stroke-opacity:1; fill:none\" points=\"\n",
       "  488.648,1398.36 488.648,1462.26 539.273,1462.26 539.273,1398.36 488.648,1398.36 \n",
       "  \"/>\n",
       "<polygon clip-path=\"url(#clip3903)\" points=\"\n",
       "539.273,1371.74 539.273,1462.26 589.897,1462.26 589.897,1371.74 539.273,1371.74 539.273,1371.74 \n",
       "  \" fill=\"#009af9\" fill-rule=\"evenodd\" fill-opacity=\"1\"/>\n",
       "<polyline clip-path=\"url(#clip3903)\" style=\"stroke:#000000; stroke-width:4; stroke-opacity:1; fill:none\" points=\"\n",
       "  539.273,1371.74 539.273,1462.26 589.897,1462.26 589.897,1371.74 539.273,1371.74 \n",
       "  \"/>\n",
       "<polygon clip-path=\"url(#clip3903)\" points=\"\n",
       "589.897,1406.35 589.897,1462.26 640.522,1462.26 640.522,1406.35 589.897,1406.35 589.897,1406.35 \n",
       "  \" fill=\"#009af9\" fill-rule=\"evenodd\" fill-opacity=\"1\"/>\n",
       "<polyline clip-path=\"url(#clip3903)\" style=\"stroke:#000000; stroke-width:4; stroke-opacity:1; fill:none\" points=\"\n",
       "  589.897,1406.35 589.897,1462.26 640.522,1462.26 640.522,1406.35 589.897,1406.35 \n",
       "  \"/>\n",
       "<polygon clip-path=\"url(#clip3903)\" points=\"\n",
       "640.522,1440.96 640.522,1462.26 691.147,1462.26 691.147,1440.96 640.522,1440.96 640.522,1440.96 \n",
       "  \" fill=\"#009af9\" fill-rule=\"evenodd\" fill-opacity=\"1\"/>\n",
       "<polyline clip-path=\"url(#clip3903)\" style=\"stroke:#000000; stroke-width:4; stroke-opacity:1; fill:none\" points=\"\n",
       "  640.522,1440.96 640.522,1462.26 691.147,1462.26 691.147,1440.96 640.522,1440.96 \n",
       "  \"/>\n",
       "<polygon clip-path=\"url(#clip3903)\" points=\"\n",
       "691.147,1432.97 691.147,1462.26 741.771,1462.26 741.771,1432.97 691.147,1432.97 691.147,1432.97 \n",
       "  \" fill=\"#009af9\" fill-rule=\"evenodd\" fill-opacity=\"1\"/>\n",
       "<polyline clip-path=\"url(#clip3903)\" style=\"stroke:#000000; stroke-width:4; stroke-opacity:1; fill:none\" points=\"\n",
       "  691.147,1432.97 691.147,1462.26 741.771,1462.26 741.771,1432.97 691.147,1432.97 \n",
       "  \"/>\n",
       "<polygon clip-path=\"url(#clip3903)\" points=\"\n",
       "741.771,1451.61 741.771,1462.26 792.396,1462.26 792.396,1451.61 741.771,1451.61 741.771,1451.61 \n",
       "  \" fill=\"#009af9\" fill-rule=\"evenodd\" fill-opacity=\"1\"/>\n",
       "<polyline clip-path=\"url(#clip3903)\" style=\"stroke:#000000; stroke-width:4; stroke-opacity:1; fill:none\" points=\"\n",
       "  741.771,1451.61 741.771,1462.26 792.396,1462.26 792.396,1451.61 741.771,1451.61 \n",
       "  \"/>\n",
       "<polygon clip-path=\"url(#clip3903)\" points=\"\n",
       "792.396,1448.95 792.396,1462.26 843.02,1462.26 843.02,1448.95 792.396,1448.95 792.396,1448.95 \n",
       "  \" fill=\"#009af9\" fill-rule=\"evenodd\" fill-opacity=\"1\"/>\n",
       "<polyline clip-path=\"url(#clip3903)\" style=\"stroke:#000000; stroke-width:4; stroke-opacity:1; fill:none\" points=\"\n",
       "  792.396,1448.95 792.396,1462.26 843.02,1462.26 843.02,1448.95 792.396,1448.95 \n",
       "  \"/>\n",
       "<polygon clip-path=\"url(#clip3903)\" points=\"\n",
       "843.02,1446.29 843.02,1462.26 893.645,1462.26 893.645,1446.29 843.02,1446.29 843.02,1446.29 \n",
       "  \" fill=\"#009af9\" fill-rule=\"evenodd\" fill-opacity=\"1\"/>\n",
       "<polyline clip-path=\"url(#clip3903)\" style=\"stroke:#000000; stroke-width:4; stroke-opacity:1; fill:none\" points=\"\n",
       "  843.02,1446.29 843.02,1462.26 893.645,1462.26 893.645,1446.29 843.02,1446.29 \n",
       "  \"/>\n",
       "<polygon clip-path=\"url(#clip3903)\" points=\"\n",
       "893.645,1448.95 893.645,1462.26 944.27,1462.26 944.27,1448.95 893.645,1448.95 893.645,1448.95 \n",
       "  \" fill=\"#009af9\" fill-rule=\"evenodd\" fill-opacity=\"1\"/>\n",
       "<polyline clip-path=\"url(#clip3903)\" style=\"stroke:#000000; stroke-width:4; stroke-opacity:1; fill:none\" points=\"\n",
       "  893.645,1448.95 893.645,1462.26 944.27,1462.26 944.27,1448.95 893.645,1448.95 \n",
       "  \"/>\n",
       "<polygon clip-path=\"url(#clip3903)\" points=\"\n",
       "944.27,1462.26 944.27,1462.26 994.894,1462.26 994.894,1462.26 944.27,1462.26 944.27,1462.26 \n",
       "  \" fill=\"#009af9\" fill-rule=\"evenodd\" fill-opacity=\"1\"/>\n",
       "<polyline clip-path=\"url(#clip3903)\" style=\"stroke:#000000; stroke-width:4; stroke-opacity:1; fill:none\" points=\"\n",
       "  944.27,1462.26 944.27,1462.26 994.894,1462.26 944.27,1462.26 \n",
       "  \"/>\n",
       "<polygon clip-path=\"url(#clip3903)\" points=\"\n",
       "994.894,1456.94 994.894,1462.26 1045.52,1462.26 1045.52,1456.94 994.894,1456.94 994.894,1456.94 \n",
       "  \" fill=\"#009af9\" fill-rule=\"evenodd\" fill-opacity=\"1\"/>\n",
       "<polyline clip-path=\"url(#clip3903)\" style=\"stroke:#000000; stroke-width:4; stroke-opacity:1; fill:none\" points=\"\n",
       "  994.894,1456.94 994.894,1462.26 1045.52,1462.26 1045.52,1456.94 994.894,1456.94 \n",
       "  \"/>\n",
       "<polygon clip-path=\"url(#clip3903)\" points=\"\n",
       "1045.52,1459.6 1045.52,1462.26 1096.14,1462.26 1096.14,1459.6 1045.52,1459.6 1045.52,1459.6 \n",
       "  \" fill=\"#009af9\" fill-rule=\"evenodd\" fill-opacity=\"1\"/>\n",
       "<polyline clip-path=\"url(#clip3903)\" style=\"stroke:#000000; stroke-width:4; stroke-opacity:1; fill:none\" points=\"\n",
       "  1045.52,1459.6 1045.52,1462.26 1096.14,1462.26 1096.14,1459.6 1045.52,1459.6 \n",
       "  \"/>\n",
       "<polygon clip-path=\"url(#clip3903)\" points=\"\n",
       "1096.14,1462.26 1096.14,1462.26 1146.77,1462.26 1146.77,1462.26 1096.14,1462.26 1096.14,1462.26 \n",
       "  \" fill=\"#009af9\" fill-rule=\"evenodd\" fill-opacity=\"1\"/>\n",
       "<polyline clip-path=\"url(#clip3903)\" style=\"stroke:#000000; stroke-width:4; stroke-opacity:1; fill:none\" points=\"\n",
       "  1096.14,1462.26 1096.14,1462.26 1146.77,1462.26 1096.14,1462.26 \n",
       "  \"/>\n",
       "<polygon clip-path=\"url(#clip3903)\" points=\"\n",
       "1146.77,1462.26 1146.77,1462.26 1197.39,1462.26 1197.39,1462.26 1146.77,1462.26 1146.77,1462.26 \n",
       "  \" fill=\"#009af9\" fill-rule=\"evenodd\" fill-opacity=\"1\"/>\n",
       "<polyline clip-path=\"url(#clip3903)\" style=\"stroke:#000000; stroke-width:4; stroke-opacity:1; fill:none\" points=\"\n",
       "  1146.77,1462.26 1146.77,1462.26 1197.39,1462.26 1146.77,1462.26 \n",
       "  \"/>\n",
       "<polygon clip-path=\"url(#clip3903)\" points=\"\n",
       "1197.39,1462.26 1197.39,1462.26 1248.02,1462.26 1248.02,1462.26 1197.39,1462.26 1197.39,1462.26 \n",
       "  \" fill=\"#009af9\" fill-rule=\"evenodd\" fill-opacity=\"1\"/>\n",
       "<polyline clip-path=\"url(#clip3903)\" style=\"stroke:#000000; stroke-width:4; stroke-opacity:1; fill:none\" points=\"\n",
       "  1197.39,1462.26 1197.39,1462.26 1248.02,1462.26 1197.39,1462.26 \n",
       "  \"/>\n",
       "<polygon clip-path=\"url(#clip3903)\" points=\"\n",
       "1248.02,1462.26 1248.02,1462.26 1298.64,1462.26 1298.64,1462.26 1248.02,1462.26 1248.02,1462.26 \n",
       "  \" fill=\"#009af9\" fill-rule=\"evenodd\" fill-opacity=\"1\"/>\n",
       "<polyline clip-path=\"url(#clip3903)\" style=\"stroke:#000000; stroke-width:4; stroke-opacity:1; fill:none\" points=\"\n",
       "  1248.02,1462.26 1248.02,1462.26 1298.64,1462.26 1248.02,1462.26 \n",
       "  \"/>\n",
       "<polygon clip-path=\"url(#clip3903)\" points=\"\n",
       "1298.64,1459.6 1298.64,1462.26 1349.27,1462.26 1349.27,1459.6 1298.64,1459.6 1298.64,1459.6 \n",
       "  \" fill=\"#009af9\" fill-rule=\"evenodd\" fill-opacity=\"1\"/>\n",
       "<polyline clip-path=\"url(#clip3903)\" style=\"stroke:#000000; stroke-width:4; stroke-opacity:1; fill:none\" points=\"\n",
       "  1298.64,1459.6 1298.64,1462.26 1349.27,1462.26 1349.27,1459.6 1298.64,1459.6 \n",
       "  \"/>\n",
       "<polygon clip-path=\"url(#clip3903)\" points=\"\n",
       "1349.27,1462.26 1349.27,1462.26 1399.89,1462.26 1399.89,1462.26 1349.27,1462.26 1349.27,1462.26 \n",
       "  \" fill=\"#009af9\" fill-rule=\"evenodd\" fill-opacity=\"1\"/>\n",
       "<polyline clip-path=\"url(#clip3903)\" style=\"stroke:#000000; stroke-width:4; stroke-opacity:1; fill:none\" points=\"\n",
       "  1349.27,1462.26 1349.27,1462.26 1399.89,1462.26 1349.27,1462.26 \n",
       "  \"/>\n",
       "<polygon clip-path=\"url(#clip3903)\" points=\"\n",
       "1399.89,1459.6 1399.89,1462.26 1450.52,1462.26 1450.52,1459.6 1399.89,1459.6 1399.89,1459.6 \n",
       "  \" fill=\"#009af9\" fill-rule=\"evenodd\" fill-opacity=\"1\"/>\n",
       "<polyline clip-path=\"url(#clip3903)\" style=\"stroke:#000000; stroke-width:4; stroke-opacity:1; fill:none\" points=\"\n",
       "  1399.89,1459.6 1399.89,1462.26 1450.52,1462.26 1450.52,1459.6 1399.89,1459.6 \n",
       "  \"/>\n",
       "<polygon clip-path=\"url(#clip3903)\" points=\"\n",
       "1450.52,1462.26 1450.52,1462.26 1501.14,1462.26 1501.14,1462.26 1450.52,1462.26 1450.52,1462.26 \n",
       "  \" fill=\"#009af9\" fill-rule=\"evenodd\" fill-opacity=\"1\"/>\n",
       "<polyline clip-path=\"url(#clip3903)\" style=\"stroke:#000000; stroke-width:4; stroke-opacity:1; fill:none\" points=\"\n",
       "  1450.52,1462.26 1450.52,1462.26 1501.14,1462.26 1450.52,1462.26 \n",
       "  \"/>\n",
       "<polygon clip-path=\"url(#clip3903)\" points=\"\n",
       "1501.14,1462.26 1501.14,1462.26 1551.77,1462.26 1551.77,1462.26 1501.14,1462.26 1501.14,1462.26 \n",
       "  \" fill=\"#009af9\" fill-rule=\"evenodd\" fill-opacity=\"1\"/>\n",
       "<polyline clip-path=\"url(#clip3903)\" style=\"stroke:#000000; stroke-width:4; stroke-opacity:1; fill:none\" points=\"\n",
       "  1501.14,1462.26 1501.14,1462.26 1551.77,1462.26 1501.14,1462.26 \n",
       "  \"/>\n",
       "<polygon clip-path=\"url(#clip3903)\" points=\"\n",
       "1551.77,1462.26 1551.77,1462.26 1602.39,1462.26 1602.39,1462.26 1551.77,1462.26 1551.77,1462.26 \n",
       "  \" fill=\"#009af9\" fill-rule=\"evenodd\" fill-opacity=\"1\"/>\n",
       "<polyline clip-path=\"url(#clip3903)\" style=\"stroke:#000000; stroke-width:4; stroke-opacity:1; fill:none\" points=\"\n",
       "  1551.77,1462.26 1551.77,1462.26 1602.39,1462.26 1551.77,1462.26 \n",
       "  \"/>\n",
       "<polygon clip-path=\"url(#clip3903)\" points=\"\n",
       "1602.39,1462.26 1602.39,1462.26 1653.01,1462.26 1653.01,1462.26 1602.39,1462.26 1602.39,1462.26 \n",
       "  \" fill=\"#009af9\" fill-rule=\"evenodd\" fill-opacity=\"1\"/>\n",
       "<polyline clip-path=\"url(#clip3903)\" style=\"stroke:#000000; stroke-width:4; stroke-opacity:1; fill:none\" points=\"\n",
       "  1602.39,1462.26 1602.39,1462.26 1653.01,1462.26 1602.39,1462.26 \n",
       "  \"/>\n",
       "<polygon clip-path=\"url(#clip3903)\" points=\"\n",
       "1653.01,1459.6 1653.01,1462.26 1703.64,1462.26 1703.64,1459.6 1653.01,1459.6 1653.01,1459.6 \n",
       "  \" fill=\"#009af9\" fill-rule=\"evenodd\" fill-opacity=\"1\"/>\n",
       "<polyline clip-path=\"url(#clip3903)\" style=\"stroke:#000000; stroke-width:4; stroke-opacity:1; fill:none\" points=\"\n",
       "  1653.01,1459.6 1653.01,1462.26 1703.64,1462.26 1703.64,1459.6 1653.01,1459.6 \n",
       "  \"/>\n",
       "<polyline clip-path=\"url(#clip3903)\" style=\"stroke:#e26f46; stroke-width:4; stroke-opacity:1; fill:none\" stroke-dasharray=\"16, 10\" points=\"\n",
       "  692.558,147127 692.558,-145576 \n",
       "  \"/>\n",
       "</svg>\n"
      ]
     },
     "execution_count": 11,
     "metadata": {},
     "output_type": "execute_result"
    }
   ],
   "source": [
    "histogram(dd12, xlim=[0, 20], legend=false)\n",
    "vline!([deltaD], linestyle=:dash)"
   ]
  },
  {
   "cell_type": "code",
   "execution_count": 12,
   "metadata": {},
   "outputs": [
    {
     "data": {
      "text/plain": [
       "37"
      ]
     },
     "execution_count": 12,
     "metadata": {},
     "output_type": "execute_result"
    }
   ],
   "source": [
    "sum(dd12 .>= deltaD)"
   ]
  },
  {
   "cell_type": "code",
   "execution_count": 13,
   "metadata": {},
   "outputs": [
    {
     "data": {
      "text/plain": [
       "0.037"
      ]
     },
     "execution_count": 13,
     "metadata": {},
     "output_type": "execute_result"
    }
   ],
   "source": [
    "p_value = sum(dd12 .>= deltaD) / length(dd12)"
   ]
  },
  {
   "cell_type": "code",
   "execution_count": 14,
   "metadata": {},
   "outputs": [
    {
     "data": {
      "text/plain": [
       "3.758685959957325"
      ]
     },
     "execution_count": 14,
     "metadata": {},
     "output_type": "execute_result"
    }
   ],
   "source": [
    "α = 0.05\n",
    "quantile(dd12, 1-α)"
   ]
  },
  {
   "cell_type": "markdown",
   "metadata": {},
   "source": [
    "有意水準5%では上記の数値くらいまでの逸脱度の差は「よくある差」だと判断できる。"
   ]
  },
  {
   "cell_type": "markdown",
   "metadata": {},
   "source": [
    "### 3.4.2 方法(2) カイ二乗分布を使った近似計算法\n",
    "\n",
    "JuliaにRのようなANOVAは無さそうなので、コード例をそのままJuliaに移植することはできない。でもカイ二乗分布の累積分布関数を使ってp値を求めることはできる。"
   ]
  },
  {
   "cell_type": "code",
   "execution_count": 15,
   "metadata": {},
   "outputs": [
    {
     "data": {
      "text/plain": [
       "0.03361969100898521"
      ]
     },
     "execution_count": 15,
     "metadata": {},
     "output_type": "execute_result"
    }
   ],
   "source": [
    "fit1 = glm(@formula(y ~ 1), d, Poisson(), LogLink())\n",
    "fit2 = glm(@formula(y ~ x), d, Poisson(), LogLink())\n",
    "dd12 = deviance(fit1) - deviance(fit2)\n",
    "1 - cdf(Chisq(1), dd12)"
   ]
  }
 ],
 "metadata": {
  "kernelspec": {
   "display_name": "Julia 1.0.3",
   "language": "julia",
   "name": "julia-1.0"
  },
  "language_info": {
   "file_extension": ".jl",
   "mimetype": "application/julia",
   "name": "julia",
   "version": "1.0.3"
  }
 },
 "nbformat": 4,
 "nbformat_minor": 2
}
