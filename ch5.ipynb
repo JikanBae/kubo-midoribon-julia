{
 "cells": [
  {
   "cell_type": "markdown",
   "metadata": {},
   "source": [
    "久保拓弥『データ解析のための統計モデリング入門』をJuliaでやってみます。\n",
    "\n",
    "* 久保さんの書籍ページ：http://hosho.ees.hokudai.ac.jp/~kubo/ce/IwanamiBook.html\n",
    "* Amazon.co.jp：https://amzn.to/2Cg5vDJ\n",
    "\n",
    "# 第5章 GLMの尤度比検定と検定の非対称性"
   ]
  },
  {
   "cell_type": "code",
   "execution_count": 1,
   "metadata": {},
   "outputs": [],
   "source": [
    "using CSV\n",
    "using DataFrames\n",
    "using GLM\n",
    "using Plots\n",
    "using Distributions"
   ]
  },
  {
   "cell_type": "markdown",
   "metadata": {},
   "source": [
    "## 5.2 尤度比検定の例題：逸脱度の差を調べる"
   ]
  },
  {
   "cell_type": "code",
   "execution_count": 2,
   "metadata": {},
   "outputs": [],
   "source": [
    "d = CSV.read(\"data3a.csv\");\n",
    "fit1 = glm(@formula(y ~ 1), d, Poisson(), LogLink());\n",
    "fit2 = glm(@formula(y ~ x), d, Poisson(), LogLink());"
   ]
  },
  {
   "cell_type": "markdown",
   "metadata": {},
   "source": [
    "**尤度比**（_likelihood ratio_）を対数化して-2をかけたものが逸脱度の差$\\Delta D$になる。\n",
    "$$ \\frac{L_1^\\ast}{L_2^\\ast} $$\n",
    "$$ \\Delta D_{1,2} = -2\\times\\left(\\log L_1^\\ast - \\log L_2^\\ast\\right) $$"
   ]
  },
  {
   "cell_type": "code",
   "execution_count": 3,
   "metadata": {},
   "outputs": [
    {
     "data": {
      "text/plain": [
       "4.5139410788519285"
      ]
     },
     "execution_count": 3,
     "metadata": {},
     "output_type": "execute_result"
    }
   ],
   "source": [
    "D1 = -2 * loglikelihood(fit1)\n",
    "D2 = -2 * loglikelihood(fit2)\n",
    "deltaD = D1 - D2   # deviance(fit1) - deviance(fit2) でも同じ"
   ]
  },
  {
   "cell_type": "markdown",
   "metadata": {},
   "source": [
    "この4.5という値の大きさが十分なのかどうかをどうやって確認するの？というのが、この後の中心的な話題。\n",
    "\n",
    "## 5.4 帰無仮説を棄却するための有意水準\n",
    "\n",
    "### 5.4.1 方法(1) 汎用性のあるパラメトリックブートストラップ法（p.102）\n",
    "\n"
   ]
  },
  {
   "cell_type": "code",
   "execution_count": 4,
   "metadata": {},
   "outputs": [
    {
     "data": {
      "text/plain": [
       "4.513941078851829"
      ]
     },
     "execution_count": 4,
     "metadata": {},
     "output_type": "execute_result"
    }
   ],
   "source": [
    "deviance(fit1) - deviance(fit2)"
   ]
  },
  {
   "cell_type": "code",
   "execution_count": 5,
   "metadata": {},
   "outputs": [
    {
     "data": {
      "text/plain": [
       "100-element Array{Int64,1}:\n",
       "  6\n",
       " 10\n",
       "  3\n",
       "  6\n",
       "  5\n",
       "  7\n",
       "  6\n",
       "  6\n",
       "  7\n",
       "  5\n",
       " 11\n",
       " 15\n",
       "  7\n",
       "  ⋮\n",
       "  8\n",
       " 10\n",
       "  7\n",
       "  9\n",
       "  7\n",
       "  6\n",
       "  6\n",
       " 10\n",
       " 10\n",
       "  7\n",
       "  3\n",
       "  7"
      ]
     },
     "execution_count": 5,
     "metadata": {},
     "output_type": "execute_result"
    }
   ],
   "source": [
    "d[:y_rnd] = rand(Poisson(mean(d[:y])), 100)"
   ]
  },
  {
   "cell_type": "code",
   "execution_count": 6,
   "metadata": {},
   "outputs": [
    {
     "data": {
      "text/html": [
       "<table class=\"data-frame\"><thead><tr><th></th><th>y</th><th>x</th><th>f</th><th>y_rnd</th></tr><tr><th></th><th>Int64⍰</th><th>Float64⍰</th><th>String⍰</th><th>Int64</th></tr></thead><tbody><tr><th>1</th><td>6</td><td>8.31</td><td>C</td><td>6</td></tr><tr><th>2</th><td>6</td><td>9.44</td><td>C</td><td>10</td></tr><tr><th>3</th><td>6</td><td>9.5</td><td>C</td><td>3</td></tr><tr><th>4</th><td>12</td><td>9.07</td><td>C</td><td>6</td></tr><tr><th>5</th><td>10</td><td>10.16</td><td>C</td><td>5</td></tr><tr><th>6</th><td>4</td><td>8.32</td><td>C</td><td>7</td></tr><tr><th>7</th><td>9</td><td>10.61</td><td>C</td><td>6</td></tr><tr><th>8</th><td>9</td><td>10.06</td><td>C</td><td>6</td></tr><tr><th>9</th><td>9</td><td>9.93</td><td>C</td><td>7</td></tr><tr><th>10</th><td>11</td><td>10.43</td><td>C</td><td>5</td></tr><tr><th>11</th><td>6</td><td>10.36</td><td>C</td><td>11</td></tr><tr><th>12</th><td>10</td><td>10.15</td><td>C</td><td>15</td></tr><tr><th>13</th><td>6</td><td>10.92</td><td>C</td><td>7</td></tr><tr><th>14</th><td>10</td><td>8.85</td><td>C</td><td>11</td></tr><tr><th>15</th><td>11</td><td>9.42</td><td>C</td><td>10</td></tr><tr><th>16</th><td>8</td><td>11.11</td><td>C</td><td>8</td></tr><tr><th>17</th><td>3</td><td>8.02</td><td>C</td><td>9</td></tr><tr><th>18</th><td>8</td><td>11.93</td><td>C</td><td>10</td></tr><tr><th>19</th><td>5</td><td>8.55</td><td>C</td><td>15</td></tr><tr><th>20</th><td>5</td><td>7.19</td><td>C</td><td>11</td></tr><tr><th>21</th><td>4</td><td>9.83</td><td>C</td><td>7</td></tr><tr><th>22</th><td>11</td><td>10.79</td><td>C</td><td>7</td></tr><tr><th>23</th><td>5</td><td>8.89</td><td>C</td><td>7</td></tr><tr><th>24</th><td>10</td><td>10.09</td><td>C</td><td>12</td></tr><tr><th>25</th><td>6</td><td>11.63</td><td>C</td><td>4</td></tr><tr><th>26</th><td>6</td><td>10.21</td><td>C</td><td>10</td></tr><tr><th>27</th><td>7</td><td>9.45</td><td>C</td><td>5</td></tr><tr><th>28</th><td>9</td><td>10.44</td><td>C</td><td>7</td></tr><tr><th>29</th><td>3</td><td>9.44</td><td>C</td><td>11</td></tr><tr><th>30</th><td>10</td><td>10.48</td><td>C</td><td>10</td></tr><tr><th>&vellip;</th><td>&vellip;</td><td>&vellip;</td><td>&vellip;</td><td>&vellip;</td></tr></tbody></table>"
      ],
      "text/latex": [
       "\\begin{tabular}{r|cccc}\n",
       "\t& y & x & f & y\\_rnd\\\\\n",
       "\t\\hline\n",
       "\t1 & 6 & 8.31 & C & 6 \\\\\n",
       "\t2 & 6 & 9.44 & C & 10 \\\\\n",
       "\t3 & 6 & 9.5 & C & 3 \\\\\n",
       "\t4 & 12 & 9.07 & C & 6 \\\\\n",
       "\t5 & 10 & 10.16 & C & 5 \\\\\n",
       "\t6 & 4 & 8.32 & C & 7 \\\\\n",
       "\t7 & 9 & 10.61 & C & 6 \\\\\n",
       "\t8 & 9 & 10.06 & C & 6 \\\\\n",
       "\t9 & 9 & 9.93 & C & 7 \\\\\n",
       "\t10 & 11 & 10.43 & C & 5 \\\\\n",
       "\t11 & 6 & 10.36 & C & 11 \\\\\n",
       "\t12 & 10 & 10.15 & C & 15 \\\\\n",
       "\t13 & 6 & 10.92 & C & 7 \\\\\n",
       "\t14 & 10 & 8.85 & C & 11 \\\\\n",
       "\t15 & 11 & 9.42 & C & 10 \\\\\n",
       "\t16 & 8 & 11.11 & C & 8 \\\\\n",
       "\t17 & 3 & 8.02 & C & 9 \\\\\n",
       "\t18 & 8 & 11.93 & C & 10 \\\\\n",
       "\t19 & 5 & 8.55 & C & 15 \\\\\n",
       "\t20 & 5 & 7.19 & C & 11 \\\\\n",
       "\t21 & 4 & 9.83 & C & 7 \\\\\n",
       "\t22 & 11 & 10.79 & C & 7 \\\\\n",
       "\t23 & 5 & 8.89 & C & 7 \\\\\n",
       "\t24 & 10 & 10.09 & C & 12 \\\\\n",
       "\t25 & 6 & 11.63 & C & 4 \\\\\n",
       "\t26 & 6 & 10.21 & C & 10 \\\\\n",
       "\t27 & 7 & 9.45 & C & 5 \\\\\n",
       "\t28 & 9 & 10.44 & C & 7 \\\\\n",
       "\t29 & 3 & 9.44 & C & 11 \\\\\n",
       "\t30 & 10 & 10.48 & C & 10 \\\\\n",
       "\t31 & 2 & 9.43 & C & 8 \\\\\n",
       "\t32 & 9 & 10.32 & C & 10 \\\\\n",
       "\t33 & 10 & 10.33 & C & 9 \\\\\n",
       "\t34 & 5 & 8.5 & C & 6 \\\\\n",
       "\t35 & 11 & 9.41 & C & 9 \\\\\n",
       "\t36 & 10 & 8.96 & C & 10 \\\\\n",
       "\t37 & 4 & 9.67 & C & 7 \\\\\n",
       "\t38 & 8 & 10.26 & C & 10 \\\\\n",
       "\t39 & 9 & 10.36 & C & 8 \\\\\n",
       "\t40 & 12 & 11.8 & C & 7 \\\\\n",
       "\t41 & 8 & 10.94 & C & 7 \\\\\n",
       "\t42 & 9 & 10.25 & C & 8 \\\\\n",
       "\t43 & 8 & 8.74 & C & 4 \\\\\n",
       "\t44 & 6 & 10.46 & C & 7 \\\\\n",
       "\t45 & 6 & 9.37 & C & 11 \\\\\n",
       "\t46 & 10 & 9.74 & C & 7 \\\\\n",
       "\t47 & 10 & 8.95 & C & 8 \\\\\n",
       "\t48 & 9 & 8.74 & C & 5 \\\\\n",
       "\t49 & 12 & 11.32 & C & 8 \\\\\n",
       "\t50 & 6 & 9.25 & C & 5 \\\\\n",
       "\t51 & 14 & 10.14 & T & 9 \\\\\n",
       "\t52 & 6 & 9.05 & T & 6 \\\\\n",
       "\t53 & 7 & 9.89 & T & 5 \\\\\n",
       "\t54 & 9 & 8.76 & T & 6 \\\\\n",
       "\t55 & 6 & 12.04 & T & 7 \\\\\n",
       "\t56 & 7 & 9.91 & T & 7 \\\\\n",
       "\t57 & 9 & 9.84 & T & 8 \\\\\n",
       "\t58 & 13 & 11.87 & T & 8 \\\\\n",
       "\t59 & 9 & 10.16 & T & 7 \\\\\n",
       "\t60 & 13 & 9.34 & T & 12 \\\\\n",
       "\t61 & 7 & 10.17 & T & 9 \\\\\n",
       "\t62 & 8 & 10.99 & T & 9 \\\\\n",
       "\t63 & 10 & 9.19 & T & 6 \\\\\n",
       "\t64 & 7 & 10.67 & T & 7 \\\\\n",
       "\t65 & 12 & 10.96 & T & 6 \\\\\n",
       "\t66 & 6 & 10.55 & T & 5 \\\\\n",
       "\t67 & 15 & 9.69 & T & 5 \\\\\n",
       "\t68 & 3 & 10.91 & T & 10 \\\\\n",
       "\t69 & 4 & 9.6 & T & 11 \\\\\n",
       "\t70 & 6 & 12.37 & T & 12 \\\\\n",
       "\t71 & 10 & 10.54 & T & 7 \\\\\n",
       "\t72 & 8 & 11.3 & T & 13 \\\\\n",
       "\t73 & 8 & 12.4 & T & 5 \\\\\n",
       "\t74 & 7 & 10.18 & T & 10 \\\\\n",
       "\t75 & 5 & 9.53 & T & 8 \\\\\n",
       "\t76 & 6 & 10.24 & T & 7 \\\\\n",
       "\t77 & 8 & 11.76 & T & 4 \\\\\n",
       "\t78 & 9 & 9.52 & T & 9 \\\\\n",
       "\t79 & 9 & 10.4 & T & 7 \\\\\n",
       "\t80 & 6 & 9.96 & T & 5 \\\\\n",
       "\t81 & 7 & 10.3 & T & 6 \\\\\n",
       "\t82 & 10 & 11.54 & T & 7 \\\\\n",
       "\t83 & 6 & 9.42 & T & 8 \\\\\n",
       "\t84 & 11 & 11.28 & T & 8 \\\\\n",
       "\t85 & 11 & 9.73 & T & 4 \\\\\n",
       "\t86 & 11 & 10.78 & T & 8 \\\\\n",
       "\t87 & 5 & 10.21 & T & 12 \\\\\n",
       "\t88 & 6 & 10.51 & T & 7 \\\\\n",
       "\t89 & 4 & 10.73 & T & 8 \\\\\n",
       "\t90 & 5 & 8.85 & T & 10 \\\\\n",
       "\t91 & 6 & 11.2 & T & 7 \\\\\n",
       "\t92 & 5 & 9.86 & T & 9 \\\\\n",
       "\t93 & 8 & 11.54 & T & 7 \\\\\n",
       "\t94 & 5 & 10.03 & T & 6 \\\\\n",
       "\t95 & 9 & 11.88 & T & 6 \\\\\n",
       "\t96 & 8 & 9.15 & T & 10 \\\\\n",
       "\t97 & 6 & 8.52 & T & 10 \\\\\n",
       "\t98 & 8 & 10.24 & T & 7 \\\\\n",
       "\t99 & 7 & 10.86 & T & 3 \\\\\n",
       "\t100 & 9 & 9.97 & T & 7 \\\\\n",
       "\\end{tabular}\n"
      ],
      "text/plain": [
       "100×4 DataFrame\n",
       "│ Row │ y      │ x        │ f       │ y_rnd │\n",
       "│     │ \u001b[90mInt64⍰\u001b[39m │ \u001b[90mFloat64⍰\u001b[39m │ \u001b[90mString⍰\u001b[39m │ \u001b[90mInt64\u001b[39m │\n",
       "├─────┼────────┼──────────┼─────────┼───────┤\n",
       "│ 1   │ 6      │ 8.31     │ C       │ 6     │\n",
       "│ 2   │ 6      │ 9.44     │ C       │ 10    │\n",
       "│ 3   │ 6      │ 9.5      │ C       │ 3     │\n",
       "│ 4   │ 12     │ 9.07     │ C       │ 6     │\n",
       "│ 5   │ 10     │ 10.16    │ C       │ 5     │\n",
       "│ 6   │ 4      │ 8.32     │ C       │ 7     │\n",
       "│ 7   │ 9      │ 10.61    │ C       │ 6     │\n",
       "│ 8   │ 9      │ 10.06    │ C       │ 6     │\n",
       "│ 9   │ 9      │ 9.93     │ C       │ 7     │\n",
       "│ 10  │ 11     │ 10.43    │ C       │ 5     │\n",
       "⋮\n",
       "│ 90  │ 5      │ 8.85     │ T       │ 10    │\n",
       "│ 91  │ 6      │ 11.2     │ T       │ 7     │\n",
       "│ 92  │ 5      │ 9.86     │ T       │ 9     │\n",
       "│ 93  │ 8      │ 11.54    │ T       │ 7     │\n",
       "│ 94  │ 5      │ 10.03    │ T       │ 6     │\n",
       "│ 95  │ 9      │ 11.88    │ T       │ 6     │\n",
       "│ 96  │ 8      │ 9.15     │ T       │ 10    │\n",
       "│ 97  │ 6      │ 8.52     │ T       │ 10    │\n",
       "│ 98  │ 8      │ 10.24    │ T       │ 7     │\n",
       "│ 99  │ 7      │ 10.86    │ T       │ 3     │\n",
       "│ 100 │ 9      │ 9.97     │ T       │ 7     │"
      ]
     },
     "execution_count": 6,
     "metadata": {},
     "output_type": "execute_result"
    }
   ],
   "source": [
    "d"
   ]
  },
  {
   "cell_type": "code",
   "execution_count": 7,
   "metadata": {},
   "outputs": [
    {
     "data": {
      "text/plain": [
       "0.9795550179359509"
      ]
     },
     "execution_count": 7,
     "metadata": {},
     "output_type": "execute_result"
    }
   ],
   "source": [
    "fit1 = glm(@formula(y_rnd ~ 1), d, Poisson(), LogLink())\n",
    "fit2 = glm(@formula(y_rnd ~ x), d, Poisson(), LogLink())\n",
    "deviance(fit1) - deviance(fit2)"
   ]
  },
  {
   "cell_type": "markdown",
   "metadata": {},
   "source": [
    "これを1000回くらい繰り返して、ランダム生成したデータの逸脱度の差の平均や標準偏差をみる。単純な方法は以下の`for`を使うやり方。"
   ]
  },
  {
   "cell_type": "code",
   "execution_count": 8,
   "metadata": {},
   "outputs": [],
   "source": [
    "N = 1000\n",
    "dd12 = zeros(N)\n",
    "for n=1:N\n",
    "    d[:y_rnd] = rand(Poisson(mean(d[:y])), 100)\n",
    "    fit1 = glm(@formula(y_rnd ~ 1), d, Poisson(), LogLink())\n",
    "    fit2 = glm(@formula(y_rnd ~ x), d, Poisson(), LogLink())\n",
    "    dd12[n] = deviance(fit1) - deviance(fit2)\n",
    "end"
   ]
  },
  {
   "cell_type": "markdown",
   "metadata": {},
   "source": [
    "p.104のコードをJuliaで書くと以下のようになるだろうか。`replicate()`の代わりにarray comprehensionを使った。"
   ]
  },
  {
   "cell_type": "code",
   "execution_count": 9,
   "metadata": {},
   "outputs": [
    {
     "data": {
      "text/plain": [
       "1000-element Array{Float64,1}:\n",
       " 0.03503911493257306 \n",
       " 2.16551712244987    \n",
       " 0.18417904336557456 \n",
       " 2.9710552248369595  \n",
       " 0.03029112775013232 \n",
       " 4.854771978557437e-5\n",
       " 0.580461177384251   \n",
       " 0.8108954861038455  \n",
       " 0.002174093469250238\n",
       " 0.07239236495857426 \n",
       " 0.4371866103910236  \n",
       " 0.30143412744338605 \n",
       " 0.19640750581336874 \n",
       " ⋮                   \n",
       " 0.009246001972172735\n",
       " 0.08132731498284329 \n",
       " 0.737911483088638   \n",
       " 0.28999534747438815 \n",
       " 0.06477951930165204 \n",
       " 2.4985931415139646  \n",
       " 0.3102158555185781  \n",
       " 0.9592464035310684  \n",
       " 0.00981962853391849 \n",
       " 0.05134126542147044 \n",
       " 0.03052263022394186 \n",
       " 1.2774884716550616  "
      ]
     },
     "execution_count": 9,
     "metadata": {},
     "output_type": "execute_result"
    }
   ],
   "source": [
    "function get_dd(d)\n",
    "    n_sample = nrow(d)\n",
    "    y_mean = mean(d[:y])\n",
    "    d[:y_rnd] = rand(Poisson(mean(d[:y])), 100)\n",
    "    fit1 = glm(@formula(y_rnd ~ 1), d, Poisson(), LogLink())\n",
    "    fit2 = glm(@formula(y_rnd ~ x), d, Poisson(), LogLink())\n",
    "    return(deviance(fit1) - deviance(fit2))\n",
    "end\n",
    "\n",
    "function pb(d, n_bootstrap)\n",
    "    [get_dd(d) for n=1:n_bootstrap]\n",
    "end\n",
    "\n",
    "N = 1000\n",
    "dd12 = pb(d, N)"
   ]
  },
  {
   "cell_type": "code",
   "execution_count": 10,
   "metadata": {},
   "outputs": [
    {
     "name": "stdout",
     "output_type": "stream",
     "text": [
      "Summary Stats:\n",
      "Mean:           0.937513\n",
      "Minimum:        0.000013\n",
      "1st Quartile:   0.087458\n",
      "Median:         0.422597\n",
      "3rd Quartile:   1.331941\n",
      "Maximum:        7.498798\n",
      "Length:         1000\n",
      "Type:           Float64\n"
     ]
    }
   ],
   "source": [
    "describe(dd12)"
   ]
  },
  {
   "cell_type": "code",
   "execution_count": 11,
   "metadata": {},
   "outputs": [
    {
     "data": {
      "image/svg+xml": [
       "<?xml version=\"1.0\" encoding=\"utf-8\"?>\n",
       "<svg xmlns=\"http://www.w3.org/2000/svg\" xmlns:xlink=\"http://www.w3.org/1999/xlink\" width=\"600\" height=\"400\" viewBox=\"0 0 2400 1600\">\n",
       "<defs>\n",
       "  <clipPath id=\"clip7400\">\n",
       "    <rect x=\"0\" y=\"0\" width=\"2000\" height=\"2000\"/>\n",
       "  </clipPath>\n",
       "</defs>\n",
       "<defs>\n",
       "  <clipPath id=\"clip7401\">\n",
       "    <rect x=\"0\" y=\"0\" width=\"2400\" height=\"1600\"/>\n",
       "  </clipPath>\n",
       "</defs>\n",
       "<polygon clip-path=\"url(#clip7401)\" points=\"\n",
       "0,1600 2400,1600 2400,0 0,0 \n",
       "  \" fill=\"#ffffff\" fill-rule=\"evenodd\" fill-opacity=\"1\"/>\n",
       "<defs>\n",
       "  <clipPath id=\"clip7402\">\n",
       "    <rect x=\"480\" y=\"0\" width=\"1681\" height=\"1600\"/>\n",
       "  </clipPath>\n",
       "</defs>\n",
       "<polygon clip-path=\"url(#clip7401)\" points=\"\n",
       "174.775,1503.47 2321.26,1503.47 2321.26,47.2441 174.775,47.2441 \n",
       "  \" fill=\"#ffffff\" fill-rule=\"evenodd\" fill-opacity=\"1\"/>\n",
       "<defs>\n",
       "  <clipPath id=\"clip7403\">\n",
       "    <rect x=\"174\" y=\"47\" width=\"2147\" height=\"1457\"/>\n",
       "  </clipPath>\n",
       "</defs>\n",
       "<polyline clip-path=\"url(#clip7403)\" style=\"stroke:#000000; stroke-width:2; stroke-opacity:0.1; fill:none\" points=\"\n",
       "  235.525,1503.47 235.525,47.2441 \n",
       "  \"/>\n",
       "<polyline clip-path=\"url(#clip7403)\" style=\"stroke:#000000; stroke-width:2; stroke-opacity:0.1; fill:none\" points=\"\n",
       "  741.771,1503.47 741.771,47.2441 \n",
       "  \"/>\n",
       "<polyline clip-path=\"url(#clip7403)\" style=\"stroke:#000000; stroke-width:2; stroke-opacity:0.1; fill:none\" points=\"\n",
       "  1248.02,1503.47 1248.02,47.2441 \n",
       "  \"/>\n",
       "<polyline clip-path=\"url(#clip7403)\" style=\"stroke:#000000; stroke-width:2; stroke-opacity:0.1; fill:none\" points=\"\n",
       "  1754.26,1503.47 1754.26,47.2441 \n",
       "  \"/>\n",
       "<polyline clip-path=\"url(#clip7403)\" style=\"stroke:#000000; stroke-width:2; stroke-opacity:0.1; fill:none\" points=\"\n",
       "  2260.51,1503.47 2260.51,47.2441 \n",
       "  \"/>\n",
       "<polyline clip-path=\"url(#clip7403)\" style=\"stroke:#000000; stroke-width:2; stroke-opacity:0.1; fill:none\" points=\"\n",
       "  174.775,1462.26 2321.26,1462.26 \n",
       "  \"/>\n",
       "<polyline clip-path=\"url(#clip7403)\" style=\"stroke:#000000; stroke-width:2; stroke-opacity:0.1; fill:none\" points=\"\n",
       "  174.775,1205.48 2321.26,1205.48 \n",
       "  \"/>\n",
       "<polyline clip-path=\"url(#clip7403)\" style=\"stroke:#000000; stroke-width:2; stroke-opacity:0.1; fill:none\" points=\"\n",
       "  174.775,948.69 2321.26,948.69 \n",
       "  \"/>\n",
       "<polyline clip-path=\"url(#clip7403)\" style=\"stroke:#000000; stroke-width:2; stroke-opacity:0.1; fill:none\" points=\"\n",
       "  174.775,691.904 2321.26,691.904 \n",
       "  \"/>\n",
       "<polyline clip-path=\"url(#clip7403)\" style=\"stroke:#000000; stroke-width:2; stroke-opacity:0.1; fill:none\" points=\"\n",
       "  174.775,435.119 2321.26,435.119 \n",
       "  \"/>\n",
       "<polyline clip-path=\"url(#clip7403)\" style=\"stroke:#000000; stroke-width:2; stroke-opacity:0.1; fill:none\" points=\"\n",
       "  174.775,178.333 2321.26,178.333 \n",
       "  \"/>\n",
       "<polyline clip-path=\"url(#clip7401)\" style=\"stroke:#000000; stroke-width:4; stroke-opacity:1; fill:none\" points=\"\n",
       "  174.775,1503.47 2321.26,1503.47 \n",
       "  \"/>\n",
       "<polyline clip-path=\"url(#clip7401)\" style=\"stroke:#000000; stroke-width:4; stroke-opacity:1; fill:none\" points=\"\n",
       "  174.775,1503.47 174.775,47.2441 \n",
       "  \"/>\n",
       "<polyline clip-path=\"url(#clip7401)\" style=\"stroke:#000000; stroke-width:4; stroke-opacity:1; fill:none\" points=\"\n",
       "  235.525,1503.47 235.525,1481.63 \n",
       "  \"/>\n",
       "<polyline clip-path=\"url(#clip7401)\" style=\"stroke:#000000; stroke-width:4; stroke-opacity:1; fill:none\" points=\"\n",
       "  741.771,1503.47 741.771,1481.63 \n",
       "  \"/>\n",
       "<polyline clip-path=\"url(#clip7401)\" style=\"stroke:#000000; stroke-width:4; stroke-opacity:1; fill:none\" points=\"\n",
       "  1248.02,1503.47 1248.02,1481.63 \n",
       "  \"/>\n",
       "<polyline clip-path=\"url(#clip7401)\" style=\"stroke:#000000; stroke-width:4; stroke-opacity:1; fill:none\" points=\"\n",
       "  1754.26,1503.47 1754.26,1481.63 \n",
       "  \"/>\n",
       "<polyline clip-path=\"url(#clip7401)\" style=\"stroke:#000000; stroke-width:4; stroke-opacity:1; fill:none\" points=\"\n",
       "  2260.51,1503.47 2260.51,1481.63 \n",
       "  \"/>\n",
       "<polyline clip-path=\"url(#clip7401)\" style=\"stroke:#000000; stroke-width:4; stroke-opacity:1; fill:none\" points=\"\n",
       "  174.775,1462.26 206.972,1462.26 \n",
       "  \"/>\n",
       "<polyline clip-path=\"url(#clip7401)\" style=\"stroke:#000000; stroke-width:4; stroke-opacity:1; fill:none\" points=\"\n",
       "  174.775,1205.48 206.972,1205.48 \n",
       "  \"/>\n",
       "<polyline clip-path=\"url(#clip7401)\" style=\"stroke:#000000; stroke-width:4; stroke-opacity:1; fill:none\" points=\"\n",
       "  174.775,948.69 206.972,948.69 \n",
       "  \"/>\n",
       "<polyline clip-path=\"url(#clip7401)\" style=\"stroke:#000000; stroke-width:4; stroke-opacity:1; fill:none\" points=\"\n",
       "  174.775,691.904 206.972,691.904 \n",
       "  \"/>\n",
       "<polyline clip-path=\"url(#clip7401)\" style=\"stroke:#000000; stroke-width:4; stroke-opacity:1; fill:none\" points=\"\n",
       "  174.775,435.119 206.972,435.119 \n",
       "  \"/>\n",
       "<polyline clip-path=\"url(#clip7401)\" style=\"stroke:#000000; stroke-width:4; stroke-opacity:1; fill:none\" points=\"\n",
       "  174.775,178.333 206.972,178.333 \n",
       "  \"/>\n",
       "<g clip-path=\"url(#clip7401)\">\n",
       "<text style=\"fill:#000000; fill-opacity:1; font-family:Arial,Helvetica Neue,Helvetica,sans-serif; font-size:48px; text-anchor:middle;\" transform=\"rotate(0, 235.525, 1557.47)\" x=\"235.525\" y=\"1557.47\">0</text>\n",
       "</g>\n",
       "<g clip-path=\"url(#clip7401)\">\n",
       "<text style=\"fill:#000000; fill-opacity:1; font-family:Arial,Helvetica Neue,Helvetica,sans-serif; font-size:48px; text-anchor:middle;\" transform=\"rotate(0, 741.771, 1557.47)\" x=\"741.771\" y=\"1557.47\">5</text>\n",
       "</g>\n",
       "<g clip-path=\"url(#clip7401)\">\n",
       "<text style=\"fill:#000000; fill-opacity:1; font-family:Arial,Helvetica Neue,Helvetica,sans-serif; font-size:48px; text-anchor:middle;\" transform=\"rotate(0, 1248.02, 1557.47)\" x=\"1248.02\" y=\"1557.47\">10</text>\n",
       "</g>\n",
       "<g clip-path=\"url(#clip7401)\">\n",
       "<text style=\"fill:#000000; fill-opacity:1; font-family:Arial,Helvetica Neue,Helvetica,sans-serif; font-size:48px; text-anchor:middle;\" transform=\"rotate(0, 1754.26, 1557.47)\" x=\"1754.26\" y=\"1557.47\">15</text>\n",
       "</g>\n",
       "<g clip-path=\"url(#clip7401)\">\n",
       "<text style=\"fill:#000000; fill-opacity:1; font-family:Arial,Helvetica Neue,Helvetica,sans-serif; font-size:48px; text-anchor:middle;\" transform=\"rotate(0, 2260.51, 1557.47)\" x=\"2260.51\" y=\"1557.47\">20</text>\n",
       "</g>\n",
       "<g clip-path=\"url(#clip7401)\">\n",
       "<text style=\"fill:#000000; fill-opacity:1; font-family:Arial,Helvetica Neue,Helvetica,sans-serif; font-size:48px; text-anchor:end;\" transform=\"rotate(0, 150.775, 1479.76)\" x=\"150.775\" y=\"1479.76\">0</text>\n",
       "</g>\n",
       "<g clip-path=\"url(#clip7401)\">\n",
       "<text style=\"fill:#000000; fill-opacity:1; font-family:Arial,Helvetica Neue,Helvetica,sans-serif; font-size:48px; text-anchor:end;\" transform=\"rotate(0, 150.775, 1222.98)\" x=\"150.775\" y=\"1222.98\">100</text>\n",
       "</g>\n",
       "<g clip-path=\"url(#clip7401)\">\n",
       "<text style=\"fill:#000000; fill-opacity:1; font-family:Arial,Helvetica Neue,Helvetica,sans-serif; font-size:48px; text-anchor:end;\" transform=\"rotate(0, 150.775, 966.19)\" x=\"150.775\" y=\"966.19\">200</text>\n",
       "</g>\n",
       "<g clip-path=\"url(#clip7401)\">\n",
       "<text style=\"fill:#000000; fill-opacity:1; font-family:Arial,Helvetica Neue,Helvetica,sans-serif; font-size:48px; text-anchor:end;\" transform=\"rotate(0, 150.775, 709.404)\" x=\"150.775\" y=\"709.404\">300</text>\n",
       "</g>\n",
       "<g clip-path=\"url(#clip7401)\">\n",
       "<text style=\"fill:#000000; fill-opacity:1; font-family:Arial,Helvetica Neue,Helvetica,sans-serif; font-size:48px; text-anchor:end;\" transform=\"rotate(0, 150.775, 452.619)\" x=\"150.775\" y=\"452.619\">400</text>\n",
       "</g>\n",
       "<g clip-path=\"url(#clip7401)\">\n",
       "<text style=\"fill:#000000; fill-opacity:1; font-family:Arial,Helvetica Neue,Helvetica,sans-serif; font-size:48px; text-anchor:end;\" transform=\"rotate(0, 150.775, 195.833)\" x=\"150.775\" y=\"195.833\">500</text>\n",
       "</g>\n",
       "<polygon clip-path=\"url(#clip7403)\" points=\"\n",
       "235.525,88.4582 235.525,1462.26 286.149,1462.26 286.149,88.4582 235.525,88.4582 235.525,88.4582 \n",
       "  \" fill=\"#009af9\" fill-rule=\"evenodd\" fill-opacity=\"1\"/>\n",
       "<polyline clip-path=\"url(#clip7403)\" style=\"stroke:#000000; stroke-width:4; stroke-opacity:1; fill:none\" points=\"\n",
       "  235.525,88.4582 235.525,1462.26 286.149,1462.26 286.149,88.4582 235.525,88.4582 \n",
       "  \"/>\n",
       "<polygon clip-path=\"url(#clip7403)\" points=\"\n",
       "286.149,1059.11 286.149,1462.26 336.774,1462.26 336.774,1059.11 286.149,1059.11 286.149,1059.11 \n",
       "  \" fill=\"#009af9\" fill-rule=\"evenodd\" fill-opacity=\"1\"/>\n",
       "<polyline clip-path=\"url(#clip7403)\" style=\"stroke:#000000; stroke-width:4; stroke-opacity:1; fill:none\" points=\"\n",
       "  286.149,1059.11 286.149,1462.26 336.774,1462.26 336.774,1059.11 286.149,1059.11 \n",
       "  \"/>\n",
       "<polygon clip-path=\"url(#clip7403)\" points=\"\n",
       "336.774,1249.13 336.774,1462.26 387.399,1462.26 387.399,1249.13 336.774,1249.13 336.774,1249.13 \n",
       "  \" fill=\"#009af9\" fill-rule=\"evenodd\" fill-opacity=\"1\"/>\n",
       "<polyline clip-path=\"url(#clip7403)\" style=\"stroke:#000000; stroke-width:4; stroke-opacity:1; fill:none\" points=\"\n",
       "  336.774,1249.13 336.774,1462.26 387.399,1462.26 387.399,1249.13 336.774,1249.13 \n",
       "  \"/>\n",
       "<polygon clip-path=\"url(#clip7403)\" points=\"\n",
       "387.399,1313.33 387.399,1462.26 438.023,1462.26 438.023,1313.33 387.399,1313.33 387.399,1313.33 \n",
       "  \" fill=\"#009af9\" fill-rule=\"evenodd\" fill-opacity=\"1\"/>\n",
       "<polyline clip-path=\"url(#clip7403)\" style=\"stroke:#000000; stroke-width:4; stroke-opacity:1; fill:none\" points=\"\n",
       "  387.399,1313.33 387.399,1462.26 438.023,1462.26 438.023,1313.33 387.399,1313.33 \n",
       "  \"/>\n",
       "<polygon clip-path=\"url(#clip7403)\" points=\"\n",
       "438.023,1339 438.023,1462.26 488.648,1462.26 488.648,1339 438.023,1339 438.023,1339 \n",
       "  \" fill=\"#009af9\" fill-rule=\"evenodd\" fill-opacity=\"1\"/>\n",
       "<polyline clip-path=\"url(#clip7403)\" style=\"stroke:#000000; stroke-width:4; stroke-opacity:1; fill:none\" points=\"\n",
       "  438.023,1339 438.023,1462.26 488.648,1462.26 488.648,1339 438.023,1339 \n",
       "  \"/>\n",
       "<polygon clip-path=\"url(#clip7403)\" points=\"\n",
       "488.648,1367.25 488.648,1462.26 539.273,1462.26 539.273,1367.25 488.648,1367.25 488.648,1367.25 \n",
       "  \" fill=\"#009af9\" fill-rule=\"evenodd\" fill-opacity=\"1\"/>\n",
       "<polyline clip-path=\"url(#clip7403)\" style=\"stroke:#000000; stroke-width:4; stroke-opacity:1; fill:none\" points=\"\n",
       "  488.648,1367.25 488.648,1462.26 539.273,1462.26 539.273,1367.25 488.648,1367.25 \n",
       "  \"/>\n",
       "<polygon clip-path=\"url(#clip7403)\" points=\"\n",
       "539.273,1392.93 539.273,1462.26 589.897,1462.26 589.897,1392.93 539.273,1392.93 539.273,1392.93 \n",
       "  \" fill=\"#009af9\" fill-rule=\"evenodd\" fill-opacity=\"1\"/>\n",
       "<polyline clip-path=\"url(#clip7403)\" style=\"stroke:#000000; stroke-width:4; stroke-opacity:1; fill:none\" points=\"\n",
       "  539.273,1392.93 539.273,1462.26 589.897,1462.26 589.897,1392.93 539.273,1392.93 \n",
       "  \"/>\n",
       "<polygon clip-path=\"url(#clip7403)\" points=\"\n",
       "589.897,1416.04 589.897,1462.26 640.522,1462.26 640.522,1416.04 589.897,1416.04 589.897,1416.04 \n",
       "  \" fill=\"#009af9\" fill-rule=\"evenodd\" fill-opacity=\"1\"/>\n",
       "<polyline clip-path=\"url(#clip7403)\" style=\"stroke:#000000; stroke-width:4; stroke-opacity:1; fill:none\" points=\"\n",
       "  589.897,1416.04 589.897,1462.26 640.522,1462.26 640.522,1416.04 589.897,1416.04 \n",
       "  \"/>\n",
       "<polygon clip-path=\"url(#clip7403)\" points=\"\n",
       "640.522,1423.74 640.522,1462.26 691.147,1462.26 691.147,1423.74 640.522,1423.74 640.522,1423.74 \n",
       "  \" fill=\"#009af9\" fill-rule=\"evenodd\" fill-opacity=\"1\"/>\n",
       "<polyline clip-path=\"url(#clip7403)\" style=\"stroke:#000000; stroke-width:4; stroke-opacity:1; fill:none\" points=\"\n",
       "  640.522,1423.74 640.522,1462.26 691.147,1462.26 691.147,1423.74 640.522,1423.74 \n",
       "  \"/>\n",
       "<polygon clip-path=\"url(#clip7403)\" points=\"\n",
       "691.147,1446.85 691.147,1462.26 741.771,1462.26 741.771,1446.85 691.147,1446.85 691.147,1446.85 \n",
       "  \" fill=\"#009af9\" fill-rule=\"evenodd\" fill-opacity=\"1\"/>\n",
       "<polyline clip-path=\"url(#clip7403)\" style=\"stroke:#000000; stroke-width:4; stroke-opacity:1; fill:none\" points=\"\n",
       "  691.147,1446.85 691.147,1462.26 741.771,1462.26 741.771,1446.85 691.147,1446.85 \n",
       "  \"/>\n",
       "<polygon clip-path=\"url(#clip7403)\" points=\"\n",
       "741.771,1441.72 741.771,1462.26 792.396,1462.26 792.396,1441.72 741.771,1441.72 741.771,1441.72 \n",
       "  \" fill=\"#009af9\" fill-rule=\"evenodd\" fill-opacity=\"1\"/>\n",
       "<polyline clip-path=\"url(#clip7403)\" style=\"stroke:#000000; stroke-width:4; stroke-opacity:1; fill:none\" points=\"\n",
       "  741.771,1441.72 741.771,1462.26 792.396,1462.26 792.396,1441.72 741.771,1441.72 \n",
       "  \"/>\n",
       "<polygon clip-path=\"url(#clip7403)\" points=\"\n",
       "792.396,1459.69 792.396,1462.26 843.02,1462.26 843.02,1459.69 792.396,1459.69 792.396,1459.69 \n",
       "  \" fill=\"#009af9\" fill-rule=\"evenodd\" fill-opacity=\"1\"/>\n",
       "<polyline clip-path=\"url(#clip7403)\" style=\"stroke:#000000; stroke-width:4; stroke-opacity:1; fill:none\" points=\"\n",
       "  792.396,1459.69 792.396,1462.26 843.02,1462.26 843.02,1459.69 792.396,1459.69 \n",
       "  \"/>\n",
       "<polygon clip-path=\"url(#clip7403)\" points=\"\n",
       "843.02,1454.56 843.02,1462.26 893.645,1462.26 893.645,1454.56 843.02,1454.56 843.02,1454.56 \n",
       "  \" fill=\"#009af9\" fill-rule=\"evenodd\" fill-opacity=\"1\"/>\n",
       "<polyline clip-path=\"url(#clip7403)\" style=\"stroke:#000000; stroke-width:4; stroke-opacity:1; fill:none\" points=\"\n",
       "  843.02,1454.56 843.02,1462.26 893.645,1462.26 893.645,1454.56 843.02,1454.56 \n",
       "  \"/>\n",
       "<polygon clip-path=\"url(#clip7403)\" points=\"\n",
       "893.645,1457.12 893.645,1462.26 944.27,1462.26 944.27,1457.12 893.645,1457.12 893.645,1457.12 \n",
       "  \" fill=\"#009af9\" fill-rule=\"evenodd\" fill-opacity=\"1\"/>\n",
       "<polyline clip-path=\"url(#clip7403)\" style=\"stroke:#000000; stroke-width:4; stroke-opacity:1; fill:none\" points=\"\n",
       "  893.645,1457.12 893.645,1462.26 944.27,1462.26 944.27,1457.12 893.645,1457.12 \n",
       "  \"/>\n",
       "<polygon clip-path=\"url(#clip7403)\" points=\"\n",
       "944.27,1457.12 944.27,1462.26 994.894,1462.26 994.894,1457.12 944.27,1457.12 944.27,1457.12 \n",
       "  \" fill=\"#009af9\" fill-rule=\"evenodd\" fill-opacity=\"1\"/>\n",
       "<polyline clip-path=\"url(#clip7403)\" style=\"stroke:#000000; stroke-width:4; stroke-opacity:1; fill:none\" points=\"\n",
       "  944.27,1457.12 944.27,1462.26 994.894,1462.26 994.894,1457.12 944.27,1457.12 \n",
       "  \"/>\n",
       "<polyline clip-path=\"url(#clip7403)\" style=\"stroke:#e26f46; stroke-width:4; stroke-opacity:1; fill:none\" stroke-dasharray=\"16, 10\" points=\"\n",
       "  692.558,147127 692.558,-145576 \n",
       "  \"/>\n",
       "</svg>\n"
      ]
     },
     "execution_count": 11,
     "metadata": {},
     "output_type": "execute_result"
    }
   ],
   "source": [
    "histogram(dd12, xlim=[0, 20], legend=false)\n",
    "vline!([deltaD], linestyle=:dash)"
   ]
  },
  {
   "cell_type": "code",
   "execution_count": 12,
   "metadata": {},
   "outputs": [
    {
     "data": {
      "text/plain": [
       "22"
      ]
     },
     "execution_count": 12,
     "metadata": {},
     "output_type": "execute_result"
    }
   ],
   "source": [
    "sum(dd12 .>= deltaD)"
   ]
  },
  {
   "cell_type": "code",
   "execution_count": 13,
   "metadata": {},
   "outputs": [
    {
     "data": {
      "text/plain": [
       "0.022"
      ]
     },
     "execution_count": 13,
     "metadata": {},
     "output_type": "execute_result"
    }
   ],
   "source": [
    "p_value = sum(dd12 .>= deltaD) / length(dd12)"
   ]
  },
  {
   "cell_type": "code",
   "execution_count": 14,
   "metadata": {},
   "outputs": [
    {
     "data": {
      "text/plain": [
       "3.6507388924380972"
      ]
     },
     "execution_count": 14,
     "metadata": {},
     "output_type": "execute_result"
    }
   ],
   "source": [
    "α = 0.05\n",
    "quantile(dd12, 1-α)"
   ]
  },
  {
   "cell_type": "markdown",
   "metadata": {},
   "source": [
    "有意水準5%では上記の数値くらいまでの逸脱度の差は「よくある差」だと判断できる。"
   ]
  },
  {
   "cell_type": "markdown",
   "metadata": {},
   "source": [
    "### 3.4.2 方法(2) カイ二乗分布を使った近似計算法\n",
    "\n",
    "JuliaにRのようなANOVAは無さそうなので、コード例をそのままJuliaに移植することはできない。でもカイ二乗分布の累積分布関数を使ってp値を求めることはできる。"
   ]
  },
  {
   "cell_type": "code",
   "execution_count": 15,
   "metadata": {},
   "outputs": [
    {
     "data": {
      "text/plain": [
       "0.03361969100898521"
      ]
     },
     "execution_count": 15,
     "metadata": {},
     "output_type": "execute_result"
    }
   ],
   "source": [
    "fit1 = glm(@formula(y ~ 1), d, Poisson(), LogLink())\n",
    "fit2 = glm(@formula(y ~ x), d, Poisson(), LogLink())\n",
    "dd12 = deviance(fit1) - deviance(fit2)\n",
    "1 - cdf(Chisq(1), dd12)"
   ]
  }
 ],
 "metadata": {
  "kernelspec": {
   "display_name": "Julia 1.0.2",
   "language": "julia",
   "name": "julia-1.0"
  },
  "language_info": {
   "file_extension": ".jl",
   "mimetype": "application/julia",
   "name": "julia",
   "version": "1.0.2"
  }
 },
 "nbformat": 4,
 "nbformat_minor": 2
}
