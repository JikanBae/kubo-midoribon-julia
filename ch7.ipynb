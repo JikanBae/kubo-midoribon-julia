{
  "cells": [
    {
      "cell_type": "markdown",
      "source": [
        "久保拓弥『データ解析のための統計モデリング入門』をJuliaでやってみます。\n",
        "\n",
        "* 久保さんの書籍ページ：http://hosho.ees.hokudai.ac.jp/~kubo/ce/IwanamiBook.html\n",
        "* Amazon.co.jp：https://amzn.to/2Cg5vDJ\n",
        "\n",
        "# 第7章「一般化線形混合モデル（GLMM） ---個体差のモデリング---」（途中）\n"
      ],
      "metadata": {}
    },
    {
      "cell_type": "code",
      "source": [
        "using DataFrames\n",
        "using CSV\n",
        "using Distributions\n",
        "using GLM\n",
        "using Plots\n",
        "pyplot()\n",
        "using StatsPlots"
      ],
      "outputs": [],
      "execution_count": 65,
      "metadata": {}
    }
  ],
  "metadata": {
    "kernelspec": {
      "name": "julia-1.1",
      "language": "julia",
      "display_name": "Julia 1.1.0"
    },
    "language_info": {
      "file_extension": ".jl",
      "name": "julia",
      "mimetype": "application/julia",
      "version": "1.1.0"
    },
    "kernel_info": {
      "name": "julia-1.1"
    },
    "nteract": {
      "version": "0.12.3"
    }
  },
  "nbformat": 4,
  "nbformat_minor": 2
}