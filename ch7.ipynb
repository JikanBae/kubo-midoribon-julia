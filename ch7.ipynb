{
 "cells": [
  {
   "cell_type": "markdown",
   "metadata": {},
   "source": [
    "久保拓弥『データ解析のための統計モデリング入門』をJuliaでやってみます。\n",
    "\n",
    "* 久保さんの書籍ページ：http://hosho.ees.hokudai.ac.jp/~kubo/ce/IwanamiBook.html\n",
    "* Amazon.co.jp：https://amzn.to/2Cg5vDJ\n",
    "\n",
    "# 第7章「一般化線形混合モデル（GLMM） ---個体差のモデリング---」（途中）\n"
   ]
  },
  {
   "cell_type": "code",
   "execution_count": 1,
   "metadata": {},
   "outputs": [],
   "source": [
    "using DataFrames\n",
    "using CSV\n",
    "using Distributions\n",
    "using GLM\n",
    "using Plots\n",
    "pyplot()\n",
    "using StatsPlots"
   ]
  },
  {
   "cell_type": "code",
   "execution_count": 3,
   "metadata": {
    "scrolled": true
   },
   "outputs": [
    {
     "data": {
      "text/html": [
       "<table class=\"data-frame\"><thead><tr><th></th><th>variable</th><th>mean</th><th>min</th><th>median</th><th>max</th><th>nunique</th><th>nmissing</th><th>eltype</th></tr><tr><th></th><th>Symbol</th><th>Float64</th><th>Int64</th><th>Float64</th><th>Int64</th><th>Nothing</th><th>Int64</th><th>DataType</th></tr></thead><tbody><p>4 rows × 8 columns</p><tr><th>1</th><td>N</td><td>8.0</td><td>8</td><td>8.0</td><td>8</td><td></td><td>0</td><td>Int64</td></tr><tr><th>2</th><td>y</td><td>3.81</td><td>0</td><td>3.0</td><td>8</td><td></td><td>0</td><td>Int64</td></tr><tr><th>3</th><td>x</td><td>4.0</td><td>2</td><td>4.0</td><td>6</td><td></td><td>0</td><td>Int64</td></tr><tr><th>4</th><td>id</td><td>50.5</td><td>1</td><td>50.5</td><td>100</td><td></td><td>0</td><td>Int64</td></tr></tbody></table>"
      ],
      "text/latex": [
       "\\begin{tabular}{r|cccccccc}\n",
       "\t& variable & mean & min & median & max & nunique & nmissing & eltype\\\\\n",
       "\t\\hline\n",
       "\t& Symbol & Float64 & Int64 & Float64 & Int64 & Nothing & Int64 & DataType\\\\\n",
       "\t\\hline\n",
       "\t1 & N & 8.0 & 8 & 8.0 & 8 &  & 0 & Int64 \\\\\n",
       "\t2 & y & 3.81 & 0 & 3.0 & 8 &  & 0 & Int64 \\\\\n",
       "\t3 & x & 4.0 & 2 & 4.0 & 6 &  & 0 & Int64 \\\\\n",
       "\t4 & id & 50.5 & 1 & 50.5 & 100 &  & 0 & Int64 \\\\\n",
       "\\end{tabular}\n"
      ],
      "text/plain": [
       "4×8 DataFrame. Omitted printing of 1 columns\n",
       "│ Row │ variable │ mean    │ min   │ median  │ max   │ nunique │ nmissing │\n",
       "│     │ \u001b[90mSymbol\u001b[39m   │ \u001b[90mFloat64\u001b[39m │ \u001b[90mInt64\u001b[39m │ \u001b[90mFloat64\u001b[39m │ \u001b[90mInt64\u001b[39m │ \u001b[90mNothing\u001b[39m │ \u001b[90mInt64\u001b[39m    │\n",
       "├─────┼──────────┼─────────┼───────┼─────────┼───────┼─────────┼──────────┤\n",
       "│ 1   │ N        │ 8.0     │ 8     │ 8.0     │ 8     │         │ 0        │\n",
       "│ 2   │ y        │ 3.81    │ 0     │ 3.0     │ 8     │         │ 0        │\n",
       "│ 3   │ x        │ 4.0     │ 2     │ 4.0     │ 6     │         │ 0        │\n",
       "│ 4   │ id       │ 50.5    │ 1     │ 50.5    │ 100   │         │ 0        │"
      ]
     },
     "execution_count": 3,
     "metadata": {},
     "output_type": "execute_result"
    }
   ],
   "source": [
    "d = CSV.read(\"data.csv\")\n",
    "describe(d)"
   ]
  },
  {
   "cell_type": "code",
   "execution_count": 12,
   "metadata": {},
   "outputs": [
    {
     "data": {
      "image/png": "[encoded data removed]"
     },
     "execution_count": 12,
     "metadata": {},
     "output_type": "execute_result"
    }
   ],
   "source": [
    "@df d scatter(:x .+ randn(size(:x))/20, :y,\n",
    "    xlabel=\"number of leaves x_i\", ylabel=\"number of seeds y_i\", legend=false)"
   ]
  },
  {
   "cell_type": "markdown",
   "metadata": {},
   "source": [
    "$$\\mathrm{logit}\\left(q_i\\right) = \\beta_1 + \\beta_2 x_i $$\n",
    "$$p\\left(y_i | \\beta_1, \\beta_2\\right) = \\binom{8}{y_i} q_i^{y_i}\\left(1-q_i\\right)^{8 - y_i} $$"
   ]
  },
  {
   "cell_type": "code",
   "execution_count": 13,
   "metadata": {},
   "outputs": [
    {
     "data": {
      "text/plain": [
       "StatsModels.DataFrameRegressionModel{GeneralizedLinearModel{GlmResp{Array{Float64,1},Binomial{Float64},LogitLink},DensePredChol{Float64,LinearAlgebra.Cholesky{Float64,Array{Float64,2}}}},Array{Float64,2}}\n",
       "\n",
       "Formula: y_ratio ~ 1 + x\n",
       "\n",
       "Coefficients:\n",
       "             Estimate Std.Error  z value Pr(>|z|)\n",
       "(Intercept)  -2.14874  0.670999 -3.20231   0.0014\n",
       "x            0.510381  0.157268  3.24529   0.0012\n"
      ]
     },
     "execution_count": 13,
     "metadata": {},
     "output_type": "execute_result"
    }
   ],
   "source": [
    "d[:y_ratio] = d[:y] ./ 8;\n",
    "fit1 = glm(@formula(y_ratio ~ x), d, Binomial(), LogitLink())"
   ]
  },
  {
   "cell_type": "code",
   "execution_count": null,
   "metadata": {},
   "outputs": [],
   "source": []
  }
 ],
 "metadata": {
  "kernel_info": {
   "name": "julia-1.1"
  },
  "kernelspec": {
   "display_name": "Julia 1.1.0",
   "language": "julia",
   "name": "julia-1.1"
  },
  "language_info": {
   "file_extension": ".jl",
   "mimetype": "application/julia",
   "name": "julia",
   "version": "1.1.0"
  },
  "nteract": {
   "version": "0.12.3"
  }
 },
 "nbformat": 4,
 "nbformat_minor": 2
}
