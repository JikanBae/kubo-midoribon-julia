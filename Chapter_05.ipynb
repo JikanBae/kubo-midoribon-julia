{
 "cells": [
  {
   "cell_type": "markdown",
   "metadata": {},
   "source": [
    "久保拓弥『データ解析のための統計モデリング入門』をJuliaでやってみます。\n",
    "\n",
    "* 久保さんの書籍ページ：http://hosho.ees.hokudai.ac.jp/~kubo/ce/IwanamiBook.html\n",
    "* Amazon.co.jp：https://amzn.to/2Cg5vDJ\n",
    "\n",
    "# 第5章 GLMの尤度比検定と検定の非対称性"
   ]
  },
  {
   "cell_type": "code",
   "execution_count": 1,
   "metadata": {},
   "outputs": [
    {
     "name": "stdout",
     "output_type": "stream",
     "text": [
      "Julia Version 1.1.0\n",
      "Commit 80516ca202 (2019-01-21 21:24 UTC)\n",
      "Platform Info:\n",
      "  OS: macOS (x86_64-apple-darwin14.5.0)\n",
      "  CPU: Intel(R) Core(TM) i7-7920HQ CPU @ 3.10GHz\n",
      "  WORD_SIZE: 64\n",
      "  LIBM: libopenlibm\n",
      "  LLVM: libLLVM-6.0.1 (ORCJIT, skylake)\n"
     ]
    }
   ],
   "source": [
    "using CSV\n",
    "using DataFrames\n",
    "using GLM\n",
    "using Plots\n",
    "pyplot();\n",
    "using Distributions\n",
    "versioninfo()"
   ]
  },
  {
   "cell_type": "markdown",
   "metadata": {},
   "source": [
    "## 5.2 尤度比検定の例題：逸脱度の差を調べる"
   ]
  },
  {
   "cell_type": "code",
   "execution_count": 2,
   "metadata": {},
   "outputs": [],
   "source": [
    "d = CSV.read(\"data3a.csv\");\n",
    "fit1 = glm(@formula(y ~ 1), d, Poisson(), LogLink());\n",
    "fit2 = glm(@formula(y ~ x), d, Poisson(), LogLink());"
   ]
  },
  {
   "cell_type": "markdown",
   "metadata": {},
   "source": [
    "**尤度比**（_likelihood ratio_）を対数化して-2をかけたものが逸脱度の差$\\Delta D$になる。\n",
    "$$ \\frac{L_1^\\ast}{L_2^\\ast} $$\n",
    "$$ \\Delta D_{1,2} = -2\\times\\left(\\log L_1^\\ast - \\log L_2^\\ast\\right) $$"
   ]
  },
  {
   "cell_type": "code",
   "execution_count": 3,
   "metadata": {},
   "outputs": [
    {
     "data": {
      "text/plain": [
       "4.5139410788519285"
      ]
     },
     "execution_count": 3,
     "metadata": {},
     "output_type": "execute_result"
    }
   ],
   "source": [
    "D1 = -2 * loglikelihood(fit1)\n",
    "D2 = -2 * loglikelihood(fit2)\n",
    "deltaD = D1 - D2   # deviance(fit1) - deviance(fit2) でも同じ"
   ]
  },
  {
   "cell_type": "markdown",
   "metadata": {},
   "source": [
    "この4.5という値の大きさが十分なのかどうかをどうやって確認するの？というのが、この後の中心的な話題。\n",
    "\n",
    "## 5.4 帰無仮説を棄却するための有意水準\n",
    "\n",
    "### 5.4.1 方法(1) 汎用性のあるパラメトリックブートストラップ法（p.102）\n",
    "\n"
   ]
  },
  {
   "cell_type": "code",
   "execution_count": 4,
   "metadata": {},
   "outputs": [
    {
     "data": {
      "text/plain": [
       "4.513941078851829"
      ]
     },
     "execution_count": 4,
     "metadata": {},
     "output_type": "execute_result"
    }
   ],
   "source": [
    "deviance(fit1) - deviance(fit2)"
   ]
  },
  {
   "cell_type": "code",
   "execution_count": 5,
   "metadata": {
    "scrolled": true
   },
   "outputs": [
    {
     "data": {
      "text/plain": [
       "100-element Array{Int64,1}:\n",
       "  5\n",
       "  5\n",
       "  7\n",
       "  9\n",
       "  9\n",
       "  6\n",
       "  9\n",
       " 14\n",
       "  9\n",
       "  6\n",
       " 11\n",
       " 11\n",
       "  7\n",
       "  3\n",
       "  6\n",
       "  7\n",
       "  8\n",
       "  7\n",
       "  9\n",
       "  7\n",
       " 10\n",
       "  2\n",
       "  7\n",
       " 14\n",
       "  7\n",
       "  9\n",
       "  9\n",
       "  7\n",
       "  5\n",
       "  ⋮\n",
       "  6\n",
       "  3\n",
       "  9\n",
       "  5\n",
       "  9\n",
       " 11\n",
       "  6\n",
       "  8\n",
       "  3\n",
       " 14\n",
       "  8\n",
       "  5\n",
       "  7\n",
       " 11\n",
       "  6\n",
       " 14\n",
       "  5\n",
       "  9\n",
       "  6\n",
       " 10\n",
       "  3\n",
       "  8\n",
       "  6\n",
       "  9\n",
       "  4\n",
       "  3\n",
       "  4\n",
       "  6"
      ]
     },
     "execution_count": 5,
     "metadata": {},
     "output_type": "execute_result"
    }
   ],
   "source": [
    "d[:y_rnd] = rand(Poisson(mean(d[:y])), 100)"
   ]
  },
  {
   "cell_type": "code",
   "execution_count": 6,
   "metadata": {
    "scrolled": true
   },
   "outputs": [
    {
     "data": {
      "text/html": [
       "<table class=\"data-frame\"><thead><tr><th></th><th>y</th><th>x</th><th>f</th><th>y_rnd</th></tr><tr><th></th><th>Int64⍰</th><th>Float64⍰</th><th>String⍰</th><th>Int64</th></tr></thead><tbody><p>100 rows × 4 columns</p><tr><th>1</th><td>6</td><td>8.31</td><td>C</td><td>5</td></tr><tr><th>2</th><td>6</td><td>9.44</td><td>C</td><td>5</td></tr><tr><th>3</th><td>6</td><td>9.5</td><td>C</td><td>7</td></tr><tr><th>4</th><td>12</td><td>9.07</td><td>C</td><td>9</td></tr><tr><th>5</th><td>10</td><td>10.16</td><td>C</td><td>9</td></tr><tr><th>6</th><td>4</td><td>8.32</td><td>C</td><td>6</td></tr><tr><th>7</th><td>9</td><td>10.61</td><td>C</td><td>9</td></tr><tr><th>8</th><td>9</td><td>10.06</td><td>C</td><td>14</td></tr><tr><th>9</th><td>9</td><td>9.93</td><td>C</td><td>9</td></tr><tr><th>10</th><td>11</td><td>10.43</td><td>C</td><td>6</td></tr><tr><th>11</th><td>6</td><td>10.36</td><td>C</td><td>11</td></tr><tr><th>12</th><td>10</td><td>10.15</td><td>C</td><td>11</td></tr><tr><th>13</th><td>6</td><td>10.92</td><td>C</td><td>7</td></tr><tr><th>14</th><td>10</td><td>8.85</td><td>C</td><td>3</td></tr><tr><th>15</th><td>11</td><td>9.42</td><td>C</td><td>6</td></tr><tr><th>16</th><td>8</td><td>11.11</td><td>C</td><td>7</td></tr><tr><th>17</th><td>3</td><td>8.02</td><td>C</td><td>8</td></tr><tr><th>18</th><td>8</td><td>11.93</td><td>C</td><td>7</td></tr><tr><th>19</th><td>5</td><td>8.55</td><td>C</td><td>9</td></tr><tr><th>20</th><td>5</td><td>7.19</td><td>C</td><td>7</td></tr><tr><th>21</th><td>4</td><td>9.83</td><td>C</td><td>10</td></tr><tr><th>22</th><td>11</td><td>10.79</td><td>C</td><td>2</td></tr><tr><th>23</th><td>5</td><td>8.89</td><td>C</td><td>7</td></tr><tr><th>24</th><td>10</td><td>10.09</td><td>C</td><td>14</td></tr><tr><th>25</th><td>6</td><td>11.63</td><td>C</td><td>7</td></tr><tr><th>26</th><td>6</td><td>10.21</td><td>C</td><td>9</td></tr><tr><th>27</th><td>7</td><td>9.45</td><td>C</td><td>9</td></tr><tr><th>28</th><td>9</td><td>10.44</td><td>C</td><td>7</td></tr><tr><th>29</th><td>3</td><td>9.44</td><td>C</td><td>5</td></tr><tr><th>30</th><td>10</td><td>10.48</td><td>C</td><td>11</td></tr><tr><th>31</th><td>2</td><td>9.43</td><td>C</td><td>7</td></tr><tr><th>32</th><td>9</td><td>10.32</td><td>C</td><td>11</td></tr><tr><th>33</th><td>10</td><td>10.33</td><td>C</td><td>7</td></tr><tr><th>34</th><td>5</td><td>8.5</td><td>C</td><td>3</td></tr><tr><th>35</th><td>11</td><td>9.41</td><td>C</td><td>6</td></tr><tr><th>36</th><td>10</td><td>8.96</td><td>C</td><td>4</td></tr><tr><th>37</th><td>4</td><td>9.67</td><td>C</td><td>5</td></tr><tr><th>38</th><td>8</td><td>10.26</td><td>C</td><td>5</td></tr><tr><th>39</th><td>9</td><td>10.36</td><td>C</td><td>12</td></tr><tr><th>40</th><td>12</td><td>11.8</td><td>C</td><td>10</td></tr><tr><th>41</th><td>8</td><td>10.94</td><td>C</td><td>4</td></tr><tr><th>42</th><td>9</td><td>10.25</td><td>C</td><td>7</td></tr><tr><th>43</th><td>8</td><td>8.74</td><td>C</td><td>9</td></tr><tr><th>44</th><td>6</td><td>10.46</td><td>C</td><td>14</td></tr><tr><th>45</th><td>6</td><td>9.37</td><td>C</td><td>8</td></tr><tr><th>46</th><td>10</td><td>9.74</td><td>C</td><td>8</td></tr><tr><th>47</th><td>10</td><td>8.95</td><td>C</td><td>15</td></tr><tr><th>48</th><td>9</td><td>8.74</td><td>C</td><td>7</td></tr><tr><th>49</th><td>12</td><td>11.32</td><td>C</td><td>5</td></tr><tr><th>50</th><td>6</td><td>9.25</td><td>C</td><td>5</td></tr><tr><th>51</th><td>14</td><td>10.14</td><td>T</td><td>9</td></tr><tr><th>52</th><td>6</td><td>9.05</td><td>T</td><td>9</td></tr><tr><th>53</th><td>7</td><td>9.89</td><td>T</td><td>8</td></tr><tr><th>54</th><td>9</td><td>8.76</td><td>T</td><td>11</td></tr><tr><th>55</th><td>6</td><td>12.04</td><td>T</td><td>6</td></tr><tr><th>56</th><td>7</td><td>9.91</td><td>T</td><td>9</td></tr><tr><th>57</th><td>9</td><td>9.84</td><td>T</td><td>8</td></tr><tr><th>58</th><td>13</td><td>11.87</td><td>T</td><td>6</td></tr><tr><th>59</th><td>9</td><td>10.16</td><td>T</td><td>6</td></tr><tr><th>60</th><td>13</td><td>9.34</td><td>T</td><td>6</td></tr><tr><th>61</th><td>7</td><td>10.17</td><td>T</td><td>9</td></tr><tr><th>62</th><td>8</td><td>10.99</td><td>T</td><td>2</td></tr><tr><th>&vellip;</th><td>&vellip;</td><td>&vellip;</td><td>&vellip;</td><td>&vellip;</td></tr></tbody></table>"
      ],
      "text/latex": [
       "\\begin{tabular}{r|cccc}\n",
       "\t& y & x & f & y\\_rnd\\\\\n",
       "\t\\hline\n",
       "\t& Int64⍰ & Float64⍰ & String⍰ & Int64\\\\\n",
       "\t\\hline\n",
       "\t1 & 6 & 8.31 & C & 5 \\\\\n",
       "\t2 & 6 & 9.44 & C & 5 \\\\\n",
       "\t3 & 6 & 9.5 & C & 7 \\\\\n",
       "\t4 & 12 & 9.07 & C & 9 \\\\\n",
       "\t5 & 10 & 10.16 & C & 9 \\\\\n",
       "\t6 & 4 & 8.32 & C & 6 \\\\\n",
       "\t7 & 9 & 10.61 & C & 9 \\\\\n",
       "\t8 & 9 & 10.06 & C & 14 \\\\\n",
       "\t9 & 9 & 9.93 & C & 9 \\\\\n",
       "\t10 & 11 & 10.43 & C & 6 \\\\\n",
       "\t11 & 6 & 10.36 & C & 11 \\\\\n",
       "\t12 & 10 & 10.15 & C & 11 \\\\\n",
       "\t13 & 6 & 10.92 & C & 7 \\\\\n",
       "\t14 & 10 & 8.85 & C & 3 \\\\\n",
       "\t15 & 11 & 9.42 & C & 6 \\\\\n",
       "\t16 & 8 & 11.11 & C & 7 \\\\\n",
       "\t17 & 3 & 8.02 & C & 8 \\\\\n",
       "\t18 & 8 & 11.93 & C & 7 \\\\\n",
       "\t19 & 5 & 8.55 & C & 9 \\\\\n",
       "\t20 & 5 & 7.19 & C & 7 \\\\\n",
       "\t21 & 4 & 9.83 & C & 10 \\\\\n",
       "\t22 & 11 & 10.79 & C & 2 \\\\\n",
       "\t23 & 5 & 8.89 & C & 7 \\\\\n",
       "\t24 & 10 & 10.09 & C & 14 \\\\\n",
       "\t25 & 6 & 11.63 & C & 7 \\\\\n",
       "\t26 & 6 & 10.21 & C & 9 \\\\\n",
       "\t27 & 7 & 9.45 & C & 9 \\\\\n",
       "\t28 & 9 & 10.44 & C & 7 \\\\\n",
       "\t29 & 3 & 9.44 & C & 5 \\\\\n",
       "\t30 & 10 & 10.48 & C & 11 \\\\\n",
       "\t31 & 2 & 9.43 & C & 7 \\\\\n",
       "\t32 & 9 & 10.32 & C & 11 \\\\\n",
       "\t33 & 10 & 10.33 & C & 7 \\\\\n",
       "\t34 & 5 & 8.5 & C & 3 \\\\\n",
       "\t35 & 11 & 9.41 & C & 6 \\\\\n",
       "\t36 & 10 & 8.96 & C & 4 \\\\\n",
       "\t37 & 4 & 9.67 & C & 5 \\\\\n",
       "\t38 & 8 & 10.26 & C & 5 \\\\\n",
       "\t39 & 9 & 10.36 & C & 12 \\\\\n",
       "\t40 & 12 & 11.8 & C & 10 \\\\\n",
       "\t41 & 8 & 10.94 & C & 4 \\\\\n",
       "\t42 & 9 & 10.25 & C & 7 \\\\\n",
       "\t43 & 8 & 8.74 & C & 9 \\\\\n",
       "\t44 & 6 & 10.46 & C & 14 \\\\\n",
       "\t45 & 6 & 9.37 & C & 8 \\\\\n",
       "\t46 & 10 & 9.74 & C & 8 \\\\\n",
       "\t47 & 10 & 8.95 & C & 15 \\\\\n",
       "\t48 & 9 & 8.74 & C & 7 \\\\\n",
       "\t49 & 12 & 11.32 & C & 5 \\\\\n",
       "\t50 & 6 & 9.25 & C & 5 \\\\\n",
       "\t51 & 14 & 10.14 & T & 9 \\\\\n",
       "\t52 & 6 & 9.05 & T & 9 \\\\\n",
       "\t53 & 7 & 9.89 & T & 8 \\\\\n",
       "\t54 & 9 & 8.76 & T & 11 \\\\\n",
       "\t55 & 6 & 12.04 & T & 6 \\\\\n",
       "\t56 & 7 & 9.91 & T & 9 \\\\\n",
       "\t57 & 9 & 9.84 & T & 8 \\\\\n",
       "\t58 & 13 & 11.87 & T & 6 \\\\\n",
       "\t59 & 9 & 10.16 & T & 6 \\\\\n",
       "\t60 & 13 & 9.34 & T & 6 \\\\\n",
       "\t61 & 7 & 10.17 & T & 9 \\\\\n",
       "\t62 & 8 & 10.99 & T & 2 \\\\\n",
       "\t$\\dots$ & $\\dots$ & $\\dots$ & $\\dots$ & $\\dots$ \\\\\n",
       "\\end{tabular}\n"
      ],
      "text/plain": [
       "100×4 DataFrame\n",
       "│ Row │ y      │ x        │ f       │ y_rnd │\n",
       "│     │ \u001b[90mInt64⍰\u001b[39m │ \u001b[90mFloat64⍰\u001b[39m │ \u001b[90mString⍰\u001b[39m │ \u001b[90mInt64\u001b[39m │\n",
       "├─────┼────────┼──────────┼─────────┼───────┤\n",
       "│ 1   │ 6      │ 8.31     │ C       │ 5     │\n",
       "│ 2   │ 6      │ 9.44     │ C       │ 5     │\n",
       "│ 3   │ 6      │ 9.5      │ C       │ 7     │\n",
       "│ 4   │ 12     │ 9.07     │ C       │ 9     │\n",
       "│ 5   │ 10     │ 10.16    │ C       │ 9     │\n",
       "│ 6   │ 4      │ 8.32     │ C       │ 6     │\n",
       "│ 7   │ 9      │ 10.61    │ C       │ 9     │\n",
       "│ 8   │ 9      │ 10.06    │ C       │ 14    │\n",
       "│ 9   │ 9      │ 9.93     │ C       │ 9     │\n",
       "│ 10  │ 11     │ 10.43    │ C       │ 6     │\n",
       "│ 11  │ 6      │ 10.36    │ C       │ 11    │\n",
       "│ 12  │ 10     │ 10.15    │ C       │ 11    │\n",
       "│ 13  │ 6      │ 10.92    │ C       │ 7     │\n",
       "│ 14  │ 10     │ 8.85     │ C       │ 3     │\n",
       "│ 15  │ 11     │ 9.42     │ C       │ 6     │\n",
       "│ 16  │ 8      │ 11.11    │ C       │ 7     │\n",
       "│ 17  │ 3      │ 8.02     │ C       │ 8     │\n",
       "│ 18  │ 8      │ 11.93    │ C       │ 7     │\n",
       "│ 19  │ 5      │ 8.55     │ C       │ 9     │\n",
       "│ 20  │ 5      │ 7.19     │ C       │ 7     │\n",
       "│ 21  │ 4      │ 9.83     │ C       │ 10    │\n",
       "│ 22  │ 11     │ 10.79    │ C       │ 2     │\n",
       "│ 23  │ 5      │ 8.89     │ C       │ 7     │\n",
       "│ 24  │ 10     │ 10.09    │ C       │ 14    │\n",
       "│ 25  │ 6      │ 11.63    │ C       │ 7     │\n",
       "│ 26  │ 6      │ 10.21    │ C       │ 9     │\n",
       "⋮\n",
       "│ 74  │ 7      │ 10.18    │ T       │ 3     │\n",
       "│ 75  │ 5      │ 9.53     │ T       │ 9     │\n",
       "│ 76  │ 6      │ 10.24    │ T       │ 5     │\n",
       "│ 77  │ 8      │ 11.76    │ T       │ 9     │\n",
       "│ 78  │ 9      │ 9.52     │ T       │ 11    │\n",
       "│ 79  │ 9      │ 10.4     │ T       │ 6     │\n",
       "│ 80  │ 6      │ 9.96     │ T       │ 8     │\n",
       "│ 81  │ 7      │ 10.3     │ T       │ 3     │\n",
       "│ 82  │ 10     │ 11.54    │ T       │ 14    │\n",
       "│ 83  │ 6      │ 9.42     │ T       │ 8     │\n",
       "│ 84  │ 11     │ 11.28    │ T       │ 5     │\n",
       "│ 85  │ 11     │ 9.73     │ T       │ 7     │\n",
       "│ 86  │ 11     │ 10.78    │ T       │ 11    │\n",
       "│ 87  │ 5      │ 10.21    │ T       │ 6     │\n",
       "│ 88  │ 6      │ 10.51    │ T       │ 14    │\n",
       "│ 89  │ 4      │ 10.73    │ T       │ 5     │\n",
       "│ 90  │ 5      │ 8.85     │ T       │ 9     │\n",
       "│ 91  │ 6      │ 11.2     │ T       │ 6     │\n",
       "│ 92  │ 5      │ 9.86     │ T       │ 10    │\n",
       "│ 93  │ 8      │ 11.54    │ T       │ 3     │\n",
       "│ 94  │ 5      │ 10.03    │ T       │ 8     │\n",
       "│ 95  │ 9      │ 11.88    │ T       │ 6     │\n",
       "│ 96  │ 8      │ 9.15     │ T       │ 9     │\n",
       "│ 97  │ 6      │ 8.52     │ T       │ 4     │\n",
       "│ 98  │ 8      │ 10.24    │ T       │ 3     │\n",
       "│ 99  │ 7      │ 10.86    │ T       │ 4     │\n",
       "│ 100 │ 9      │ 9.97     │ T       │ 6     │"
      ]
     },
     "execution_count": 6,
     "metadata": {},
     "output_type": "execute_result"
    }
   ],
   "source": [
    "d"
   ]
  },
  {
   "cell_type": "code",
   "execution_count": 7,
   "metadata": {},
   "outputs": [
    {
     "data": {
      "text/plain": [
       "0.14673108221869313"
      ]
     },
     "execution_count": 7,
     "metadata": {},
     "output_type": "execute_result"
    }
   ],
   "source": [
    "fit1 = glm(@formula(y_rnd ~ 1), d, Poisson(), LogLink())\n",
    "fit2 = glm(@formula(y_rnd ~ x), d, Poisson(), LogLink())\n",
    "deviance(fit1) - deviance(fit2)"
   ]
  },
  {
   "cell_type": "markdown",
   "metadata": {},
   "source": [
    "これを1000回くらい繰り返して、ランダム生成したデータの逸脱度の差の平均や標準偏差をみる。単純な方法は以下の`for`を使うやり方。"
   ]
  },
  {
   "cell_type": "code",
   "execution_count": 8,
   "metadata": {},
   "outputs": [],
   "source": [
    "N = 1000\n",
    "dd12 = zeros(N)\n",
    "for n=1:N\n",
    "    d[:y_rnd] = rand(Poisson(mean(d[:y])), 100)\n",
    "    fit1 = glm(@formula(y_rnd ~ 1), d, Poisson(), LogLink())\n",
    "    fit2 = glm(@formula(y_rnd ~ x), d, Poisson(), LogLink())\n",
    "    dd12[n] = deviance(fit1) - deviance(fit2)\n",
    "end"
   ]
  },
  {
   "cell_type": "markdown",
   "metadata": {},
   "source": [
    "p.104のコードをJuliaで書くと以下のようになるだろうか。`replicate()`の代わりにarray comprehensionを使った。"
   ]
  },
  {
   "cell_type": "code",
   "execution_count": 9,
   "metadata": {
    "scrolled": true
   },
   "outputs": [
    {
     "data": {
      "text/plain": [
       "1000-element Array{Float64,1}:\n",
       " 0.007158005243780963\n",
       " 0.2958092045348337  \n",
       " 4.645217991939475   \n",
       " 0.18879035045988246 \n",
       " 0.01226449092385451 \n",
       " 0.014504294974216236\n",
       " 0.01654626221979072 \n",
       " 0.19957707160766347 \n",
       " 1.7288433772347531  \n",
       " 0.006385637632703833\n",
       " 0.7966628952337373  \n",
       " 0.1494688665066093  \n",
       " 0.00965437187386442 \n",
       " 2.9237484155271005  \n",
       " 0.4228149547712121  \n",
       " 4.044977241645569   \n",
       " 0.053723485509848956\n",
       " 0.04735662853072142 \n",
       " 4.410522205129226   \n",
       " 3.392752457801137   \n",
       " 3.0691825674423256  \n",
       " 0.38576526470718875 \n",
       " 0.15508537365967356 \n",
       " 0.15135779371732383 \n",
       " 1.0099723361173432  \n",
       " 2.5253775668116845  \n",
       " 0.03512272611358469 \n",
       " 1.2355552602228528  \n",
       " 0.1261696174686051  \n",
       " ⋮                   \n",
       " 0.005343355388873761\n",
       " 8.694773229176306   \n",
       " 1.436424072136461   \n",
       " 4.394554257730405   \n",
       " 3.8764493060877925  \n",
       " 0.4188718340575406  \n",
       " 1.5253018781788086  \n",
       " 0.10344222555634985 \n",
       " 1.479141170890017   \n",
       " 0.015255921963614583\n",
       " 0.001813839386784366\n",
       " 2.769432343132891   \n",
       " 0.41279080602133433 \n",
       " 0.06203070621197071 \n",
       " 0.13370094839851276 \n",
       " 2.0767014354209437  \n",
       " 1.2657166252461565  \n",
       " 1.4913702441800751  \n",
       " 1.293066552336981   \n",
       " 1.64025749435541    \n",
       " 0.884709498389114   \n",
       " 1.2493963911469592  \n",
       " 0.06761709755589607 \n",
       " 1.0631298306601167  \n",
       " 6.46330769029646e-5 \n",
       " 0.012814285422095395\n",
       " 0.11198811317281354 \n",
       " 0.09007590002237009 "
      ]
     },
     "execution_count": 9,
     "metadata": {},
     "output_type": "execute_result"
    }
   ],
   "source": [
    "function get_dd(d)\n",
    "    n_sample = nrow(d)\n",
    "    y_mean = mean(d[:y])\n",
    "    d[:y_rnd] = rand(Poisson(mean(d[:y])), 100)\n",
    "    fit1 = glm(@formula(y_rnd ~ 1), d, Poisson(), LogLink())\n",
    "    fit2 = glm(@formula(y_rnd ~ x), d, Poisson(), LogLink())\n",
    "    return(deviance(fit1) - deviance(fit2))\n",
    "end\n",
    "\n",
    "function pb(d, n_bootstrap)\n",
    "    [get_dd(d) for n=1:n_bootstrap]\n",
    "end\n",
    "\n",
    "N = 1000\n",
    "dd12 = pb(d, N)"
   ]
  },
  {
   "cell_type": "code",
   "execution_count": 10,
   "metadata": {},
   "outputs": [
    {
     "name": "stdout",
     "output_type": "stream",
     "text": [
      "Summary Stats:\n",
      "Mean:           1.044145\n",
      "Minimum:        0.000000\n",
      "1st Quartile:   0.084443\n",
      "Median:         0.431920\n",
      "3rd Quartile:   1.321550\n",
      "Maximum:        10.008747\n",
      "Length:         1000\n",
      "Type:           Float64\n"
     ]
    }
   ],
   "source": [
    "describe(dd12)"
   ]
  },
  {
   "cell_type": "code",
   "execution_count": 11,
   "metadata": {},
   "outputs": [
    {
     "data": {
      "image/png": "[encoded data removed]"
     },
     "execution_count": 11,
     "metadata": {},
     "output_type": "execute_result"
    }
   ],
   "source": [
    "histogram(dd12, xlim=[0, 20], legend=false)\n",
    "vline!([deltaD], linestyle=:dash)"
   ]
  },
  {
   "cell_type": "code",
   "execution_count": 12,
   "metadata": {},
   "outputs": [
    {
     "data": {
      "text/plain": [
       "42"
      ]
     },
     "execution_count": 12,
     "metadata": {},
     "output_type": "execute_result"
    }
   ],
   "source": [
    "sum(dd12 .>= deltaD)"
   ]
  },
  {
   "cell_type": "code",
   "execution_count": 13,
   "metadata": {},
   "outputs": [
    {
     "data": {
      "text/plain": [
       "0.042"
      ]
     },
     "execution_count": 13,
     "metadata": {},
     "output_type": "execute_result"
    }
   ],
   "source": [
    "p_value = sum(dd12 .>= deltaD) / length(dd12)"
   ]
  },
  {
   "cell_type": "code",
   "execution_count": 14,
   "metadata": {},
   "outputs": [
    {
     "data": {
      "text/plain": [
       "4.363395789286505"
      ]
     },
     "execution_count": 14,
     "metadata": {},
     "output_type": "execute_result"
    }
   ],
   "source": [
    "α = 0.05\n",
    "quantile(dd12, 1-α)"
   ]
  },
  {
   "cell_type": "markdown",
   "metadata": {},
   "source": [
    "有意水準5%では上記の数値くらいまでの逸脱度の差は「よくある差」だと判断できる。"
   ]
  },
  {
   "cell_type": "markdown",
   "metadata": {},
   "source": [
    "### 3.4.2 方法(2) カイ二乗分布を使った近似計算法\n",
    "\n",
    "JuliaにRのようなANOVAは無さそうなので、コード例をそのままJuliaに移植することはできない。でもカイ二乗分布の累積分布関数を使ってp値を求めることはできる。"
   ]
  },
  {
   "cell_type": "code",
   "execution_count": 15,
   "metadata": {},
   "outputs": [
    {
     "data": {
      "text/plain": [
       "0.03361969100898521"
      ]
     },
     "execution_count": 15,
     "metadata": {},
     "output_type": "execute_result"
    }
   ],
   "source": [
    "fit1 = glm(@formula(y ~ 1), d, Poisson(), LogLink())\n",
    "fit2 = glm(@formula(y ~ x), d, Poisson(), LogLink())\n",
    "dd12 = deviance(fit1) - deviance(fit2)\n",
    "1 - cdf(Chisq(1), dd12)"
   ]
  }
 ],
 "metadata": {
  "kernelspec": {
   "display_name": "Julia 1.1.0",
   "language": "julia",
   "name": "julia-1.1"
  },
  "language_info": {
   "file_extension": ".jl",
   "mimetype": "application/julia",
   "name": "julia",
   "version": "1.1.0"
  }
 },
 "nbformat": 4,
 "nbformat_minor": 2
}
