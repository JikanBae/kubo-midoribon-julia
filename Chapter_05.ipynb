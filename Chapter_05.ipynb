{
 "cells": [
  {
   "cell_type": "markdown",
   "metadata": {},
   "source": [
    "久保拓弥『データ解析のための統計モデリング入門』をJuliaでやってみます。\n",
    "\n",
    "* 久保さんの書籍ページ：http://hosho.ees.hokudai.ac.jp/~kubo/ce/IwanamiBook.html\n",
    "* Amazon.co.jp：https://amzn.to/2Cg5vDJ\n",
    "\n",
    "# 第5章 GLMの尤度比検定と検定の非対称性"
   ]
  },
  {
   "cell_type": "code",
   "execution_count": 1,
   "metadata": {},
   "outputs": [
    {
     "name": "stdout",
     "output_type": "stream",
     "text": [
      "Julia Version 1.5.0\n",
      "Commit 96786e22cc (2020-08-01 23:44 UTC)\n",
      "Platform Info:\n",
      "  OS: Windows (x86_64-w64-mingw32)\n",
      "  CPU: Intel(R) Core(TM) i5-10400 CPU @ 2.90GHz\n",
      "  WORD_SIZE: 64\n",
      "  LIBM: libopenlibm\n",
      "  LLVM: libLLVM-9.0.1 (ORCJIT, skylake)\n",
      "Environment:\n",
      "  JULIA_EDITOR = \"C:\\Users\\marui\\AppData\\Local\\Programs\\Microsoft VS Code\\Code.exe\"\n",
      "  JULIA_NUM_THREADS = \n"
     ]
    }
   ],
   "source": [
    "using CSV\n",
    "using DataFrames\n",
    "using GLM\n",
    "using Plots\n",
    "pyplot();\n",
    "using Distributions\n",
    "versioninfo()"
   ]
  },
  {
   "cell_type": "markdown",
   "metadata": {},
   "source": [
    "## 5.2 尤度比検定の例題：逸脱度の差を調べる"
   ]
  },
  {
   "cell_type": "code",
   "execution_count": 2,
   "metadata": {},
   "outputs": [],
   "source": [
    "d = CSV.read(\"data3a.csv\");\n",
    "fit1 = glm(@formula(y ~ 1), d, Poisson(), LogLink());\n",
    "fit2 = glm(@formula(y ~ x), d, Poisson(), LogLink());"
   ]
  },
  {
   "cell_type": "markdown",
   "metadata": {},
   "source": [
    "**尤度比**（_likelihood ratio_）を対数化して-2をかけたものが逸脱度の差$\\Delta D$になる。\n",
    "$$ \\frac{L_1^\\ast}{L_2^\\ast} $$\n",
    "$$ \\Delta D_{1,2} = -2\\times\\left(\\log L_1^\\ast - \\log L_2^\\ast\\right) $$"
   ]
  },
  {
   "cell_type": "code",
   "execution_count": 3,
   "metadata": {},
   "outputs": [
    {
     "data": {
      "text/plain": [
       "4.5139410788519285"
      ]
     },
     "execution_count": 3,
     "metadata": {},
     "output_type": "execute_result"
    }
   ],
   "source": [
    "D1 = -2 * loglikelihood(fit1)\n",
    "D2 = -2 * loglikelihood(fit2)\n",
    "deltaD = D1 - D2   # deviance(fit1) - deviance(fit2) でも同じ"
   ]
  },
  {
   "cell_type": "markdown",
   "metadata": {},
   "source": [
    "この4.5という値の大きさが十分なのかどうかをどうやって確認するの？というのが、この後の中心的な話題。\n",
    "\n",
    "## 5.4 帰無仮説を棄却するための有意水準\n",
    "\n",
    "### 5.4.1 方法(1) 汎用性のあるパラメトリックブートストラップ法（p.102）\n",
    "\n"
   ]
  },
  {
   "cell_type": "code",
   "execution_count": 4,
   "metadata": {},
   "outputs": [
    {
     "data": {
      "text/plain": [
       "4.513941078851829"
      ]
     },
     "execution_count": 4,
     "metadata": {},
     "output_type": "execute_result"
    }
   ],
   "source": [
    "deviance(fit1) - deviance(fit2)"
   ]
  },
  {
   "cell_type": "code",
   "execution_count": 5,
   "metadata": {
    "scrolled": true
   },
   "outputs": [
    {
     "data": {
      "text/plain": [
       "100-element Array{Int64,1}:\n",
       "  5\n",
       "  6\n",
       " 10\n",
       "  8\n",
       "  9\n",
       "  8\n",
       "  7\n",
       " 10\n",
       " 10\n",
       "  8\n",
       "  8\n",
       "  9\n",
       "  8\n",
       "  ⋮\n",
       "  5\n",
       "  9\n",
       " 12\n",
       " 10\n",
       "  5\n",
       "  6\n",
       " 11\n",
       " 10\n",
       "  5\n",
       "  8\n",
       "  8\n",
       "  5"
      ]
     },
     "execution_count": 5,
     "metadata": {},
     "output_type": "execute_result"
    }
   ],
   "source": [
    "d[:y_rnd] = rand(Poisson(mean(d[:y])), 100)"
   ]
  },
  {
   "cell_type": "code",
   "execution_count": 6,
   "metadata": {
    "scrolled": true
   },
   "outputs": [
    {
     "data": {
      "text/html": [
       "<table class=\"data-frame\"><thead><tr><th></th><th>y</th><th>x</th><th>f</th><th>y_rnd</th></tr><tr><th></th><th>Int64</th><th>Float64</th><th>String</th><th>Int64</th></tr></thead><tbody><p>100 rows × 4 columns</p><tr><th>1</th><td>6</td><td>8.31</td><td>C</td><td>5</td></tr><tr><th>2</th><td>6</td><td>9.44</td><td>C</td><td>6</td></tr><tr><th>3</th><td>6</td><td>9.5</td><td>C</td><td>10</td></tr><tr><th>4</th><td>12</td><td>9.07</td><td>C</td><td>8</td></tr><tr><th>5</th><td>10</td><td>10.16</td><td>C</td><td>9</td></tr><tr><th>6</th><td>4</td><td>8.32</td><td>C</td><td>8</td></tr><tr><th>7</th><td>9</td><td>10.61</td><td>C</td><td>7</td></tr><tr><th>8</th><td>9</td><td>10.06</td><td>C</td><td>10</td></tr><tr><th>9</th><td>9</td><td>9.93</td><td>C</td><td>10</td></tr><tr><th>10</th><td>11</td><td>10.43</td><td>C</td><td>8</td></tr><tr><th>11</th><td>6</td><td>10.36</td><td>C</td><td>8</td></tr><tr><th>12</th><td>10</td><td>10.15</td><td>C</td><td>9</td></tr><tr><th>13</th><td>6</td><td>10.92</td><td>C</td><td>8</td></tr><tr><th>14</th><td>10</td><td>8.85</td><td>C</td><td>7</td></tr><tr><th>15</th><td>11</td><td>9.42</td><td>C</td><td>9</td></tr><tr><th>16</th><td>8</td><td>11.11</td><td>C</td><td>9</td></tr><tr><th>17</th><td>3</td><td>8.02</td><td>C</td><td>5</td></tr><tr><th>18</th><td>8</td><td>11.93</td><td>C</td><td>9</td></tr><tr><th>19</th><td>5</td><td>8.55</td><td>C</td><td>8</td></tr><tr><th>20</th><td>5</td><td>7.19</td><td>C</td><td>10</td></tr><tr><th>21</th><td>4</td><td>9.83</td><td>C</td><td>11</td></tr><tr><th>22</th><td>11</td><td>10.79</td><td>C</td><td>6</td></tr><tr><th>23</th><td>5</td><td>8.89</td><td>C</td><td>8</td></tr><tr><th>24</th><td>10</td><td>10.09</td><td>C</td><td>9</td></tr><tr><th>25</th><td>6</td><td>11.63</td><td>C</td><td>10</td></tr><tr><th>26</th><td>6</td><td>10.21</td><td>C</td><td>8</td></tr><tr><th>27</th><td>7</td><td>9.45</td><td>C</td><td>13</td></tr><tr><th>28</th><td>9</td><td>10.44</td><td>C</td><td>12</td></tr><tr><th>29</th><td>3</td><td>9.44</td><td>C</td><td>8</td></tr><tr><th>30</th><td>10</td><td>10.48</td><td>C</td><td>7</td></tr><tr><th>&vellip;</th><td>&vellip;</td><td>&vellip;</td><td>&vellip;</td><td>&vellip;</td></tr></tbody></table>"
      ],
      "text/latex": [
       "\\begin{tabular}{r|cccc}\n",
       "\t& y & x & f & y\\_rnd\\\\\n",
       "\t\\hline\n",
       "\t& Int64 & Float64 & String & Int64\\\\\n",
       "\t\\hline\n",
       "\t1 & 6 & 8.31 & C & 5 \\\\\n",
       "\t2 & 6 & 9.44 & C & 6 \\\\\n",
       "\t3 & 6 & 9.5 & C & 10 \\\\\n",
       "\t4 & 12 & 9.07 & C & 8 \\\\\n",
       "\t5 & 10 & 10.16 & C & 9 \\\\\n",
       "\t6 & 4 & 8.32 & C & 8 \\\\\n",
       "\t7 & 9 & 10.61 & C & 7 \\\\\n",
       "\t8 & 9 & 10.06 & C & 10 \\\\\n",
       "\t9 & 9 & 9.93 & C & 10 \\\\\n",
       "\t10 & 11 & 10.43 & C & 8 \\\\\n",
       "\t11 & 6 & 10.36 & C & 8 \\\\\n",
       "\t12 & 10 & 10.15 & C & 9 \\\\\n",
       "\t13 & 6 & 10.92 & C & 8 \\\\\n",
       "\t14 & 10 & 8.85 & C & 7 \\\\\n",
       "\t15 & 11 & 9.42 & C & 9 \\\\\n",
       "\t16 & 8 & 11.11 & C & 9 \\\\\n",
       "\t17 & 3 & 8.02 & C & 5 \\\\\n",
       "\t18 & 8 & 11.93 & C & 9 \\\\\n",
       "\t19 & 5 & 8.55 & C & 8 \\\\\n",
       "\t20 & 5 & 7.19 & C & 10 \\\\\n",
       "\t21 & 4 & 9.83 & C & 11 \\\\\n",
       "\t22 & 11 & 10.79 & C & 6 \\\\\n",
       "\t23 & 5 & 8.89 & C & 8 \\\\\n",
       "\t24 & 10 & 10.09 & C & 9 \\\\\n",
       "\t25 & 6 & 11.63 & C & 10 \\\\\n",
       "\t26 & 6 & 10.21 & C & 8 \\\\\n",
       "\t27 & 7 & 9.45 & C & 13 \\\\\n",
       "\t28 & 9 & 10.44 & C & 12 \\\\\n",
       "\t29 & 3 & 9.44 & C & 8 \\\\\n",
       "\t30 & 10 & 10.48 & C & 7 \\\\\n",
       "\t$\\dots$ & $\\dots$ & $\\dots$ & $\\dots$ & $\\dots$ \\\\\n",
       "\\end{tabular}\n"
      ],
      "text/plain": [
       "100×4 DataFrame\n",
       "│ Row │ y     │ x       │ f      │ y_rnd │\n",
       "│     │ \u001b[90mInt64\u001b[39m │ \u001b[90mFloat64\u001b[39m │ \u001b[90mString\u001b[39m │ \u001b[90mInt64\u001b[39m │\n",
       "├─────┼───────┼─────────┼────────┼───────┤\n",
       "│ 1   │ 6     │ 8.31    │ C      │ 5     │\n",
       "│ 2   │ 6     │ 9.44    │ C      │ 6     │\n",
       "│ 3   │ 6     │ 9.5     │ C      │ 10    │\n",
       "│ 4   │ 12    │ 9.07    │ C      │ 8     │\n",
       "│ 5   │ 10    │ 10.16   │ C      │ 9     │\n",
       "│ 6   │ 4     │ 8.32    │ C      │ 8     │\n",
       "│ 7   │ 9     │ 10.61   │ C      │ 7     │\n",
       "│ 8   │ 9     │ 10.06   │ C      │ 10    │\n",
       "│ 9   │ 9     │ 9.93    │ C      │ 10    │\n",
       "│ 10  │ 11    │ 10.43   │ C      │ 8     │\n",
       "⋮\n",
       "│ 90  │ 5     │ 8.85    │ T      │ 9     │\n",
       "│ 91  │ 6     │ 11.2    │ T      │ 12    │\n",
       "│ 92  │ 5     │ 9.86    │ T      │ 10    │\n",
       "│ 93  │ 8     │ 11.54   │ T      │ 5     │\n",
       "│ 94  │ 5     │ 10.03   │ T      │ 6     │\n",
       "│ 95  │ 9     │ 11.88   │ T      │ 11    │\n",
       "│ 96  │ 8     │ 9.15    │ T      │ 10    │\n",
       "│ 97  │ 6     │ 8.52    │ T      │ 5     │\n",
       "│ 98  │ 8     │ 10.24   │ T      │ 8     │\n",
       "│ 99  │ 7     │ 10.86   │ T      │ 8     │\n",
       "│ 100 │ 9     │ 9.97    │ T      │ 5     │"
      ]
     },
     "execution_count": 6,
     "metadata": {},
     "output_type": "execute_result"
    }
   ],
   "source": [
    "d"
   ]
  },
  {
   "cell_type": "code",
   "execution_count": 7,
   "metadata": {},
   "outputs": [
    {
     "data": {
      "text/plain": [
       "0.44418227456145587"
      ]
     },
     "execution_count": 7,
     "metadata": {},
     "output_type": "execute_result"
    }
   ],
   "source": [
    "fit1 = glm(@formula(y_rnd ~ 1), d, Poisson(), LogLink())\n",
    "fit2 = glm(@formula(y_rnd ~ x), d, Poisson(), LogLink())\n",
    "deviance(fit1) - deviance(fit2)"
   ]
  },
  {
   "cell_type": "markdown",
   "metadata": {},
   "source": [
    "これを1000回くらい繰り返して、ランダム生成したデータの逸脱度の差の平均や標準偏差をみる。単純な方法は以下の`for`を使うやり方。"
   ]
  },
  {
   "cell_type": "code",
   "execution_count": 8,
   "metadata": {},
   "outputs": [],
   "source": [
    "N = 1000\n",
    "dd12 = zeros(N)\n",
    "for n=1:N\n",
    "    d[:y_rnd] = rand(Poisson(mean(d[:y])), 100)\n",
    "    fit1 = glm(@formula(y_rnd ~ 1), d, Poisson(), LogLink())\n",
    "    fit2 = glm(@formula(y_rnd ~ x), d, Poisson(), LogLink())\n",
    "    dd12[n] = deviance(fit1) - deviance(fit2)\n",
    "end"
   ]
  },
  {
   "cell_type": "markdown",
   "metadata": {},
   "source": [
    "p.104のコードをJuliaで書くと以下のようになるだろうか。`replicate()`の代わりにarray comprehensionを使った。"
   ]
  },
  {
   "cell_type": "code",
   "execution_count": 9,
   "metadata": {
    "scrolled": true
   },
   "outputs": [
    {
     "data": {
      "text/plain": [
       "1000-element Array{Float64,1}:\n",
       " 0.0057466135306327715\n",
       " 0.32222774319080827\n",
       " 0.1814380153283679\n",
       " 2.4935532397165616\n",
       " 0.20785596463342415\n",
       " 5.573545760671394\n",
       " 0.8784618148608416\n",
       " 0.09560259878431054\n",
       " 8.199411714532076\n",
       " 0.19272092857889334\n",
       " 1.2497351960618488\n",
       " 0.6843582073242374\n",
       " 0.6529664575270857\n",
       " ⋮\n",
       " 7.213000996462853\n",
       " 0.026286929989069563\n",
       " 0.5291438220686473\n",
       " 0.5011874349989967\n",
       " 0.006728681850376006\n",
       " 0.23611710217029724\n",
       " 0.17030491315927065\n",
       " 0.12133332853197487\n",
       " 0.27855594522183935\n",
       " 0.33080962955386894\n",
       " 0.07016497125731291\n",
       " 0.00303653654411562"
      ]
     },
     "execution_count": 9,
     "metadata": {},
     "output_type": "execute_result"
    }
   ],
   "source": [
    "function get_dd(d)\n",
    "    n_sample = nrow(d)\n",
    "    y_mean = mean(d[:y])\n",
    "    d[:y_rnd] = rand(Poisson(mean(d[:y])), 100)\n",
    "    fit1 = glm(@formula(y_rnd ~ 1), d, Poisson(), LogLink())\n",
    "    fit2 = glm(@formula(y_rnd ~ x), d, Poisson(), LogLink())\n",
    "    return(deviance(fit1) - deviance(fit2))\n",
    "end\n",
    "\n",
    "function pb(d, n_bootstrap)\n",
    "    [get_dd(d) for n=1:n_bootstrap]\n",
    "end\n",
    "\n",
    "N = 1000\n",
    "dd12 = pb(d, N)"
   ]
  },
  {
   "cell_type": "code",
   "execution_count": 10,
   "metadata": {},
   "outputs": [
    {
     "name": "stdout",
     "output_type": "stream",
     "text": [
      "Summary Stats:\n",
      "Length:         1000\n",
      "Missing Count:  0\n",
      "Mean:           0.922563\n",
      "Minimum:        0.000000\n",
      "1st Quartile:   0.082022\n",
      "Median:         0.393385\n",
      "3rd Quartile:   1.198199\n",
      "Maximum:        8.932181\n",
      "Type:           Float64\n"
     ]
    }
   ],
   "source": [
    "describe(dd12)"
   ]
  },
  {
   "cell_type": "code",
   "execution_count": 11,
   "metadata": {},
   "outputs": [
    {
     "data": {
      "image/png": "[encoded data removed]"
     },
     "execution_count": 11,
     "metadata": {},
     "output_type": "execute_result"
    }
   ],
   "source": [
    "histogram(dd12, xlim=[0, 20], legend=false)\n",
    "vline!([deltaD], linestyle=:dash)"
   ]
  },
  {
   "cell_type": "code",
   "execution_count": 12,
   "metadata": {},
   "outputs": [
    {
     "data": {
      "text/plain": [
       "35"
      ]
     },
     "execution_count": 12,
     "metadata": {},
     "output_type": "execute_result"
    }
   ],
   "source": [
    "sum(dd12 .>= deltaD)"
   ]
  },
  {
   "cell_type": "code",
   "execution_count": 13,
   "metadata": {},
   "outputs": [
    {
     "data": {
      "text/plain": [
       "0.035"
      ]
     },
     "execution_count": 13,
     "metadata": {},
     "output_type": "execute_result"
    }
   ],
   "source": [
    "p_value = sum(dd12 .>= deltaD) / length(dd12)"
   ]
  },
  {
   "cell_type": "code",
   "execution_count": 14,
   "metadata": {},
   "outputs": [
    {
     "data": {
      "text/plain": [
       "3.6969261591158484"
      ]
     },
     "execution_count": 14,
     "metadata": {},
     "output_type": "execute_result"
    }
   ],
   "source": [
    "α = 0.05\n",
    "quantile(dd12, 1-α)"
   ]
  },
  {
   "cell_type": "markdown",
   "metadata": {},
   "source": [
    "有意水準5%では上記の数値くらいまでの逸脱度の差は「よくある差」だと判断できる。"
   ]
  },
  {
   "cell_type": "markdown",
   "metadata": {},
   "source": [
    "### 3.4.2 方法(2) カイ二乗分布を使った近似計算法\n",
    "\n",
    "JuliaにRのようなANOVAは無さそうなので、コード例をそのままJuliaに移植することはできない。でもカイ二乗分布の累積分布関数を使ってp値を求めることはできる。"
   ]
  },
  {
   "cell_type": "code",
   "execution_count": 15,
   "metadata": {},
   "outputs": [
    {
     "data": {
      "text/plain": [
       "0.03361969100898521"
      ]
     },
     "execution_count": 15,
     "metadata": {},
     "output_type": "execute_result"
    }
   ],
   "source": [
    "fit1 = glm(@formula(y ~ 1), d, Poisson(), LogLink())\n",
    "fit2 = glm(@formula(y ~ x), d, Poisson(), LogLink())\n",
    "dd12 = deviance(fit1) - deviance(fit2)\n",
    "1 - cdf(Chisq(1), dd12)"
   ]
  }
 ],
 "metadata": {
  "kernel_info": {
   "name": "julia-1.1"
  },
  "kernelspec": {
   "display_name": "Julia 1.5.0",
   "language": "julia",
   "name": "julia-1.5"
  },
  "language_info": {
   "file_extension": ".jl",
   "mimetype": "application/julia",
   "name": "julia",
   "version": "1.5.0"
  },
  "nteract": {
   "version": "0.12.3"
  }
 },
 "nbformat": 4,
 "nbformat_minor": 4
}
