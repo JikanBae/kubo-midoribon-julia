{
 "cells": [
  {
   "cell_type": "markdown",
   "metadata": {},
   "source": [
    "久保拓弥『データ解析のための統計モデリング入門』をJuliaでやってみます。\n",
    "\n",
    "* 久保さんの書籍ページ：http://hosho.ees.hokudai.ac.jp/~kubo/ce/IwanamiBook.html\n",
    "* Amazon.co.jp：https://amzn.to/2Cg5vDJ\n",
    "\n",
    "# 第5章 GLMの尤度比検定と検定の非対称性"
   ]
  },
  {
   "cell_type": "code",
   "execution_count": 16,
   "metadata": {},
   "outputs": [],
   "source": [
    "using CSV\n",
    "using DataFrames\n",
    "using GLM\n",
    "using Plots\n",
    "pyplot();\n",
    "using Distributions"
   ]
  },
  {
   "cell_type": "markdown",
   "metadata": {},
   "source": [
    "## 5.2 尤度比検定の例題：逸脱度の差を調べる"
   ]
  },
  {
   "cell_type": "code",
   "execution_count": 17,
   "metadata": {},
   "outputs": [],
   "source": [
    "d = CSV.read(\"data3a.csv\");\n",
    "fit1 = glm(@formula(y ~ 1), d, Poisson(), LogLink());\n",
    "fit2 = glm(@formula(y ~ x), d, Poisson(), LogLink());"
   ]
  },
  {
   "cell_type": "markdown",
   "metadata": {},
   "source": [
    "**尤度比**（_likelihood ratio_）を対数化して-2をかけたものが逸脱度の差$\\Delta D$になる。\n",
    "$$ \\frac{L_1^\\ast}{L_2^\\ast} $$\n",
    "$$ \\Delta D_{1,2} = -2\\times\\left(\\log L_1^\\ast - \\log L_2^\\ast\\right) $$"
   ]
  },
  {
   "cell_type": "code",
   "execution_count": 18,
   "metadata": {},
   "outputs": [
    {
     "data": {
      "text/plain": [
       "4.5139410788519285"
      ]
     },
     "execution_count": 18,
     "metadata": {},
     "output_type": "execute_result"
    }
   ],
   "source": [
    "D1 = -2 * loglikelihood(fit1)\n",
    "D2 = -2 * loglikelihood(fit2)\n",
    "deltaD = D1 - D2   # deviance(fit1) - deviance(fit2) でも同じ"
   ]
  },
  {
   "cell_type": "markdown",
   "metadata": {},
   "source": [
    "この4.5という値の大きさが十分なのかどうかをどうやって確認するの？というのが、この後の中心的な話題。\n",
    "\n",
    "## 5.4 帰無仮説を棄却するための有意水準\n",
    "\n",
    "### 5.4.1 方法(1) 汎用性のあるパラメトリックブートストラップ法（p.102）\n",
    "\n"
   ]
  },
  {
   "cell_type": "code",
   "execution_count": 19,
   "metadata": {},
   "outputs": [
    {
     "data": {
      "text/plain": [
       "4.513941078851829"
      ]
     },
     "execution_count": 19,
     "metadata": {},
     "output_type": "execute_result"
    }
   ],
   "source": [
    "deviance(fit1) - deviance(fit2)"
   ]
  },
  {
   "cell_type": "code",
   "execution_count": 20,
   "metadata": {
    "scrolled": true
   },
   "outputs": [
    {
     "data": {
      "text/plain": [
       "100-element Array{Int64,1}:\n",
       "  9\n",
       " 12\n",
       "  9\n",
       "  7\n",
       "  6\n",
       "  7\n",
       "  6\n",
       "  4\n",
       "  8\n",
       "  9\n",
       "  6\n",
       "  7\n",
       "  7\n",
       " 10\n",
       "  6\n",
       "  4\n",
       " 12\n",
       " 12\n",
       "  5\n",
       " 10\n",
       "  8\n",
       "  7\n",
       " 13\n",
       "  6\n",
       "  3\n",
       "  6\n",
       "  ⋮\n",
       " 13\n",
       "  6\n",
       "  9\n",
       "  8\n",
       "  8\n",
       "  9\n",
       "  9\n",
       "  7\n",
       "  7\n",
       "  4\n",
       " 10\n",
       "  7\n",
       "  7\n",
       " 12\n",
       "  6\n",
       "  5\n",
       " 10\n",
       "  6\n",
       "  4\n",
       "  8\n",
       "  7\n",
       "  6\n",
       "  4\n",
       "  5\n",
       "  2"
      ]
     },
     "execution_count": 20,
     "metadata": {},
     "output_type": "execute_result"
    }
   ],
   "source": [
    "d[:y_rnd] = rand(Poisson(mean(d[:y])), 100)"
   ]
  },
  {
   "cell_type": "code",
   "execution_count": 21,
   "metadata": {
    "scrolled": true
   },
   "outputs": [
    {
     "data": {
      "text/html": [
       "<table class=\"data-frame\"><thead><tr><th></th><th>y</th><th>x</th><th>f</th><th>y_rnd</th></tr><tr><th></th><th>Int64⍰</th><th>Float64⍰</th><th>String⍰</th><th>Int64</th></tr></thead><tbody><p>100 rows × 4 columns</p><tr><th>1</th><td>6</td><td>8.31</td><td>C</td><td>9</td></tr><tr><th>2</th><td>6</td><td>9.44</td><td>C</td><td>12</td></tr><tr><th>3</th><td>6</td><td>9.5</td><td>C</td><td>9</td></tr><tr><th>4</th><td>12</td><td>9.07</td><td>C</td><td>7</td></tr><tr><th>5</th><td>10</td><td>10.16</td><td>C</td><td>6</td></tr><tr><th>6</th><td>4</td><td>8.32</td><td>C</td><td>7</td></tr><tr><th>7</th><td>9</td><td>10.61</td><td>C</td><td>6</td></tr><tr><th>8</th><td>9</td><td>10.06</td><td>C</td><td>4</td></tr><tr><th>9</th><td>9</td><td>9.93</td><td>C</td><td>8</td></tr><tr><th>10</th><td>11</td><td>10.43</td><td>C</td><td>9</td></tr><tr><th>11</th><td>6</td><td>10.36</td><td>C</td><td>6</td></tr><tr><th>12</th><td>10</td><td>10.15</td><td>C</td><td>7</td></tr><tr><th>13</th><td>6</td><td>10.92</td><td>C</td><td>7</td></tr><tr><th>14</th><td>10</td><td>8.85</td><td>C</td><td>10</td></tr><tr><th>15</th><td>11</td><td>9.42</td><td>C</td><td>6</td></tr><tr><th>16</th><td>8</td><td>11.11</td><td>C</td><td>4</td></tr><tr><th>17</th><td>3</td><td>8.02</td><td>C</td><td>12</td></tr><tr><th>18</th><td>8</td><td>11.93</td><td>C</td><td>12</td></tr><tr><th>19</th><td>5</td><td>8.55</td><td>C</td><td>5</td></tr><tr><th>20</th><td>5</td><td>7.19</td><td>C</td><td>10</td></tr><tr><th>21</th><td>4</td><td>9.83</td><td>C</td><td>8</td></tr><tr><th>22</th><td>11</td><td>10.79</td><td>C</td><td>7</td></tr><tr><th>23</th><td>5</td><td>8.89</td><td>C</td><td>13</td></tr><tr><th>24</th><td>10</td><td>10.09</td><td>C</td><td>6</td></tr><tr><th>25</th><td>6</td><td>11.63</td><td>C</td><td>3</td></tr><tr><th>26</th><td>6</td><td>10.21</td><td>C</td><td>6</td></tr><tr><th>27</th><td>7</td><td>9.45</td><td>C</td><td>12</td></tr><tr><th>28</th><td>9</td><td>10.44</td><td>C</td><td>7</td></tr><tr><th>29</th><td>3</td><td>9.44</td><td>C</td><td>6</td></tr><tr><th>30</th><td>10</td><td>10.48</td><td>C</td><td>9</td></tr><tr><th>31</th><td>2</td><td>9.43</td><td>C</td><td>6</td></tr><tr><th>32</th><td>9</td><td>10.32</td><td>C</td><td>8</td></tr><tr><th>33</th><td>10</td><td>10.33</td><td>C</td><td>7</td></tr><tr><th>34</th><td>5</td><td>8.5</td><td>C</td><td>5</td></tr><tr><th>35</th><td>11</td><td>9.41</td><td>C</td><td>10</td></tr><tr><th>36</th><td>10</td><td>8.96</td><td>C</td><td>14</td></tr><tr><th>37</th><td>4</td><td>9.67</td><td>C</td><td>5</td></tr><tr><th>38</th><td>8</td><td>10.26</td><td>C</td><td>3</td></tr><tr><th>39</th><td>9</td><td>10.36</td><td>C</td><td>4</td></tr><tr><th>40</th><td>12</td><td>11.8</td><td>C</td><td>3</td></tr><tr><th>41</th><td>8</td><td>10.94</td><td>C</td><td>5</td></tr><tr><th>42</th><td>9</td><td>10.25</td><td>C</td><td>8</td></tr><tr><th>43</th><td>8</td><td>8.74</td><td>C</td><td>14</td></tr><tr><th>44</th><td>6</td><td>10.46</td><td>C</td><td>10</td></tr><tr><th>45</th><td>6</td><td>9.37</td><td>C</td><td>3</td></tr><tr><th>46</th><td>10</td><td>9.74</td><td>C</td><td>4</td></tr><tr><th>47</th><td>10</td><td>8.95</td><td>C</td><td>4</td></tr><tr><th>48</th><td>9</td><td>8.74</td><td>C</td><td>14</td></tr><tr><th>49</th><td>12</td><td>11.32</td><td>C</td><td>13</td></tr><tr><th>50</th><td>6</td><td>9.25</td><td>C</td><td>11</td></tr><tr><th>51</th><td>14</td><td>10.14</td><td>T</td><td>5</td></tr><tr><th>52</th><td>6</td><td>9.05</td><td>T</td><td>13</td></tr><tr><th>53</th><td>7</td><td>9.89</td><td>T</td><td>12</td></tr><tr><th>54</th><td>9</td><td>8.76</td><td>T</td><td>8</td></tr><tr><th>55</th><td>6</td><td>12.04</td><td>T</td><td>8</td></tr><tr><th>56</th><td>7</td><td>9.91</td><td>T</td><td>8</td></tr><tr><th>&vellip;</th><td>&vellip;</td><td>&vellip;</td><td>&vellip;</td><td>&vellip;</td></tr></tbody></table>"
      ],
      "text/latex": [
       "\\begin{tabular}{r|cccc}\n",
       "\t& y & x & f & y\\_rnd\\\\\n",
       "\t\\hline\n",
       "\t& Int64⍰ & Float64⍰ & String⍰ & Int64\\\\\n",
       "\t\\hline\n",
       "\t1 & 6 & 8.31 & C & 9 \\\\\n",
       "\t2 & 6 & 9.44 & C & 12 \\\\\n",
       "\t3 & 6 & 9.5 & C & 9 \\\\\n",
       "\t4 & 12 & 9.07 & C & 7 \\\\\n",
       "\t5 & 10 & 10.16 & C & 6 \\\\\n",
       "\t6 & 4 & 8.32 & C & 7 \\\\\n",
       "\t7 & 9 & 10.61 & C & 6 \\\\\n",
       "\t8 & 9 & 10.06 & C & 4 \\\\\n",
       "\t9 & 9 & 9.93 & C & 8 \\\\\n",
       "\t10 & 11 & 10.43 & C & 9 \\\\\n",
       "\t11 & 6 & 10.36 & C & 6 \\\\\n",
       "\t12 & 10 & 10.15 & C & 7 \\\\\n",
       "\t13 & 6 & 10.92 & C & 7 \\\\\n",
       "\t14 & 10 & 8.85 & C & 10 \\\\\n",
       "\t15 & 11 & 9.42 & C & 6 \\\\\n",
       "\t16 & 8 & 11.11 & C & 4 \\\\\n",
       "\t17 & 3 & 8.02 & C & 12 \\\\\n",
       "\t18 & 8 & 11.93 & C & 12 \\\\\n",
       "\t19 & 5 & 8.55 & C & 5 \\\\\n",
       "\t20 & 5 & 7.19 & C & 10 \\\\\n",
       "\t21 & 4 & 9.83 & C & 8 \\\\\n",
       "\t22 & 11 & 10.79 & C & 7 \\\\\n",
       "\t23 & 5 & 8.89 & C & 13 \\\\\n",
       "\t24 & 10 & 10.09 & C & 6 \\\\\n",
       "\t25 & 6 & 11.63 & C & 3 \\\\\n",
       "\t26 & 6 & 10.21 & C & 6 \\\\\n",
       "\t27 & 7 & 9.45 & C & 12 \\\\\n",
       "\t28 & 9 & 10.44 & C & 7 \\\\\n",
       "\t29 & 3 & 9.44 & C & 6 \\\\\n",
       "\t30 & 10 & 10.48 & C & 9 \\\\\n",
       "\t31 & 2 & 9.43 & C & 6 \\\\\n",
       "\t32 & 9 & 10.32 & C & 8 \\\\\n",
       "\t33 & 10 & 10.33 & C & 7 \\\\\n",
       "\t34 & 5 & 8.5 & C & 5 \\\\\n",
       "\t35 & 11 & 9.41 & C & 10 \\\\\n",
       "\t36 & 10 & 8.96 & C & 14 \\\\\n",
       "\t37 & 4 & 9.67 & C & 5 \\\\\n",
       "\t38 & 8 & 10.26 & C & 3 \\\\\n",
       "\t39 & 9 & 10.36 & C & 4 \\\\\n",
       "\t40 & 12 & 11.8 & C & 3 \\\\\n",
       "\t41 & 8 & 10.94 & C & 5 \\\\\n",
       "\t42 & 9 & 10.25 & C & 8 \\\\\n",
       "\t43 & 8 & 8.74 & C & 14 \\\\\n",
       "\t44 & 6 & 10.46 & C & 10 \\\\\n",
       "\t45 & 6 & 9.37 & C & 3 \\\\\n",
       "\t46 & 10 & 9.74 & C & 4 \\\\\n",
       "\t47 & 10 & 8.95 & C & 4 \\\\\n",
       "\t48 & 9 & 8.74 & C & 14 \\\\\n",
       "\t49 & 12 & 11.32 & C & 13 \\\\\n",
       "\t50 & 6 & 9.25 & C & 11 \\\\\n",
       "\t51 & 14 & 10.14 & T & 5 \\\\\n",
       "\t52 & 6 & 9.05 & T & 13 \\\\\n",
       "\t53 & 7 & 9.89 & T & 12 \\\\\n",
       "\t54 & 9 & 8.76 & T & 8 \\\\\n",
       "\t55 & 6 & 12.04 & T & 8 \\\\\n",
       "\t56 & 7 & 9.91 & T & 8 \\\\\n",
       "\t$\\dots$ & $\\dots$ & $\\dots$ & $\\dots$ & $\\dots$ \\\\\n",
       "\\end{tabular}\n"
      ],
      "text/plain": [
       "100×4 DataFrame\n",
       "│ Row │ y      │ x        │ f       │ y_rnd │\n",
       "│     │ \u001b[90mInt64⍰\u001b[39m │ \u001b[90mFloat64⍰\u001b[39m │ \u001b[90mString⍰\u001b[39m │ \u001b[90mInt64\u001b[39m │\n",
       "├─────┼────────┼──────────┼─────────┼───────┤\n",
       "│ 1   │ 6      │ 8.31     │ C       │ 9     │\n",
       "│ 2   │ 6      │ 9.44     │ C       │ 12    │\n",
       "│ 3   │ 6      │ 9.5      │ C       │ 9     │\n",
       "│ 4   │ 12     │ 9.07     │ C       │ 7     │\n",
       "│ 5   │ 10     │ 10.16    │ C       │ 6     │\n",
       "│ 6   │ 4      │ 8.32     │ C       │ 7     │\n",
       "│ 7   │ 9      │ 10.61    │ C       │ 6     │\n",
       "│ 8   │ 9      │ 10.06    │ C       │ 4     │\n",
       "│ 9   │ 9      │ 9.93     │ C       │ 8     │\n",
       "│ 10  │ 11     │ 10.43    │ C       │ 9     │\n",
       "│ 11  │ 6      │ 10.36    │ C       │ 6     │\n",
       "│ 12  │ 10     │ 10.15    │ C       │ 7     │\n",
       "│ 13  │ 6      │ 10.92    │ C       │ 7     │\n",
       "│ 14  │ 10     │ 8.85     │ C       │ 10    │\n",
       "│ 15  │ 11     │ 9.42     │ C       │ 6     │\n",
       "│ 16  │ 8      │ 11.11    │ C       │ 4     │\n",
       "│ 17  │ 3      │ 8.02     │ C       │ 12    │\n",
       "│ 18  │ 8      │ 11.93    │ C       │ 12    │\n",
       "│ 19  │ 5      │ 8.55     │ C       │ 5     │\n",
       "│ 20  │ 5      │ 7.19     │ C       │ 10    │\n",
       "│ 21  │ 4      │ 9.83     │ C       │ 8     │\n",
       "│ 22  │ 11     │ 10.79    │ C       │ 7     │\n",
       "│ 23  │ 5      │ 8.89     │ C       │ 13    │\n",
       "⋮\n",
       "│ 77  │ 8      │ 11.76    │ T       │ 6     │\n",
       "│ 78  │ 9      │ 9.52     │ T       │ 9     │\n",
       "│ 79  │ 9      │ 10.4     │ T       │ 8     │\n",
       "│ 80  │ 6      │ 9.96     │ T       │ 8     │\n",
       "│ 81  │ 7      │ 10.3     │ T       │ 9     │\n",
       "│ 82  │ 10     │ 11.54    │ T       │ 9     │\n",
       "│ 83  │ 6      │ 9.42     │ T       │ 7     │\n",
       "│ 84  │ 11     │ 11.28    │ T       │ 7     │\n",
       "│ 85  │ 11     │ 9.73     │ T       │ 4     │\n",
       "│ 86  │ 11     │ 10.78    │ T       │ 10    │\n",
       "│ 87  │ 5      │ 10.21    │ T       │ 7     │\n",
       "│ 88  │ 6      │ 10.51    │ T       │ 7     │\n",
       "│ 89  │ 4      │ 10.73    │ T       │ 12    │\n",
       "│ 90  │ 5      │ 8.85     │ T       │ 6     │\n",
       "│ 91  │ 6      │ 11.2     │ T       │ 5     │\n",
       "│ 92  │ 5      │ 9.86     │ T       │ 10    │\n",
       "│ 93  │ 8      │ 11.54    │ T       │ 6     │\n",
       "│ 94  │ 5      │ 10.03    │ T       │ 4     │\n",
       "│ 95  │ 9      │ 11.88    │ T       │ 8     │\n",
       "│ 96  │ 8      │ 9.15     │ T       │ 7     │\n",
       "│ 97  │ 6      │ 8.52     │ T       │ 6     │\n",
       "│ 98  │ 8      │ 10.24    │ T       │ 4     │\n",
       "│ 99  │ 7      │ 10.86    │ T       │ 5     │\n",
       "│ 100 │ 9      │ 9.97     │ T       │ 2     │"
      ]
     },
     "execution_count": 21,
     "metadata": {},
     "output_type": "execute_result"
    }
   ],
   "source": [
    "d"
   ]
  },
  {
   "cell_type": "code",
   "execution_count": 22,
   "metadata": {},
   "outputs": [
    {
     "data": {
      "text/plain": [
       "4.758851470322483"
      ]
     },
     "execution_count": 22,
     "metadata": {},
     "output_type": "execute_result"
    }
   ],
   "source": [
    "fit1 = glm(@formula(y_rnd ~ 1), d, Poisson(), LogLink())\n",
    "fit2 = glm(@formula(y_rnd ~ x), d, Poisson(), LogLink())\n",
    "deviance(fit1) - deviance(fit2)"
   ]
  },
  {
   "cell_type": "markdown",
   "metadata": {},
   "source": [
    "これを1000回くらい繰り返して、ランダム生成したデータの逸脱度の差の平均や標準偏差をみる。単純な方法は以下の`for`を使うやり方。"
   ]
  },
  {
   "cell_type": "code",
   "execution_count": 23,
   "metadata": {},
   "outputs": [],
   "source": [
    "N = 1000\n",
    "dd12 = zeros(N)\n",
    "for n=1:N\n",
    "    d[:y_rnd] = rand(Poisson(mean(d[:y])), 100)\n",
    "    fit1 = glm(@formula(y_rnd ~ 1), d, Poisson(), LogLink())\n",
    "    fit2 = glm(@formula(y_rnd ~ x), d, Poisson(), LogLink())\n",
    "    dd12[n] = deviance(fit1) - deviance(fit2)\n",
    "end"
   ]
  },
  {
   "cell_type": "markdown",
   "metadata": {},
   "source": [
    "p.104のコードをJuliaで書くと以下のようになるだろうか。`replicate()`の代わりにarray comprehensionを使った。"
   ]
  },
  {
   "cell_type": "code",
   "execution_count": 24,
   "metadata": {
    "scrolled": true
   },
   "outputs": [
    {
     "data": {
      "text/plain": [
       "1000-element Array{Float64,1}:\n",
       " 0.06839055370872416 \n",
       " 0.04880997994490599 \n",
       " 4.532695464480554   \n",
       " 0.39306890761984903 \n",
       " 2.5792142759311787  \n",
       " 0.01039657254573001 \n",
       " 1.1468529255133149  \n",
       " 1.2983618040553324  \n",
       " 0.04217905891715645 \n",
       " 0.8217641750176483  \n",
       " 0.2609324943704081  \n",
       " 0.14230921926474593 \n",
       " 1.7082438703121454  \n",
       " 0.015527639944835414\n",
       " 0.4619689665044149  \n",
       " 0.1082840890532708  \n",
       " 0.3278047032947171  \n",
       " 3.6029580791422546  \n",
       " 1.0697302913477387  \n",
       " 0.11296466598311383 \n",
       " 0.05660930909964179 \n",
       " 2.013511489977944   \n",
       " 1.4129559603041315  \n",
       " 1.0410483737468752  \n",
       " 1.9971744383950778  \n",
       " 0.10678448075620395 \n",
       " ⋮                   \n",
       " 0.5955245764344568  \n",
       " 0.45407692928998244 \n",
       " 0.007289312166776085\n",
       " 0.6072963454358131  \n",
       " 1.7503103540690574  \n",
       " 1.5163278576704045  \n",
       " 0.9999916376693108  \n",
       " 0.017780131549699263\n",
       " 0.009402111809492908\n",
       " 0.6456066524455224  \n",
       " 0.13671684091248437 \n",
       " 0.05835297571169917 \n",
       " 0.016807588066967583\n",
       " 1.7984827789919393  \n",
       " 0.7129289731974922  \n",
       " 0.6253043786080781  \n",
       " 0.5158850942439415  \n",
       " 1.933984271423384   \n",
       " 0.2749040381265786  \n",
       " 0.6990679255627725  \n",
       " 0.3138426388039477  \n",
       " 2.51832390238431    \n",
       " 0.58007132618566    \n",
       " 0.05140146627836373 \n",
       " 0.035054543673211924"
      ]
     },
     "execution_count": 24,
     "metadata": {},
     "output_type": "execute_result"
    }
   ],
   "source": [
    "function get_dd(d)\n",
    "    n_sample = nrow(d)\n",
    "    y_mean = mean(d[:y])\n",
    "    d[:y_rnd] = rand(Poisson(mean(d[:y])), 100)\n",
    "    fit1 = glm(@formula(y_rnd ~ 1), d, Poisson(), LogLink())\n",
    "    fit2 = glm(@formula(y_rnd ~ x), d, Poisson(), LogLink())\n",
    "    return(deviance(fit1) - deviance(fit2))\n",
    "end\n",
    "\n",
    "function pb(d, n_bootstrap)\n",
    "    [get_dd(d) for n=1:n_bootstrap]\n",
    "end\n",
    "\n",
    "N = 1000\n",
    "dd12 = pb(d, N)"
   ]
  },
  {
   "cell_type": "code",
   "execution_count": 25,
   "metadata": {},
   "outputs": [
    {
     "name": "stdout",
     "output_type": "stream",
     "text": [
      "Summary Stats:\n",
      "Mean:           0.965717\n",
      "Minimum:        0.000000\n",
      "1st Quartile:   0.090692\n",
      "Median:         0.455606\n",
      "3rd Quartile:   1.375165\n",
      "Maximum:        10.157710\n",
      "Length:         1000\n",
      "Type:           Float64\n"
     ]
    }
   ],
   "source": [
    "describe(dd12)"
   ]
  },
  {
   "cell_type": "code",
   "execution_count": 26,
   "metadata": {},
   "outputs": [
    {
     "data": {
      "image/png": "[encoded data removed]"
     },
     "execution_count": 26,
     "metadata": {},
     "output_type": "execute_result"
    }
   ],
   "source": [
    "histogram(dd12, xlim=[0, 20], legend=false)\n",
    "vline!([deltaD], linestyle=:dash)"
   ]
  },
  {
   "cell_type": "code",
   "execution_count": 27,
   "metadata": {},
   "outputs": [
    {
     "data": {
      "text/plain": [
       "31"
      ]
     },
     "execution_count": 27,
     "metadata": {},
     "output_type": "execute_result"
    }
   ],
   "source": [
    "sum(dd12 .>= deltaD)"
   ]
  },
  {
   "cell_type": "code",
   "execution_count": 28,
   "metadata": {},
   "outputs": [
    {
     "data": {
      "text/plain": [
       "0.031"
      ]
     },
     "execution_count": 28,
     "metadata": {},
     "output_type": "execute_result"
    }
   ],
   "source": [
    "p_value = sum(dd12 .>= deltaD) / length(dd12)"
   ]
  },
  {
   "cell_type": "code",
   "execution_count": 29,
   "metadata": {},
   "outputs": [
    {
     "data": {
      "text/plain": [
       "3.5225218499664783"
      ]
     },
     "execution_count": 29,
     "metadata": {},
     "output_type": "execute_result"
    }
   ],
   "source": [
    "α = 0.05\n",
    "quantile(dd12, 1-α)"
   ]
  },
  {
   "cell_type": "markdown",
   "metadata": {},
   "source": [
    "有意水準5%では上記の数値くらいまでの逸脱度の差は「よくある差」だと判断できる。"
   ]
  },
  {
   "cell_type": "markdown",
   "metadata": {},
   "source": [
    "### 3.4.2 方法(2) カイ二乗分布を使った近似計算法\n",
    "\n",
    "JuliaにRのようなANOVAは無さそうなので、コード例をそのままJuliaに移植することはできない。でもカイ二乗分布の累積分布関数を使ってp値を求めることはできる。"
   ]
  },
  {
   "cell_type": "code",
   "execution_count": 30,
   "metadata": {},
   "outputs": [
    {
     "data": {
      "text/plain": [
       "0.03361969100898521"
      ]
     },
     "execution_count": 30,
     "metadata": {},
     "output_type": "execute_result"
    }
   ],
   "source": [
    "fit1 = glm(@formula(y ~ 1), d, Poisson(), LogLink())\n",
    "fit2 = glm(@formula(y ~ x), d, Poisson(), LogLink())\n",
    "dd12 = deviance(fit1) - deviance(fit2)\n",
    "1 - cdf(Chisq(1), dd12)"
   ]
  }
 ],
 "metadata": {
  "kernelspec": {
   "display_name": "Julia 1.1.0",
   "language": "julia",
   "name": "julia-1.1"
  },
  "language_info": {
   "file_extension": ".jl",
   "mimetype": "application/julia",
   "name": "julia",
   "version": "1.1.0"
  }
 },
 "nbformat": 4,
 "nbformat_minor": 2
}
