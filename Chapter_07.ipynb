{
 "cells": [
  {
   "cell_type": "markdown",
   "metadata": {},
   "source": [
    "久保拓弥『データ解析のための統計モデリング入門』をJuliaでやってみます。\n",
    "\n",
    "* 久保さんの書籍ページ：http://hosho.ees.hokudai.ac.jp/~kubo/ce/IwanamiBook.html\n",
    "* Amazon.co.jp：https://amzn.to/2Cg5vDJ\n",
    "\n",
    "# 第7章「一般化線形混合モデル（GLMM） ---個体差のモデリング---」（途中）\n",
    "\n",
    "* http://dmbates.github.io/MixedModels.jl/stable/"
   ]
  },
  {
   "cell_type": "code",
   "execution_count": 1,
   "metadata": {},
   "outputs": [
    {
     "name": "stdout",
     "output_type": "stream",
     "text": [
      "Julia Version 1.4.2\n",
      "Commit 44fa15b150* (2020-05-23 18:35 UTC)\n",
      "Platform Info:\n",
      "  OS: macOS (x86_64-apple-darwin18.7.0)\n",
      "  CPU: Intel(R) Core(TM) i7-7920HQ CPU @ 3.10GHz\n",
      "  WORD_SIZE: 64\n",
      "  LIBM: libopenlibm\n",
      "  LLVM: libLLVM-8.0.1 (ORCJIT, skylake)\n"
     ]
    }
   ],
   "source": [
    "using DataFrames\n",
    "using CSV\n",
    "using Distributions\n",
    "using GLM\n",
    "using Plots\n",
    "pyplot()\n",
    "using StatsPlots\n",
    "using MixedModels\n",
    "versioninfo()"
   ]
  },
  {
   "cell_type": "markdown",
   "metadata": {},
   "source": [
    "## 7.1 例題：GLMでは説明できないカウントデータ"
   ]
  },
  {
   "cell_type": "code",
   "execution_count": 2,
   "metadata": {
    "scrolled": true
   },
   "outputs": [
    {
     "data": {
      "text/html": [
       "<table class=\"data-frame\"><thead><tr><th></th><th>variable</th><th>mean</th><th>min</th><th>median</th><th>max</th><th>nunique</th><th>nmissing</th><th>eltype</th></tr><tr><th></th><th>Symbol</th><th>Float64</th><th>Int64</th><th>Float64</th><th>Int64</th><th>Nothing</th><th>Nothing</th><th>DataType</th></tr></thead><tbody><p>4 rows × 8 columns</p><tr><th>1</th><td>N</td><td>8.0</td><td>8</td><td>8.0</td><td>8</td><td></td><td></td><td>Int64</td></tr><tr><th>2</th><td>y</td><td>3.81</td><td>0</td><td>3.0</td><td>8</td><td></td><td></td><td>Int64</td></tr><tr><th>3</th><td>x</td><td>4.0</td><td>2</td><td>4.0</td><td>6</td><td></td><td></td><td>Int64</td></tr><tr><th>4</th><td>id</td><td>50.5</td><td>1</td><td>50.5</td><td>100</td><td></td><td></td><td>Int64</td></tr></tbody></table>"
      ],
      "text/latex": [
       "\\begin{tabular}{r|cccccccc}\n",
       "\t& variable & mean & min & median & max & nunique & nmissing & eltype\\\\\n",
       "\t\\hline\n",
       "\t& Symbol & Float64 & Int64 & Float64 & Int64 & Nothing & Nothing & DataType\\\\\n",
       "\t\\hline\n",
       "\t1 & N & 8.0 & 8 & 8.0 & 8 &  &  & Int64 \\\\\n",
       "\t2 & y & 3.81 & 0 & 3.0 & 8 &  &  & Int64 \\\\\n",
       "\t3 & x & 4.0 & 2 & 4.0 & 6 &  &  & Int64 \\\\\n",
       "\t4 & id & 50.5 & 1 & 50.5 & 100 &  &  & Int64 \\\\\n",
       "\\end{tabular}\n"
      ],
      "text/plain": [
       "4×8 DataFrame\n",
       "│ Row │ variable │ mean    │ min   │ median  │ max   │ nunique │ nmissing │ eltype   │\n",
       "│     │ \u001b[90mSymbol\u001b[39m   │ \u001b[90mFloat64\u001b[39m │ \u001b[90mInt64\u001b[39m │ \u001b[90mFloat64\u001b[39m │ \u001b[90mInt64\u001b[39m │ \u001b[90mNothing\u001b[39m │ \u001b[90mNothing\u001b[39m  │ \u001b[90mDataType\u001b[39m │\n",
       "├─────┼──────────┼─────────┼───────┼─────────┼───────┼─────────┼──────────┼──────────┤\n",
       "│ 1   │ N        │ 8.0     │ 8     │ 8.0     │ 8     │         │          │ Int64    │\n",
       "│ 2   │ y        │ 3.81    │ 0     │ 3.0     │ 8     │         │          │ Int64    │\n",
       "│ 3   │ x        │ 4.0     │ 2     │ 4.0     │ 6     │         │          │ Int64    │\n",
       "│ 4   │ id       │ 50.5    │ 1     │ 50.5    │ 100   │         │          │ Int64    │"
      ]
     },
     "execution_count": 2,
     "metadata": {},
     "output_type": "execute_result"
    }
   ],
   "source": [
    "d = CSV.read(\"data.csv\", DataFrame)\n",
    "describe(d)"
   ]
  },
  {
   "cell_type": "code",
   "execution_count": 3,
   "metadata": {},
   "outputs": [
    {
     "data": {
      "image/png": "[encoded data removed]"
     },
     "execution_count": 3,
     "metadata": {},
     "output_type": "execute_result"
    }
   ],
   "source": [
    "# Rでいうところのjitter()のためにrandn()を使っている\n",
    "@df d scatter(:x .+ randn(size(:x))/20, :y,\n",
    "    xlabel=\"number of leaves x_i\", ylabel=\"number of seeds y_i\", legend=false)"
   ]
  },
  {
   "cell_type": "markdown",
   "metadata": {},
   "source": [
    "このデータについて、\n",
    "$$\\mathrm{logit}\\left(q_i\\right) = \\beta_1 + \\beta_2 x_i $$\n",
    "$$p\\left(y_i | \\beta_1, \\beta_2\\right) = \\binom{8}{y_i} q_i^{y_i}\\left(1-q_i\\right)^{8 - y_i} $$\n",
    "を使ってパラメータ$\\beta_1$と$\\beta_2$の最尤推定を行う。"
   ]
  },
  {
   "cell_type": "code",
   "execution_count": 4,
   "metadata": {},
   "outputs": [
    {
     "data": {
      "text/plain": [
       "StatsModels.TableRegressionModel{GeneralizedLinearModel{GLM.GlmResp{Array{Float64,1},Binomial{Float64},LogitLink},GLM.DensePredChol{Float64,LinearAlgebra.Cholesky{Float64,Array{Float64,2}}}},Array{Float64,2}}\n",
       "\n",
       "y_ratio ~ 1 + x\n",
       "\n",
       "Coefficients:\n",
       "─────────────────────────────────────────────────────────────────────────\n",
       "                 Coef.  Std. Error      z  Pr(>|z|)  Lower 95%  Upper 95%\n",
       "─────────────────────────────────────────────────────────────────────────\n",
       "(Intercept)  -2.14874     0.670999  -3.20    0.0014   -3.46388  -0.833612\n",
       "x             0.510381    0.157268   3.25    0.0012    0.20214   0.818621\n",
       "─────────────────────────────────────────────────────────────────────────"
      ]
     },
     "execution_count": 4,
     "metadata": {},
     "output_type": "execute_result"
    }
   ],
   "source": [
    "d[!, :y_ratio] = d[!, :y] ./ 8;\n",
    "fit1 = glm(@formula(y_ratio ~ x), d, Binomial(), LogitLink())"
   ]
  },
  {
   "cell_type": "code",
   "execution_count": 5,
   "metadata": {},
   "outputs": [
    {
     "data": {
      "image/png": "[encoded data removed]"
     },
     "execution_count": 5,
     "metadata": {},
     "output_type": "execute_result"
    }
   ],
   "source": [
    "@df d scatter(:x .+ randn(size(:x))/20, :y,\n",
    "    xlabel=\"number of leaves x_i\", ylabel=\"number of seeds y_i\", legend=false)\n",
    "\n",
    "b1 = -2.14874\n",
    "b2 = 0.510381\n",
    "theta = 1 / b2\n",
    "mu = -b1 * theta\n",
    "\n",
    "newx = range(2.0, stop=6.0, step=0.1)\n",
    "plot!(newx, cdf.(Logistic(mu, theta), newx) * 8)"
   ]
  },
  {
   "cell_type": "markdown",
   "metadata": {},
   "source": [
    "パラメータ推定したものの、モデルのあてはまりが悪い。これはデータのばらつきが大きいから。"
   ]
  },
  {
   "cell_type": "markdown",
   "metadata": {},
   "source": [
    "## 7.2 過分散と個体差\n",
    "\n",
    "### 7.2.1 過分散：ばらつきが大きすぎる\n",
    "\n",
    "期待されるよりも大きなばらつきのことを**過分散** (_over dispersion_) という。"
   ]
  },
  {
   "cell_type": "code",
   "execution_count": 6,
   "metadata": {
    "scrolled": false
   },
   "outputs": [
    {
     "data": {
      "text/html": [
       "<table class=\"data-frame\"><thead><tr><th></th><th>N</th><th>y</th><th>x</th><th>id</th><th>y_ratio</th></tr><tr><th></th><th>Int64</th><th>Int64</th><th>Int64</th><th>Int64</th><th>Float64</th></tr></thead><tbody><p>20 rows × 5 columns</p><tr><th>1</th><td>8</td><td>6</td><td>4</td><td>41</td><td>0.75</td></tr><tr><th>2</th><td>8</td><td>2</td><td>4</td><td>42</td><td>0.25</td></tr><tr><th>3</th><td>8</td><td>0</td><td>4</td><td>43</td><td>0.0</td></tr><tr><th>4</th><td>8</td><td>5</td><td>4</td><td>44</td><td>0.625</td></tr><tr><th>5</th><td>8</td><td>6</td><td>4</td><td>45</td><td>0.75</td></tr><tr><th>6</th><td>8</td><td>2</td><td>4</td><td>46</td><td>0.25</td></tr><tr><th>7</th><td>8</td><td>8</td><td>4</td><td>47</td><td>1.0</td></tr><tr><th>8</th><td>8</td><td>2</td><td>4</td><td>48</td><td>0.25</td></tr><tr><th>9</th><td>8</td><td>7</td><td>4</td><td>49</td><td>0.875</td></tr><tr><th>10</th><td>8</td><td>7</td><td>4</td><td>50</td><td>0.875</td></tr><tr><th>11</th><td>8</td><td>8</td><td>4</td><td>51</td><td>1.0</td></tr><tr><th>12</th><td>8</td><td>0</td><td>4</td><td>52</td><td>0.0</td></tr><tr><th>13</th><td>8</td><td>4</td><td>4</td><td>53</td><td>0.5</td></tr><tr><th>14</th><td>8</td><td>7</td><td>4</td><td>54</td><td>0.875</td></tr><tr><th>15</th><td>8</td><td>3</td><td>4</td><td>55</td><td>0.375</td></tr><tr><th>16</th><td>8</td><td>1</td><td>4</td><td>56</td><td>0.125</td></tr><tr><th>17</th><td>8</td><td>3</td><td>4</td><td>57</td><td>0.375</td></tr><tr><th>18</th><td>8</td><td>2</td><td>4</td><td>58</td><td>0.25</td></tr><tr><th>19</th><td>8</td><td>8</td><td>4</td><td>59</td><td>1.0</td></tr><tr><th>20</th><td>8</td><td>0</td><td>4</td><td>60</td><td>0.0</td></tr></tbody></table>"
      ],
      "text/latex": [
       "\\begin{tabular}{r|ccccc}\n",
       "\t& N & y & x & id & y\\_ratio\\\\\n",
       "\t\\hline\n",
       "\t& Int64 & Int64 & Int64 & Int64 & Float64\\\\\n",
       "\t\\hline\n",
       "\t1 & 8 & 6 & 4 & 41 & 0.75 \\\\\n",
       "\t2 & 8 & 2 & 4 & 42 & 0.25 \\\\\n",
       "\t3 & 8 & 0 & 4 & 43 & 0.0 \\\\\n",
       "\t4 & 8 & 5 & 4 & 44 & 0.625 \\\\\n",
       "\t5 & 8 & 6 & 4 & 45 & 0.75 \\\\\n",
       "\t6 & 8 & 2 & 4 & 46 & 0.25 \\\\\n",
       "\t7 & 8 & 8 & 4 & 47 & 1.0 \\\\\n",
       "\t8 & 8 & 2 & 4 & 48 & 0.25 \\\\\n",
       "\t9 & 8 & 7 & 4 & 49 & 0.875 \\\\\n",
       "\t10 & 8 & 7 & 4 & 50 & 0.875 \\\\\n",
       "\t11 & 8 & 8 & 4 & 51 & 1.0 \\\\\n",
       "\t12 & 8 & 0 & 4 & 52 & 0.0 \\\\\n",
       "\t13 & 8 & 4 & 4 & 53 & 0.5 \\\\\n",
       "\t14 & 8 & 7 & 4 & 54 & 0.875 \\\\\n",
       "\t15 & 8 & 3 & 4 & 55 & 0.375 \\\\\n",
       "\t16 & 8 & 1 & 4 & 56 & 0.125 \\\\\n",
       "\t17 & 8 & 3 & 4 & 57 & 0.375 \\\\\n",
       "\t18 & 8 & 2 & 4 & 58 & 0.25 \\\\\n",
       "\t19 & 8 & 8 & 4 & 59 & 1.0 \\\\\n",
       "\t20 & 8 & 0 & 4 & 60 & 0.0 \\\\\n",
       "\\end{tabular}\n"
      ],
      "text/plain": [
       "20×5 DataFrame\n",
       "│ Row │ N     │ y     │ x     │ id    │ y_ratio │\n",
       "│     │ \u001b[90mInt64\u001b[39m │ \u001b[90mInt64\u001b[39m │ \u001b[90mInt64\u001b[39m │ \u001b[90mInt64\u001b[39m │ \u001b[90mFloat64\u001b[39m │\n",
       "├─────┼───────┼───────┼───────┼───────┼─────────┤\n",
       "│ 1   │ 8     │ 6     │ 4     │ 41    │ 0.75    │\n",
       "│ 2   │ 8     │ 2     │ 4     │ 42    │ 0.25    │\n",
       "│ 3   │ 8     │ 0     │ 4     │ 43    │ 0.0     │\n",
       "│ 4   │ 8     │ 5     │ 4     │ 44    │ 0.625   │\n",
       "│ 5   │ 8     │ 6     │ 4     │ 45    │ 0.75    │\n",
       "│ 6   │ 8     │ 2     │ 4     │ 46    │ 0.25    │\n",
       "│ 7   │ 8     │ 8     │ 4     │ 47    │ 1.0     │\n",
       "│ 8   │ 8     │ 2     │ 4     │ 48    │ 0.25    │\n",
       "│ 9   │ 8     │ 7     │ 4     │ 49    │ 0.875   │\n",
       "│ 10  │ 8     │ 7     │ 4     │ 50    │ 0.875   │\n",
       "│ 11  │ 8     │ 8     │ 4     │ 51    │ 1.0     │\n",
       "│ 12  │ 8     │ 0     │ 4     │ 52    │ 0.0     │\n",
       "│ 13  │ 8     │ 4     │ 4     │ 53    │ 0.5     │\n",
       "│ 14  │ 8     │ 7     │ 4     │ 54    │ 0.875   │\n",
       "│ 15  │ 8     │ 3     │ 4     │ 55    │ 0.375   │\n",
       "│ 16  │ 8     │ 1     │ 4     │ 56    │ 0.125   │\n",
       "│ 17  │ 8     │ 3     │ 4     │ 57    │ 0.375   │\n",
       "│ 18  │ 8     │ 2     │ 4     │ 58    │ 0.25    │\n",
       "│ 19  │ 8     │ 8     │ 4     │ 59    │ 1.0     │\n",
       "│ 20  │ 8     │ 0     │ 4     │ 60    │ 0.0     │"
      ]
     },
     "execution_count": 6,
     "metadata": {},
     "output_type": "execute_result"
    }
   ],
   "source": [
    "d4 = d[d[!, :x] .== 4, :]"
   ]
  },
  {
   "cell_type": "code",
   "execution_count": 12,
   "metadata": {},
   "outputs": [
    {
     "data": {
      "text/html": [
       "<table class=\"data-frame\"><thead><tr><th></th><th>y</th><th>nrow</th></tr><tr><th></th><th>Int64</th><th>Int64</th></tr></thead><tbody><p>9 rows × 2 columns</p><tr><th>1</th><td>0</td><td>3</td></tr><tr><th>2</th><td>1</td><td>1</td></tr><tr><th>3</th><td>2</td><td>4</td></tr><tr><th>4</th><td>3</td><td>2</td></tr><tr><th>5</th><td>4</td><td>1</td></tr><tr><th>6</th><td>5</td><td>1</td></tr><tr><th>7</th><td>6</td><td>2</td></tr><tr><th>8</th><td>7</td><td>3</td></tr><tr><th>9</th><td>8</td><td>3</td></tr></tbody></table>"
      ],
      "text/latex": [
       "\\begin{tabular}{r|cc}\n",
       "\t& y & nrow\\\\\n",
       "\t\\hline\n",
       "\t& Int64 & Int64\\\\\n",
       "\t\\hline\n",
       "\t1 & 0 & 3 \\\\\n",
       "\t2 & 1 & 1 \\\\\n",
       "\t3 & 2 & 4 \\\\\n",
       "\t4 & 3 & 2 \\\\\n",
       "\t5 & 4 & 1 \\\\\n",
       "\t6 & 5 & 1 \\\\\n",
       "\t7 & 6 & 2 \\\\\n",
       "\t8 & 7 & 3 \\\\\n",
       "\t9 & 8 & 3 \\\\\n",
       "\\end{tabular}\n"
      ],
      "text/plain": [
       "9×2 DataFrame\n",
       "│ Row │ y     │ nrow  │\n",
       "│     │ \u001b[90mInt64\u001b[39m │ \u001b[90mInt64\u001b[39m │\n",
       "├─────┼───────┼───────┤\n",
       "│ 1   │ 0     │ 3     │\n",
       "│ 2   │ 1     │ 1     │\n",
       "│ 3   │ 2     │ 4     │\n",
       "│ 4   │ 3     │ 2     │\n",
       "│ 5   │ 4     │ 1     │\n",
       "│ 6   │ 5     │ 1     │\n",
       "│ 7   │ 6     │ 2     │\n",
       "│ 8   │ 7     │ 3     │\n",
       "│ 9   │ 8     │ 3     │"
      ]
     },
     "execution_count": 12,
     "metadata": {},
     "output_type": "execute_result"
    }
   ],
   "source": [
    "by(d4, :y, nrow, sort=true)"
   ]
  },
  {
   "cell_type": "code",
   "execution_count": 8,
   "metadata": {},
   "outputs": [
    {
     "data": {
      "text/plain": [
       "2-element Array{Float64,1}:\n",
       " 4.05\n",
       " 8.36578947368421"
      ]
     },
     "execution_count": 8,
     "metadata": {},
     "output_type": "execute_result"
    }
   ],
   "source": [
    "[mean(d4[!, :y]), var(d4[!, :y])]"
   ]
  },
  {
   "cell_type": "markdown",
   "metadata": {},
   "source": [
    "上記より生存確率は$4.05\\div 8 \\approx 0.5$と考えられるが、個数$n$・確率$p$のときの二項分布の平均は$np$・分散は$np\\left(1-p\\right)$なので、分散は$8 \\times 0.5 \\times \\left(1-0.5\\right)=2.0$となるのが想定される。しかし分散は8.37とかなり大きい。"
   ]
  },
  {
   "cell_type": "markdown",
   "metadata": {},
   "source": [
    "## 7.3 一般化線形混合モデル\n",
    "\n",
    "### 7.3.1 個体差をあらわすパラメーターの追加（p.151）\n",
    "\n",
    "$$ \\mathrm{logit}\\left(q_i\\right) = \\beta_1 + \\beta_2 x_i + r_i $$"
   ]
  }
 ],
 "metadata": {
  "@webio": {
   "lastCommId": null,
   "lastKernelId": null
  },
  "kernel_info": {
   "name": "julia-1.1"
  },
  "kernelspec": {
   "display_name": "Julia 1.4.2",
   "language": "julia",
   "name": "julia-1.4"
  },
  "language_info": {
   "file_extension": ".jl",
   "mimetype": "application/julia",
   "name": "julia",
   "version": "1.4.2"
  },
  "nteract": {
   "version": "0.12.3"
  }
 },
 "nbformat": 4,
 "nbformat_minor": 4
}
